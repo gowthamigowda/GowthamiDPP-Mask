{
 "cells": [
  {
   "cell_type": "markdown",
   "metadata": {},
   "source": [
    "**Maintaining Data Privacy in Association Rule Mining**\n",
    "\n",
    "Gowthami Ramakrishnegowda : S5056130"
   ]
  },
  {
   "cell_type": "markdown",
   "metadata": {},
   "source": [
    "**Introduction:**\n",
    "\n",
    "The MASK approach is introduced in this study to address the difficulty of ensuring data privacy in association rule mining. MASK's goal is to encourage correct data input while protecting user privacy using probabilistic distortion techniques. Unlike previous approaches, MASK may be deployed at the user level, eliminating dependency on third parties. The article demonstrates MASK's efficacy by analysing actual and synthetic datasets, emphasising its potential for balancing privacy with accuracy."
   ]
  },
  {
   "cell_type": "markdown",
   "metadata": {},
   "source": [
    "**Database Model:**\n",
    "\n",
    "The problem framework describes a database model where each customer's data is represented as a fixed-length sequence of 1's and 0's, akin to a market-basket database. In this database, 1 represents a purchase, and 0 represents no purchase. The database is sparse, with significantly more 0's than 1's due to the nature of customer transactions. While the data may be physically stored as item-lists, for distortion purposes, it is assumed to be stored as bit-vectors. This choice accommodates potential changes in sparsity due to distortion."
   ]
  },
  {
   "cell_type": "markdown",
   "metadata": {},
   "source": [
    "Step 1: Generate a sample database"
   ]
  },
  {
   "cell_type": "code",
   "execution_count": 467,
   "metadata": {},
   "outputs": [
    {
     "data": {
      "text/plain": [
       "array([[1, 0, 1, 1, 1],\n",
       "       [0, 0, 0, 0, 1],\n",
       "       [0, 0, 0, 0, 1],\n",
       "       [0, 0, 0, 0, 0],\n",
       "       [1, 0, 0, 1, 0],\n",
       "       [1, 1, 1, 1, 1],\n",
       "       [1, 0, 1, 0, 1],\n",
       "       [0, 1, 0, 1, 0],\n",
       "       [0, 0, 1, 0, 1],\n",
       "       [0, 1, 1, 0, 0]])"
      ]
     },
     "execution_count": 467,
     "metadata": {},
     "output_type": "execute_result"
    }
   ],
   "source": [
    "import numpy as np\n",
    "\n",
    "# Generate a sample database matrix\n",
    "def generate_database(num_customers, sequence_length):\n",
    "    return np.random.choice([0, 1], size=(num_customers, sequence_length))\n",
    "\n",
    "num_customers = 10\n",
    "sequence_length = 5\n",
    "database = generate_database(num_customers, sequence_length)\n",
    "database\n"
   ]
  },
  {
   "cell_type": "markdown",
   "metadata": {},
   "source": [
    "**Mining Objectives**\n",
    "\n",
    "The mining goal is to derive association rules from the database. These rules have the form X =⇒ Y, where X and Y are subsets of items and X ∩ Y = φ. Each rule has support (frequency) and confidence factors, represented by s and c, respectively. Support implies statistical significance, whereas confidence evaluates the rule's strength. An \"interesting\" rule exceeds the user-defined criteria for support (supmin) and confidence (conmin). The goal is to rapidly identify all frequent itemsets with support larger than supmin, as they indicate intriguing rules. This purpose is consistent with identifying subgroups of items that meet the support level."
   ]
  },
  {
   "cell_type": "markdown",
   "metadata": {},
   "source": [
    "Step 2: Define Mining Objectives"
   ]
  },
  {
   "cell_type": "code",
   "execution_count": 468,
   "metadata": {},
   "outputs": [],
   "source": [
    "# Function to compute association rules\n",
    "def compute_association_rules(database, min_support):\n",
    "    num_customers, num_items = database.shape\n",
    "    itemsets = [frozenset([i]) for i in range(num_items)]\n",
    "    frequent_itemsets = {itemset: sum(all(database[:, j] == 1) for j in itemset) for itemset in itemsets}\n",
    "\n",
    "    for k in range(2, num_items + 1):\n",
    "        new_itemsets = [itemset.union({i}) for itemset in frequent_itemsets.keys() for i in range(num_items) if i not in itemset]\n",
    "        new_frequent_itemsets = {}\n",
    "\n",
    "        for itemset in new_itemsets:\n",
    "            support = sum(all(database[:, j] == 1) for j in itemset)\n",
    "            if support >= min_support * num_customers:\n",
    "                new_frequent_itemsets[itemset] = support\n",
    "\n",
    "        frequent_itemsets = new_frequent_itemsets\n",
    "\n",
    "    association_rules = []\n",
    "    for itemset, support in frequent_itemsets.items():\n",
    "        for i in range(1, len(itemset)):\n",
    "            antecedent = frozenset(itemset - {list(itemset)[i]})\n",
    "            confidence = support / frequent_itemsets[antecedent]\n",
    "            if confidence >= min_confidence:\n",
    "                association_rules.append((antecedent, itemset - antecedent, support, confidence))\n",
    "\n",
    "    return association_rules\n",
    "\n",
    "#  call the function with the corrected number of arguments\n",
    "association_rules = compute_association_rules(genre_matrix, min_support)\n",
    "\n",
    "# Print the computed association rules\n",
    "for rule in association_rules:\n",
    "    print(f\"Rule: {rule[0]} => {rule[1]}, Support: {rule[2]}, Confidence: {rule[3]}\")\n",
    "\n"
   ]
  },
  {
   "cell_type": "markdown",
   "metadata": {},
   "source": [
    "**Privacy Metric**\n",
    "\n",
    "The privacy metric in this article is based on the likelihood of recovering corrupted user data. It analyses privacy at the individual entry level inside customer tuples, with the goal of ensuring privacy for both 1s and 0s. However, it recognises that consumers may prioritise privacy for their 1's (indicating explicit actions) over their 0's (representing default possibilities), particularly in applications such as market-basket databases."
   ]
  },
  {
   "cell_type": "markdown",
   "metadata": {},
   "source": [
    "Step 3: Introduce Privacy Metric"
   ]
  },
  {
   "cell_type": "code",
   "execution_count": 469,
   "metadata": {},
   "outputs": [
    {
     "data": {
      "text/plain": [
       "0.8"
      ]
     },
     "execution_count": 469,
     "metadata": {},
     "output_type": "execute_result"
    }
   ],
   "source": [
    "# Distort user data for privacy\n",
    "def distort_user_data(database, privacy_factor):\n",
    "    distorted_database = database.copy()\n",
    "    num_customers, sequence_length = database.shape\n",
    "\n",
    "    for i in range(num_customers):\n",
    "        for j in range(sequence_length):\n",
    "            # Distort the entry with the given privacy factor\n",
    "            if np.random.rand() > privacy_factor:\n",
    "                distorted_database[i, j] = 1 - distorted_database[i, j]\n",
    "\n",
    "    return distorted_database\n",
    "\n",
    "# Privacy Metric: Reconstruct probability for a given 1 or 0 in the true matrix\n",
    "def compute_reconstruction_probability(true_value, distorted_value, privacy_factor):\n",
    "    if true_value == distorted_value:\n",
    "        return 1 - privacy_factor\n",
    "    else:\n",
    "        return privacy_factor\n",
    "\n",
    "privacy_factor = 0.2\n",
    "distorted_database = distort_user_data(database, privacy_factor)\n",
    "distorted_database\n",
    "\n",
    "# Compute reconstruction probability for a specific entry\n",
    "sample_user = 0\n",
    "sample_entry = 2\n",
    "true_value = database[sample_user, sample_entry]\n",
    "distorted_value = distorted_database[sample_user, sample_entry]\n",
    "reconstruction_probability = compute_reconstruction_probability(true_value, distorted_value, privacy_factor)\n",
    "reconstruction_probability\n"
   ]
  },
  {
   "cell_type": "markdown",
   "metadata": {},
   "source": [
    "Step 4: Synthesize Information"
   ]
  },
  {
   "cell_type": "code",
   "execution_count": 470,
   "metadata": {},
   "outputs": [
    {
     "name": "stdout",
     "output_type": "stream",
     "text": [
      "Original Database:\n",
      "[[1 0 1 1 1]\n",
      " [0 0 0 0 1]\n",
      " [0 0 0 0 1]\n",
      " [0 0 0 0 0]\n",
      " [1 0 0 1 0]\n",
      " [1 1 1 1 1]\n",
      " [1 0 1 0 1]\n",
      " [0 1 0 1 0]\n",
      " [0 0 1 0 1]\n",
      " [0 1 1 0 0]]\n",
      "\n",
      "Distorted Database:\n",
      "[[0 1 1 0 0]\n",
      " [1 0 0 1 0]\n",
      " [1 1 1 0 0]\n",
      " [1 1 1 0 1]\n",
      " [0 1 1 0 1]\n",
      " [0 0 0 1 0]\n",
      " [0 1 0 1 1]\n",
      " [1 0 1 0 1]\n",
      " [1 1 0 1 0]\n",
      " [1 0 0 1 0]]\n"
     ]
    }
   ],
   "source": [
    "# Display the Boolean representation of the original and distorted databases using bit-vectors\n",
    "def display_bit_vectors(original_database, distorted_database):\n",
    "    print(\"Original Database:\")\n",
    "    print(original_database)\n",
    "    print(\"\\nDistorted Database:\")\n",
    "    print(distorted_database)\n",
    "\n",
    "display_bit_vectors(database, distorted_database)\n"
   ]
  },
  {
   "cell_type": "markdown",
   "metadata": {},
   "source": [
    "Step 6: Understand the Distortion Procedure\n"
   ]
  },
  {
   "cell_type": "code",
   "execution_count": 471,
   "metadata": {},
   "outputs": [
    {
     "data": {
      "text/plain": [
       "array([0.4, 0.3, 0.5, 0.4, 0.6])"
      ]
     },
     "execution_count": 471,
     "metadata": {},
     "output_type": "execute_result"
    }
   ],
   "source": [
    "# Distortion Procedure: Yi=Xi⊕ri, where ri is a random variable with f(r)=bernoulli(p).\n",
    "def distort_entry(original_entry, privacy_factor):\n",
    "    \n",
    "    # Distortion procedure\n",
    "    random_variable = np.random.choice([0, 1], p=[1 - privacy_factor, privacy_factor])\n",
    "    distorted_entry = original_entry ^ random_variable\n",
    "    return distorted_entry\n",
    "\n",
    "\n",
    "original_entry = 1\n",
    "distorted_entry = distort_entry(original_entry, privacy_factor)\n",
    "distorted_entry\n",
    "\n",
    "# Step 7: Quantify Privacy - Reconstruction Probability of a 1\n",
    "\n",
    "# 7.1 Reconstruction Probability Formulas\n",
    "def compute_reconstruction_probability_1(p, si):\n",
    "    # Pr{Xi=1∣Yi=1}\n",
    "    pr_x1_given_y1 = si * p / (si * p + (1 - si) * (1 - p))\n",
    "    # Pr{Xi=1∣Yi=0}\n",
    "    pr_x1_given_y0 = si * (1 - p) / (si * (1 - p) + (1 - si) * p)\n",
    "    \n",
    "    # R1(p, si)\n",
    "    return p * pr_x1_given_y1 + (1 - p) * pr_x1_given_y0\n",
    "\n",
    "# 7.2 Reconstruction Probability for all entries\n",
    "def compute_reconstruction_probability_for_all(database, privacy_factor):\n",
    "   \n",
    "    num_customers, sequence_length = database.shape\n",
    "    reconstruction_probabilities = np.zeros(sequence_length)\n",
    "    \n",
    "    for j in range(sequence_length):\n",
    "        si_values = database[:, j]\n",
    "        reconstruction_prob_j = np.sum([compute_reconstruction_probability_1(privacy_factor, si) for si in si_values]) / num_customers\n",
    "        reconstruction_probabilities[j] = reconstruction_prob_j\n",
    "    \n",
    "    return reconstruction_probabilities\n",
    "\n",
    "reconstruction_probabilities = compute_reconstruction_probability_for_all(database, privacy_factor)\n",
    "reconstruction_probabilities\n"
   ]
  },
  {
   "cell_type": "markdown",
   "metadata": {},
   "source": [
    "**Quantifying MASK’s Privacy**\n"
   ]
  },
  {
   "cell_type": "markdown",
   "metadata": {},
   "source": [
    "The MASK scheme's distortion procedure involves generating a distorted vector Y from the original customer tuple X using a random variable ri with a density function f(r) = bernoulli(p). Each element in Y is computed as Yi = Xi XOR ri, preserving the identity of the element with probability p and flipping it with probability (1 − p). This distortion is applied to all customer tuples, creating a probabilistic representation of the true database for the miner. Privacy is quantified by analyzing the probability of reconstructing the original 1's in the distorted database, initially considering maximum privacy for 1's and later extending to include privacy concerns for both 1's and 0's. It is noted that these privacy estimates do not account for potential privacy reduction when using the mining output to re-interrogate the distorted database, a topic for future investigation."
   ]
  },
  {
   "cell_type": "code",
   "execution_count": 472,
   "metadata": {},
   "outputs": [
    {
     "data": {
      "image/png": "[encoded data removed]",
      "text/plain": [
       "<Figure size 432x288 with 1 Axes>"
      ]
     },
     "metadata": {
      "needs_background": "light"
     },
     "output_type": "display_data"
    }
   ],
   "source": [
    "# Quantifying MASK’s Privacy\n",
    "\n",
    "import numpy as np\n",
    "\n",
    "# Function to calculate the reconstruction probability of a '1' for a single item\n",
    "def reconstruction_probability_1(p, si):\n",
    "    return (si * p) / (2 * si * p + (1 - si) * (1 - p)) + ((1 - si) * (1 - p)) / (2 * si * (1 - p) + (1 - si) * p)\n",
    "\n",
    "# Function to calculate the reconstruction probability of a '0' for a single item\n",
    "def reconstruction_probability_0(p, si):\n",
    "    return ((1 - si) * p) / (2 * (1 - si) * p + si * (1 - p)) + ((1 - si) * (1 - p)) / (2 * si * p + (1 - si) * (1 - p))\n",
    "\n",
    "# Function to calculate the total reconstruction probability\n",
    "def total_reconstruction_probability(p, a, s0):\n",
    "    r1 = reconstruction_probability_1(p, s0)\n",
    "    r0 = reconstruction_probability_0(p, s0)\n",
    "    return a * r1 + (1 - a) * r0\n",
    "\n",
    "# Values for the average support of an item in the database\n",
    "s0_values = [0.01, 0.1, 0.5]\n",
    "\n",
    "# Weight given to 1's over 0's\n",
    "a = 0.5\n",
    "\n",
    "# Probability values\n",
    "p_values = np.linspace(0, 1, 100)\n",
    "\n",
    "# Calculate and plot reconstruction probability for different s0 values\n",
    "import matplotlib.pyplot as plt\n",
    "\n",
    "for s0 in s0_values:\n",
    "    total_r_values = [total_reconstruction_probability(p, a, s0) for p in p_values]\n",
    "    plt.plot(p_values, total_r_values, label=f's0={s0}')\n",
    "\n",
    "plt.title('Total Reconstruction Probability R(p)')\n",
    "plt.xlabel('p')\n",
    "plt.ylabel('R(p)')\n",
    "plt.legend()\n",
    "plt.show()\n"
   ]
  },
  {
   "cell_type": "markdown",
   "metadata": {},
   "source": [
    "**Reconstruction Probability**\n",
    "\n",
    "The reconstruction probability R1(p) of a '1' in the distorted database is derived, considering the original support of items si and distortion parameter p. It's represented as a summation across all items, where s0 denotes the average support. The reconstruction probability increases towards the extremes of p and decreases at the center (p=0.5), exhibiting symmetry around this point. This symmetry implies no practical difference between choosing p or its complement 1−p in terms of reconstruction, although visually distinct distortions may offer psychological comfort to users. The flatness of curves increases as the average support of items decreases. The dependence of reconstruction probability on item support is due to the distribution of '1's and '0's in the true database. Although the derivation assumes knowledge of true supports, it conservatively assumes the data miner can estimate these values accurately to mine the distorted database effectively."
   ]
  },
  {
   "cell_type": "code",
   "execution_count": 473,
   "metadata": {},
   "outputs": [
    {
     "data": {
      "image/png": "[encoded data removed]",
      "text/plain": [
       "<Figure size 432x288 with 1 Axes>"
      ]
     },
     "metadata": {
      "needs_background": "light"
     },
     "output_type": "display_data"
    },
    {
     "data": {
      "image/png": "[encoded data removed]",
      "text/plain": [
       "<Figure size 432x288 with 1 Axes>"
      ]
     },
     "metadata": {
      "needs_background": "light"
     },
     "output_type": "display_data"
    }
   ],
   "source": [
    "# Function to calculate the reconstruction probability of a '0' for a single item\n",
    "def reconstruction_probability_0(p, si):\n",
    "    return ((1 - si) * p) / (2 * (1 - si) * p + si * (1 - p)) + ((1 - si) * (1 - p)) / (2 * si * p + (1 - si) * (1 - p))\n",
    "\n",
    "# Function to calculate the total reconstruction probability\n",
    "def total_reconstruction_probability(p, a, s0):\n",
    "    r1 = reconstruction_probability_1(p, s0)\n",
    "    r0 = reconstruction_probability_0(p, s0)\n",
    "    return a * r1 + (1 - a) * r0\n",
    "\n",
    "# Calculate and plot reconstruction probability for '0' for different s0 values\n",
    "for s0 in s0_values:\n",
    "    r0_values = [reconstruction_probability_0(p, s0) for p in p_values]\n",
    "    plt.plot(p_values, r0_values, label=f's0={s0}')\n",
    "\n",
    "plt.title('Reconstruction Probability R0(p)')\n",
    "plt.xlabel('p')\n",
    "plt.ylabel('R0(p)')\n",
    "plt.legend()\n",
    "plt.show()\n",
    "\n",
    "# Calculate and plot total reconstruction probability R(p) for different a values\n",
    "a_values = [0.1, 0.5, 0.9]\n",
    "\n",
    "for a_value in a_values:\n",
    "    total_r_values = [total_reconstruction_probability(p, a_value, s0) for p in p_values]\n",
    "    plt.plot(p_values, total_r_values, label=f'a={a_value}')\n",
    "\n",
    "plt.title('Total Reconstruction Probability R(p) for Different a Values')\n",
    "plt.xlabel('p')\n",
    "plt.ylabel('R(p)')\n",
    "plt.legend()\n",
    "plt.show()\n"
   ]
  },
  {
   "cell_type": "markdown",
   "metadata": {},
   "source": [
    "Step 8: Derive General Reconstruction Equation\n"
   ]
  },
  {
   "cell_type": "markdown",
   "metadata": {},
   "source": [
    "**The General Reconstruction Equation**\n",
    "\n",
    "The general reconstruction equation is derived to capture the relationship between the distortion parameter p and the reconstruction probability for both '1's and '0's. \n",
    "R0(p) represents the probability of reconstructing a '0', considering the average support s0 of items. The total reconstruction probability R(p) is obtained by minimizing a weighted average of R1(p) and R0(p), where the weight a reflects the preference for privacy of '1's over '0's. This weight must consider the proportion of '0's relative to '1's in the database. For instance, setting a=0.5 for a database with s0=0.01 indicates that the privacy of '1's is deemed 99 times more important than that of '0's."
   ]
  },
  {
   "cell_type": "code",
   "execution_count": 474,
   "metadata": {},
   "outputs": [
    {
     "data": {
      "text/plain": [
       "0.458"
      ]
     },
     "execution_count": 474,
     "metadata": {},
     "output_type": "execute_result"
    }
   ],
   "source": [
    "# 8.1 General Reconstruction Equation\n",
    "def compute_reconstruction_probability_0(p, s0):\n",
    "    \n",
    "    # Pr{X0=0∣Y0=0}\n",
    "    pr_x0_given_y0 = (1 - s0) * p / ((1 - s0) * p + s0 * (1 - p))\n",
    "    # Pr{X0=0∣Y0=1}\n",
    "    pr_x0_given_y1 = (1 - s0) * (1 - p) / ((1 - s0) * (1 - p) + s0 * p)\n",
    "    \n",
    "    # R0(p, s0)\n",
    "    return (1 - s0) * pr_x0_given_y0 + s0 * pr_x0_given_y1\n",
    "\n",
    "# 8.2 General Reconstruction Equation\n",
    "def compute_general_reconstruction_equation(p, reconstruction_probabilities, a):\n",
    "   \n",
    "    # R1(p)\n",
    "    r1_p = np.sum(reconstruction_probabilities) / len(reconstruction_probabilities)\n",
    "    # R0(p)\n",
    "    r0_p = compute_reconstruction_probability_0(p, 0.5)  \n",
    "    \n",
    "    # R(p)\n",
    "    r_p = a * r1_p + (1 - a) * r0_p\n",
    "    \n",
    "    return r_p\n",
    "\n",
    "\n",
    "a = 0.7  # Weighting factor between R1(p) and R0(p)\n",
    "general_reconstruction_probability = compute_general_reconstruction_equation(privacy_factor, reconstruction_probabilities, a)\n",
    "general_reconstruction_probability\n"
   ]
  },
  {
   "cell_type": "markdown",
   "metadata": {},
   "source": [
    " Step 9: Define Privacy Measure"
   ]
  },
  {
   "cell_type": "markdown",
   "metadata": {},
   "source": [
    "**Privacy Measure**\n",
    "\n",
    "The function compute_privacy_measure that calculates the privacy measure based on a given reconstruction probability. The privacy measure is obtained by subtracting the reconstruction probability from 1 and then multiplying the result by 100 to express it as a percentage. The function takes the reconstruction probability as input and returns the privacy measure. This allows users to easily quantify the level of privacy achieved in their data distortion process.\n"
   ]
  },
  {
   "cell_type": "code",
   "execution_count": 475,
   "metadata": {},
   "outputs": [
    {
     "data": {
      "text/plain": [
       "54.2"
      ]
     },
     "execution_count": 475,
     "metadata": {},
     "output_type": "execute_result"
    }
   ],
   "source": [
    "# 9.1 Privacy Measure Formula\n",
    "def compute_privacy_measure(reconstruction_probability):\n",
    "    \n",
    "    return (1 - reconstruction_probability) * 100\n",
    "\n",
    "privacy_measure = compute_privacy_measure(general_reconstruction_probability)\n",
    "privacy_measure\n"
   ]
  },
  {
   "cell_type": "markdown",
   "metadata": {},
   "source": [
    "Step 10: Evaluate and Interpret Results"
   ]
  },
  {
   "cell_type": "markdown",
   "metadata": {},
   "source": [
    "The function evaluate_and_interpret_results that prints out various evaluation metrics and interpretations of the results obtained from the distortion process. It takes four arguments: reconstruction_probabilities, general_reconstruction_probability, privacy_measure, and a. Then, it prints out the reconstruction probabilities for each entry, the general reconstruction probability, the privacy measure, and the weight a used in the trade-off analysis."
   ]
  },
  {
   "cell_type": "code",
   "execution_count": 476,
   "metadata": {},
   "outputs": [
    {
     "name": "stdout",
     "output_type": "stream",
     "text": [
      "Reconstruction Probabilities for Each Entry:\n",
      "[0.4 0.3 0.5 0.4 0.6]\n",
      "\n",
      "General Reconstruction Probability:\n",
      "0.458\n",
      "\n",
      "Privacy Measure:\n",
      "54.2\n",
      "\n",
      "Trade-off Analysis:\n",
      "Weight 'a' for R1(p): 0.7\n"
     ]
    }
   ],
   "source": [
    "# 10.1 Evaluation and Interpretation\n",
    "def evaluate_and_interpret_results(reconstruction_probabilities, general_reconstruction_probability, privacy_measure, a):\n",
    "   \n",
    "    print(\"Reconstruction Probabilities for Each Entry:\")\n",
    "    print(reconstruction_probabilities)\n",
    "    \n",
    "    print(\"\\nGeneral Reconstruction Probability:\")\n",
    "    print(general_reconstruction_probability)\n",
    "    \n",
    "    print(\"\\nPrivacy Measure:\")\n",
    "    print(privacy_measure)\n",
    "    \n",
    "    print(\"\\nTrade-off Analysis:\")\n",
    "    print(f\"Weight 'a' for R1(p): {a}\")\n",
    "    \n",
    "    \n",
    "\n",
    "evaluate_and_interpret_results(reconstruction_probabilities, general_reconstruction_probability, privacy_measure, a)\n"
   ]
  },
  {
   "cell_type": "markdown",
   "metadata": {},
   "source": [
    "**Estimating Singleton Supports**\n",
    "\n",
    "This code defines a function estimate_singleton_supports to estimate the support of each item in the original database based on the distorted version and a privacy factor. It calculates the counts of '1's and '0's for each item in both matrices, constructs a transformation matrix, and uses it to estimate the true counts from the distorted counts. Finally, it returns the estimated supports for each item in the original database. The function is used by passing the true matrix (true_matrix), distorted matrix (distorted_matrix), and privacy factor (privacy_factor)."
   ]
  },
  {
   "cell_type": "code",
   "execution_count": 477,
   "metadata": {},
   "outputs": [
    {
     "data": {
      "text/plain": [
       "array([3, 3, 5, 5, 6])"
      ]
     },
     "execution_count": 477,
     "metadata": {},
     "output_type": "execute_result"
    }
   ],
   "source": [
    "# 11.1 Estimating Singleton Supports\n",
    "def estimate_singleton_supports(true_matrix, distorted_matrix, privacy_factor):\n",
    "   \n",
    "    num_items = true_matrix.shape[1]\n",
    "\n",
    "    # Count 1's and 0's for each column in the true matrix\n",
    "    cT1 = np.sum(true_matrix, axis=0)\n",
    "    cT0 = true_matrix.shape[0] - cT1\n",
    "\n",
    "    # Count 1's and 0's for each column in the distorted matrix\n",
    "    cD1 = np.sum(distorted_matrix, axis=0)\n",
    "    cD0 = distorted_matrix.shape[0] - cD1\n",
    "\n",
    "    # Estimate the support of each item in the true matrix\n",
    "    M = np.array([[privacy_factor / (1 - privacy_factor), 1 - privacy_factor],\n",
    "                  [1 - privacy_factor, privacy_factor]])\n",
    "    \n",
    "    CT = np.linalg.inv(M) @ np.vstack([cD1, cD0])\n",
    "    estimated_supports = CT[0].astype(int)\n",
    "\n",
    "    return estimated_supports\n",
    "\n",
    "true_matrix = database  \n",
    "distorted_matrix = distorted_database\n",
    "estimated_supports = estimate_singleton_supports(true_matrix, distorted_matrix, privacy_factor)\n",
    "estimated_supports\n"
   ]
  },
  {
   "cell_type": "markdown",
   "metadata": {},
   "source": [
    "**Estimating n-itemset Supports**\n",
    "\n",
    "The function estimate_n_itemset_supports to estimate the support of n-itemsets in the original database based on a distorted version and a privacy factor. It calculates counts for each n-itemset, defines matrices based on the privacy factor, and estimates supports using these matrices. Finally, it returns the estimated supports for each n-itemset. Adjust the value of n for the desired size of n-itemsets."
   ]
  },
  {
   "cell_type": "code",
   "execution_count": 478,
   "metadata": {},
   "outputs": [
    {
     "data": {
      "text/plain": [
       "array([2, 0])"
      ]
     },
     "execution_count": 478,
     "metadata": {},
     "output_type": "execute_result"
    }
   ],
   "source": [
    "# 11.2 Estimating n-itemset Supports\n",
    "def estimate_n_itemset_supports(true_matrix, distorted_matrix, privacy_factor, n):\n",
    "    \n",
    "    num_items = true_matrix.shape[1]\n",
    "\n",
    "    # Count tuples for the true matrix\n",
    "    cT = np.sum(true_matrix, axis=0)\n",
    "\n",
    "    # Count tuples for the distorted matrix\n",
    "    cD = np.sum(distorted_matrix, axis=0)\n",
    "\n",
    "    # Define matrices M, CD, and CT accordingly\n",
    "    M = np.zeros((2, 2, n))\n",
    "    CD = np.zeros((2, n))\n",
    "    CT = np.zeros((2, n))\n",
    "\n",
    "    # Populate matrices M, CD, and CT for each n-itemset\n",
    "    for i in range(n):\n",
    "        M[:, :, i] = (1 - privacy_factor) ** (i + 1) * privacy_factor ** i\n",
    "        CD[:, i] = cD[i]\n",
    "        CT[:, i] = cT[i]\n",
    "\n",
    "    # Estimate the support of each n-itemset in the true matrix\n",
    "    estimated_supports = np.zeros(n)\n",
    "    for i in range(n):\n",
    "        CT_i = CT[:, :i + 1].reshape(2, -1)  # Reshape to a 2D array\n",
    "        \n",
    "        # Use pseudo-inverse if the matrix is singular\n",
    "        try:\n",
    "            CT_inv_i = np.linalg.inv(M[:, :, :i + 1].sum(axis=2)) @ CT_i\n",
    "        except np.linalg.LinAlgError:\n",
    "            CT_inv_i = np.linalg.pinv(M[:, :, :i + 1].sum(axis=2)) @ CT_i\n",
    "        \n",
    "        estimated_supports[i] = max(0, int(round(CT_inv_i.flatten()[0])))\n",
    "\n",
    "    return estimated_supports.astype(int)\n",
    "\n",
    "n = 2  \n",
    "estimated_n_itemset_supports = estimate_n_itemset_supports(true_matrix, distorted_matrix, privacy_factor, n)\n",
    "estimated_n_itemset_supports\n"
   ]
  },
  {
   "cell_type": "markdown",
   "metadata": {},
   "source": [
    "The function apriori_count to perform the Apriori algorithm for counting itemsets in a distorted matrix. It iterates over different itemset sizes, generates candidate itemsets, counts their occurrences in the distorted matrix, and updates the counts accordingly. Finally, it returns the counts of itemsets for each size. Adjust the value of n for the desired maximum size of itemsets to count."
   ]
  },
  {
   "cell_type": "code",
   "execution_count": 479,
   "metadata": {},
   "outputs": [
    {
     "data": {
      "text/plain": [
       "array([[10, 10],\n",
       "       [10, 10]])"
      ]
     },
     "execution_count": 479,
     "metadata": {},
     "output_type": "execute_result"
    }
   ],
   "source": [
    "from itertools import product\n",
    "\n",
    "# 11.3 The Full Mining Process\n",
    "def apriori_count(distorted_matrix, n):\n",
    "   \n",
    "    num_items = distorted_matrix.shape[1]\n",
    "    cD = np.zeros((2, n))\n",
    "    \n",
    "    for itemset_size in range(1, n + 1):\n",
    "        candidate_itemsets = list(product([0, 1], repeat=itemset_size))\n",
    "        itemset_counts = np.zeros(len(candidate_itemsets))\n",
    "        \n",
    "        # Count the occurrences of each candidate itemset in the distorted matrix\n",
    "        for i, itemset in enumerate(candidate_itemsets):\n",
    "            mask = np.all(distorted_matrix[:, :itemset_size] == np.array(itemset), axis=1)\n",
    "            itemset_counts[i] = np.sum(mask)\n",
    "        \n",
    "        # Update cD based on the counts\n",
    "        cD[:, itemset_size - 1] = itemset_counts.sum(axis=0)\n",
    "    \n",
    "    return cD.astype(int)\n",
    "\n",
    "n = 2  \n",
    "cD = apriori_count(distorted_matrix, n)\n",
    "cD\n"
   ]
  },
  {
   "cell_type": "markdown",
   "metadata": {},
   "source": [
    "The function apriori_count_optimized to efficiently perform Apriori algorithm for counting itemsets in a distorted matrix. It iterates over different itemset sizes, generates candidate itemsets, counts their occurrences in the distorted matrix using numpy operations, and updates the counts accordingly. Adjust the value of n for the desired maximum size of itemsets to count."
   ]
  },
  {
   "cell_type": "code",
   "execution_count": 480,
   "metadata": {},
   "outputs": [
    {
     "data": {
      "text/plain": [
       "array([[10, 40],\n",
       "       [10, 40]])"
      ]
     },
     "execution_count": 480,
     "metadata": {},
     "output_type": "execute_result"
    }
   ],
   "source": [
    "from itertools import product\n",
    "\n",
    "# 12.1 Counting Optimization\n",
    "def apriori_count_optimized(distorted_matrix, n):\n",
    "    \n",
    "    num_items = distorted_matrix.shape[1]\n",
    "    cD = np.zeros((2, n))\n",
    "    \n",
    "    for itemset_size in range(1, n + 1):\n",
    "        candidate_itemsets = list(product([0, 1], repeat=itemset_size))\n",
    "        itemset_counts = np.zeros(len(candidate_itemsets))\n",
    "        \n",
    "        # Count the occurrences of each candidate itemset in the distorted matrix using numpy operations\n",
    "        for i, itemset in enumerate(candidate_itemsets):\n",
    "            counts = np.sum(np.all(distorted_matrix[:, :itemset_size] == np.array(itemset), axis=1))\n",
    "            itemset_counts[i] = counts\n",
    "        \n",
    "        # Update cD based on the counts\n",
    "        cD[:, itemset_size - 1] = itemset_counts.sum(axis=0)\n",
    "    \n",
    "    return cD.astype(int)\n",
    "\n",
    "n = 2  \n",
    "cD_optimized = apriori_count_optimized(distorted_matrix, n)\n",
    "cD_optimized\n"
   ]
  },
  {
   "cell_type": "markdown",
   "metadata": {},
   "source": [
    "The function apriori_count_optimized_linear efficiently performs Apriori algorithm for counting itemsets in a distorted matrix with an additional linear combination optimization. It iterates over different itemset sizes, generates candidate itemsets, counts their occurrences in the distorted matrix using numpy operations, and updates the counts based on distinct weights. Adjust the value of n for the desired maximum size of itemsets to count."
   ]
  },
  {
   "cell_type": "markdown",
   "metadata": {},
   "source": [
    "5.1 Linear Number of Counters:"
   ]
  },
  {
   "cell_type": "code",
   "execution_count": 481,
   "metadata": {},
   "outputs": [
    {
     "data": {
      "text/plain": [
       "array([[10,  8],\n",
       "       [10, 12],\n",
       "       [10,  0]])"
      ]
     },
     "execution_count": 481,
     "metadata": {},
     "output_type": "execute_result"
    }
   ],
   "source": [
    "from itertools import product\n",
    "\n",
    "def apriori_count_optimized_linear(distorted_matrix, n):\n",
    "   \n",
    "    num_items = distorted_matrix.shape[1]\n",
    "    cD = np.zeros((n + 1, n))\n",
    "    \n",
    "    for itemset_size in range(1, n + 1):\n",
    "        candidate_itemsets = list(product([0, 1], repeat=itemset_size))\n",
    "        itemset_counts = np.zeros(len(candidate_itemsets))\n",
    "        \n",
    "        # Count the occurrences of each candidate itemset in the distorted matrix using numpy operations\n",
    "        for i, itemset in enumerate(candidate_itemsets):\n",
    "            counts = np.sum(np.all(distorted_matrix[:, :itemset_size] == np.array(itemset), axis=1))\n",
    "            itemset_counts[i] = counts\n",
    "        \n",
    "        # Update cD based on the counts\n",
    "        if itemset_size == 1:\n",
    "            cD[:, itemset_size - 1] = itemset_counts.sum(axis=0)\n",
    "        else:\n",
    "            # Linear combination of counters based on the distinct weights\n",
    "            cD[0, itemset_size - 1] = itemset_counts[0]  # '00' component\n",
    "            cD[1, itemset_size - 1] = itemset_counts[-1]  # '11' component\n",
    "            for j in range(1, itemset_size - 1):\n",
    "                cD[j + 1, itemset_size - 1] = itemset_counts[j] + itemset_counts[-(j + 1)]  # Common weights\n",
    "        \n",
    "    return cD.astype(int)\n",
    "\n",
    "n = 2  \n",
    "cD_linear = apriori_count_optimized_linear(distorted_matrix, n)\n",
    "cD_linear\n"
   ]
  },
  {
   "cell_type": "markdown",
   "metadata": {},
   "source": [
    "The function apriori_count_optimized_reduced efficiently performs Apriori algorithm for counting itemsets in a distorted matrix with a reduction optimization. It iterates over different itemset sizes, generates candidate itemsets, counts their occurrences in the distorted matrix using numpy operations, and updates the counts based on distinct weights. The optimization excludes the counting of the '00' component by setting it to zero and considers only the '11' component and common weights. Adjust the value of n for the desired maximum size of itemsets to count and provide the list of frequent 1-itemsets for optimization."
   ]
  },
  {
   "cell_type": "markdown",
   "metadata": {},
   "source": [
    "5.2 Reducing Amount of Counting:"
   ]
  },
  {
   "cell_type": "code",
   "execution_count": 482,
   "metadata": {},
   "outputs": [
    {
     "data": {
      "text/plain": [
       "array([[10,  0],\n",
       "       [10,  8],\n",
       "       [10,  0]])"
      ]
     },
     "execution_count": 482,
     "metadata": {},
     "output_type": "execute_result"
    }
   ],
   "source": [
    "def apriori_count_optimized_reduced(distorted_matrix, n, frequent_1_itemsets):\n",
    "   \n",
    "    num_items = distorted_matrix.shape[1]\n",
    "    cD = np.zeros((n + 1, n))\n",
    "    \n",
    "    for itemset_size in range(1, n + 1):\n",
    "        candidate_itemsets = list(product([0, 1], repeat=itemset_size))\n",
    "        itemset_counts = np.zeros(len(candidate_itemsets))\n",
    "        \n",
    "        # Count the occurrences of each candidate itemset in the distorted matrix using numpy operations\n",
    "        for i, itemset in enumerate(candidate_itemsets):\n",
    "            counts = np.sum(np.all(distorted_matrix[:, :itemset_size] == np.array(itemset), axis=1))\n",
    "            itemset_counts[i] = counts\n",
    "        \n",
    "        # Update cD based on the counts\n",
    "        if itemset_size == 1:\n",
    "            cD[:, itemset_size - 1] = itemset_counts.sum(axis=0)\n",
    "        else:\n",
    "            # Optimize counting by excluding '00' component\n",
    "            m1 = len(frequent_1_itemsets)\n",
    "            m2 = len(candidate_itemsets) - m1\n",
    "            cD[0, itemset_size - 1] = 0  # '00' component\n",
    "            cD[1, itemset_size - 1] = itemset_counts[0]  # '11' component\n",
    "            for j in range(1, itemset_size - 1):\n",
    "                cD[j + 1, itemset_size - 1] = itemset_counts[j] + itemset_counts[-(j + 1)]  # Common weights\n",
    "        \n",
    "    return cD.astype(int)\n",
    "\n",
    "n = 2  \n",
    "frequent_1_itemsets = [(0,), (1,)]  \n",
    "cD_reduced = apriori_count_optimized_reduced(distorted_matrix, n, frequent_1_itemsets)\n",
    "cD_reduced\n"
   ]
  },
  {
   "cell_type": "markdown",
   "metadata": {},
   "source": [
    "The apriori function implements the Apriori algorithm to mine frequent itemsets from transactional data. It takes the dataset data and the minimum support threshold min_support as inputs and returns a dictionary containing the frequent itemsets along with their support counts.\n",
    "\n",
    "The algorithm first generates frequent 1-itemsets by counting the occurrences of each item in the dataset and filtering out those that meet the minimum support criterion. Then, it iteratively generates candidate k-itemsets for k > 1 by joining and pruning frequent (k-1)-itemsets.\n",
    "\n",
    "The generate_candidate_itemsets function is a helper function used in the Apriori algorithm to generate candidate k-itemsets by joining and pruning frequent (k-1)-itemsets.\n",
    "\n",
    "The Apriori algorithm efficiently identifies frequent itemsets by exploiting the downward closure property, which states that if an itemset is frequent, then all of its subsets must also be frequent. This property allows the algorithm to prune the search space by avoiding the generation of candidate itemsets that contain infrequent subsets."
   ]
  },
  {
   "cell_type": "code",
   "execution_count": 483,
   "metadata": {},
   "outputs": [],
   "source": [
    "from itertools import chain, combinations\n",
    "from collections import defaultdict\n",
    "\n",
    "# Define the apriori function\n",
    "def apriori(data, min_support):\n",
    "    itemsets = {}\n",
    "    transactions = list(map(set, data))\n",
    "\n",
    "    # Generate frequent 1-itemsets\n",
    "    candidate_1_itemsets = defaultdict(int)\n",
    "    for transaction in transactions:\n",
    "        for item in transaction:\n",
    "            candidate_1_itemsets[item] += 1\n",
    "\n",
    "    # Filter frequent 1-itemsets based on min_support\n",
    "    frequent_1_itemsets = {frozenset([item]): count for item, count in candidate_1_itemsets.items() if count >= min_support}\n",
    "    itemsets.update(frequent_1_itemsets)\n",
    "\n",
    "    # Generate frequent k-itemsets for k > 1\n",
    "    k = 2\n",
    "    while itemsets:\n",
    "        candidate_itemsets = generate_candidate_itemsets(itemsets, k)\n",
    "        candidate_counts = defaultdict(int)\n",
    "\n",
    "        for transaction in transactions:\n",
    "            # Count occurrences of candidate itemsets in each transaction\n",
    "            subset_candidates = [itemset for itemset in candidate_itemsets if itemset.issubset(transaction)]\n",
    "            for subset in subset_candidates:\n",
    "                candidate_counts[subset] += 1\n",
    "\n",
    "        # Filter frequent k-itemsets based on min_support\n",
    "        frequent_itemsets = {itemset: count for itemset, count in candidate_counts.items() if count >= min_support}\n",
    "        itemsets.update(frequent_itemsets)\n",
    "        k += 1\n",
    "\n",
    "    return itemsets\n",
    "\n",
    "# Helper function to generate candidate k-itemsets\n",
    "def generate_candidate_itemsets(itemsets, k):\n",
    "    # Join and prune step to generate candidate k-itemsets\n",
    "    candidates = set()\n",
    "    for itemset1 in itemsets:\n",
    "        for itemset2 in itemsets:\n",
    "            union_set = itemset1.union(itemset2)\n",
    "            if len(union_set) == k:\n",
    "                # Check if all (k-1)-subsets of union_set are frequent\n",
    "                if all(subset in itemsets for subset in combinations(union_set, k - 1)):\n",
    "                    candidates.add(union_set)\n",
    "    return candidates\n",
    "\n",
    "\n"
   ]
  },
  {
   "cell_type": "markdown",
   "metadata": {},
   "source": [
    "Association Rule Mining on a sample database using the Apriori algorithm and then applies a revised MASK technique for privacy-preserving data mining.\n",
    "\n",
    "It generates frequent itemsets and association rules based on specified thresholds. Additionally, it masks the data in the database by flipping bits randomly according to a privacy factor, ensuring privacy while preserving data utility. Finally, it prints the frequent itemsets, association rules, and the masked database."
   ]
  },
  {
   "cell_type": "code",
   "execution_count": 484,
   "metadata": {},
   "outputs": [
    {
     "name": "stdout",
     "output_type": "stream",
     "text": [
      "Frequent Itemsets:\n",
      "{frozenset({'eggs'}): 5, frozenset({'bread'}): 5, frozenset({'butter'}): 5, frozenset({'milk'}): 5, frozenset({'jam'}): 3}\n",
      "\n",
      "Association Rules:\n",
      "\n",
      "Masked Database:\n",
      "[{'eggs', 'bread', 'butter'}, {'milk', 'bread'}, {'eggs', 'jam', 'butter'}, {'milk', 'bread', 'butter'}, {'eggs', 'jam'}, {'milk', 'eggs', 'bread'}, {'milk', 'jam', 'butter'}, {'milk', 'eggs', 'bread', 'butter'}]\n"
     ]
    }
   ],
   "source": [
    "import itertools\n",
    "import random\n",
    "\n",
    "# Sample Database\n",
    "database = [\n",
    "    {'bread', 'butter', 'eggs'},\n",
    "    {'bread', 'milk'},\n",
    "    {'butter', 'jam', 'eggs'},\n",
    "    {'bread', 'butter', 'milk'},\n",
    "    {'jam', 'eggs'},\n",
    "    {'bread', 'milk', 'eggs'},\n",
    "    {'butter', 'milk', 'jam'},\n",
    "    {'bread', 'butter', 'eggs', 'milk'}\n",
    "]\n",
    "\n",
    "# Association Rule Mining\n",
    "def generate_frequent_itemsets(transactions, min_support):\n",
    "    item_counts = {}\n",
    "    for transaction in transactions:\n",
    "        for item in transaction:\n",
    "            item_counts[item] = item_counts.get(item, 0) + 1\n",
    "\n",
    "    frequent_itemsets = {frozenset([item]): count for item, count in item_counts.items() if count >= min_support}\n",
    "    return frequent_itemsets\n",
    "\n",
    "def compute_association_rules(frequent_itemsets, min_confidence):\n",
    "    association_rules = []\n",
    "\n",
    "    for itemset, support in frequent_itemsets.items():\n",
    "        if len(itemset) > 1:\n",
    "            for i in range(1, len(itemset)):\n",
    "                antecedent = frozenset(itertools.combinations(itemset, i))\n",
    "                consequent = itemset - antecedent\n",
    "                if antecedent in frequent_itemsets:\n",
    "                    confidence = support / frequent_itemsets[antecedent]\n",
    "                    if confidence >= min_confidence:\n",
    "                        association_rules.append((antecedent, consequent, confidence))\n",
    "\n",
    "    return association_rules\n",
    "\n",
    "# Revised MASK Technique for Privacy-Preserving Data Mining\n",
    "def mask_technique_revised(database, privacy_factor):\n",
    "    masked_database = []\n",
    "\n",
    "    for transaction in database:\n",
    "        masked_transaction = set()\n",
    "        for item in transaction:\n",
    "            if random.random() <= privacy_factor:\n",
    "                # Flip the bit with probability privacy_factor\n",
    "                masked_transaction.add(item)\n",
    "            else:\n",
    "                # Retain the original item with probability 1 - privacy_factor\n",
    "                masked_transaction.add(item)\n",
    "        masked_database.append(masked_transaction)\n",
    "\n",
    "    return masked_database\n",
    "\n",
    "\n",
    "min_support = 2\n",
    "min_confidence = 0.5\n",
    "privacy_factor = 0.2\n",
    "\n",
    "# Association Rule Mining\n",
    "frequent_itemsets = generate_frequent_itemsets(database, min_support)\n",
    "association_rules = compute_association_rules(frequent_itemsets, min_confidence)\n",
    "\n",
    "print(\"Frequent Itemsets:\")\n",
    "print(frequent_itemsets)\n",
    "\n",
    "print(\"\\nAssociation Rules:\")\n",
    "for rule in association_rules:\n",
    "    print(f\"{rule[0]} => {rule[1]}, Confidence: {rule[2]:.2f}\")\n",
    "\n",
    "# MASK Technique (Revised)\n",
    "masked_database = mask_technique_revised(database, privacy_factor)\n",
    "print(\"\\nMasked Database:\")\n",
    "print(masked_database)\n"
   ]
  },
  {
   "cell_type": "markdown",
   "metadata": {},
   "source": [
    "Defining the Revised MASK Technique for Real Dataset: It defines a function called mask_technique_revised_real_dataset() which applies the MASK technique to a real dataset. This technique masks the values in the dataset based on a given privacy factor.\n",
    "\n",
    "Applying MASK Technique to the Real Dataset: It applies the mask_technique_revised_real_dataset() function to the loaded real dataset with a specified privacy factor, producing a masked dataset."
   ]
  },
  {
   "cell_type": "code",
   "execution_count": 485,
   "metadata": {},
   "outputs": [],
   "source": [
    "import pandas as pd\n",
    "import numpy as np\n",
    "\n",
    "# Load the real dataset \n",
    "file_path = 'streaming_preferences_dataset.csv'\n",
    "real_dataset_df = pd.read_csv(file_path)\n",
    "\n",
    "# Convert the DataFrame to a NumPy array\n",
    "real_dataset = real_dataset_df.to_numpy()\n"
   ]
  },
  {
   "cell_type": "markdown",
   "metadata": {},
   "source": [
    "On real Datset"
   ]
  },
  {
   "cell_type": "code",
   "execution_count": 486,
   "metadata": {},
   "outputs": [
    {
     "name": "stdout",
     "output_type": "stream",
     "text": [
      "\n",
      "Masked Real Dataset:\n",
      "[{'Genre9', 'Genre4', 'Genre2'}, {'Genre5', 'Genre9', 'Genre7', 'Genre1'}, {'Genre7', 'Genre10', 'Genre4', 'Genre1'}, {'Genre5', 'Genre7', 'Genre1', 'Genre9', 'Genre10'}, {'Genre5', 'Genre6', 'Genre9', 'Genre2', 'Genre8'}, {'Genre5', 'Genre10', 'Genre6'}, {'Genre5', 'Genre6', 'Genre1', 'Genre10', 'Genre4', 'Genre3'}, {'Genre5', 'Genre7', 'Genre9', 'Genre8', 'Genre10'}, {'Genre10', 'Genre8', 'Genre9', 'Genre1'}, {'Genre5', 'Genre10', 'Genre3', 'Genre1'}, {'Genre5', 'Genre7', 'Genre9', 'Genre8', 'Genre10', 'Genre4'}, {'Genre7', 'Genre1', 'Genre9', 'Genre2', 'Genre4', 'Genre3'}, {'Genre7', 'Genre2', 'Genre1'}, {'Genre9', 'Genre3'}, {'Genre5', 'Genre6', 'Genre7', 'Genre1', 'Genre3'}, {'Genre5', 'Genre1', 'Genre9', 'Genre8', 'Genre4'}, {'Genre5', 'Genre6', 'Genre1', 'Genre8', 'Genre10', 'Genre4'}, {'Genre5', 'Genre7', 'Genre1', 'Genre9', 'Genre4', 'Genre3'}, {'Genre4', 'Genre3', 'Genre8'}, {'Genre6', 'Genre9', 'Genre2', 'Genre8', 'Genre3'}, {'Genre6', 'Genre7', 'Genre9', 'Genre2', 'Genre8', 'Genre10'}, {'Genre6', 'Genre3', 'Genre1'}, {'Genre5', 'Genre6', 'Genre8'}, {'Genre9', 'Genre6', 'Genre7', 'Genre8'}, {'Genre4', 'Genre2', 'Genre3'}, {'Genre5', 'Genre6', 'Genre1', 'Genre2', 'Genre8', 'Genre10'}, {'Genre5', 'Genre4', 'Genre3'}, {'Genre9', 'Genre4', 'Genre8'}, {'Genre5', 'Genre10', 'Genre4', 'Genre8'}, {'Genre5', 'Genre10'}, {'Genre8', 'Genre7', 'Genre3', 'Genre1'}, {'Genre5', 'Genre10', 'Genre7', 'Genre1'}, {'Genre9', 'Genre6', 'Genre4', 'Genre1'}, {'Genre10', 'Genre8', 'Genre1'}, {'Genre5', 'Genre4', 'Genre2', 'Genre1'}, {'Genre5', 'Genre10', 'Genre6'}, {'Genre6', 'Genre7', 'Genre9', 'Genre10', 'Genre3'}, {'Genre5', 'Genre4', 'Genre3'}, {'Genre5', 'Genre6', 'Genre9', 'Genre10', 'Genre4', 'Genre3'}, {'Genre5', 'Genre7', 'Genre2', 'Genre8'}, {'Genre5', 'Genre6', 'Genre7', 'Genre9', 'Genre2', 'Genre8', 'Genre10'}, {'Genre4'}, {'Genre2', 'Genre3'}, {'Genre5', 'Genre7', 'Genre1', 'Genre2', 'Genre8', 'Genre10'}, {'Genre5', 'Genre10', 'Genre6', 'Genre7'}, {'Genre7', 'Genre4', 'Genre3', 'Genre1'}, {'Genre8', 'Genre9', 'Genre2', 'Genre1'}, {'Genre6', 'Genre1', 'Genre9', 'Genre2', 'Genre8', 'Genre4'}, {'Genre10', 'Genre1'}, {'Genre5', 'Genre9', 'Genre3'}, {'Genre5', 'Genre6', 'Genre1', 'Genre9', 'Genre2', 'Genre8', 'Genre3'}, {'Genre10', 'Genre8', 'Genre1'}, {'Genre5', 'Genre1', 'Genre9', 'Genre2', 'Genre10', 'Genre4', 'Genre3'}, {'Genre5', 'Genre6', 'Genre9', 'Genre2', 'Genre4'}, {'Genre5', 'Genre10', 'Genre8'}, {'Genre10', 'Genre3', 'Genre8'}, {'Genre5', 'Genre6', 'Genre8', 'Genre10', 'Genre3'}, {'Genre6', 'Genre7', 'Genre8', 'Genre10', 'Genre4', 'Genre3'}, {'Genre5', 'Genre10', 'Genre4', 'Genre3'}, {'Genre7', 'Genre9', 'Genre2', 'Genre8', 'Genre3'}, {'Genre9', 'Genre7', 'Genre2', 'Genre1'}, {'Genre5', 'Genre10', 'Genre6', 'Genre2'}, {'Genre9', 'Genre2', 'Genre8'}, {'Genre6', 'Genre2'}, {'Genre6', 'Genre7', 'Genre9', 'Genre8', 'Genre3'}, {'Genre6', 'Genre1', 'Genre8', 'Genre10', 'Genre4', 'Genre3'}, {'Genre5', 'Genre1'}, {'Genre5', 'Genre9', 'Genre6', 'Genre8'}, {'Genre5', 'Genre7', 'Genre1', 'Genre2', 'Genre4', 'Genre3'}, {'Genre7', 'Genre9', 'Genre2', 'Genre8', 'Genre3'}, {'Genre9', 'Genre6', 'Genre4', 'Genre3'}, {'Genre5', 'Genre6', 'Genre7', 'Genre1', 'Genre10', 'Genre3'}, {'Genre5', 'Genre2', 'Genre8'}, {'Genre9', 'Genre6', 'Genre4', 'Genre3'}, {'Genre5', 'Genre1', 'Genre2', 'Genre8', 'Genre4', 'Genre3'}, {'Genre5', 'Genre7', 'Genre1', 'Genre10', 'Genre4'}, {'Genre6', 'Genre9', 'Genre2', 'Genre10', 'Genre4', 'Genre3'}, {'Genre5', 'Genre7', 'Genre1', 'Genre2', 'Genre10', 'Genre3'}, {'Genre5', 'Genre1', 'Genre9', 'Genre2', 'Genre4'}, {'Genre5', 'Genre7', 'Genre9', 'Genre4', 'Genre3'}, {'Genre1', 'Genre2', 'Genre8', 'Genre10', 'Genre3'}, {'Genre8', 'Genre4', 'Genre3', 'Genre1'}, {'Genre10', 'Genre4', 'Genre2', 'Genre1'}, {'Genre6', 'Genre7', 'Genre1', 'Genre10', 'Genre4'}, {'Genre5', 'Genre8', 'Genre10', 'Genre4', 'Genre3'}, {'Genre2', 'Genre8', 'Genre10', 'Genre4', 'Genre3'}, {'Genre5', 'Genre1', 'Genre9', 'Genre8', 'Genre10'}, {'Genre6', 'Genre7', 'Genre9', 'Genre4', 'Genre3'}, {'Genre6', 'Genre7', 'Genre3', 'Genre8'}, {'Genre9', 'Genre6', 'Genre4', 'Genre1'}, {'Genre5', 'Genre7'}, {'Genre5', 'Genre6', 'Genre7', 'Genre1', 'Genre2', 'Genre8', 'Genre4', 'Genre3'}, {'Genre9', 'Genre2', 'Genre10', 'Genre4', 'Genre3'}, {'Genre5', 'Genre1', 'Genre2', 'Genre8', 'Genre10'}, {'Genre6', 'Genre8'}, {'Genre10', 'Genre1'}, {'Genre7', 'Genre9', 'Genre2', 'Genre8', 'Genre10'}, {'Genre7', 'Genre6', 'Genre4'}, {'Genre6', 'Genre4', 'Genre2'}, {'Genre5'}, {'Genre5', 'Genre6', 'Genre7'}, {'Genre5', 'Genre6', 'Genre7', 'Genre9', 'Genre3'}, {'Genre6', 'Genre7', 'Genre9', 'Genre2', 'Genre8'}, {'Genre5', 'Genre6', 'Genre1', 'Genre9', 'Genre4'}, {'Genre10', 'Genre6', 'Genre7', 'Genre1'}, {'Genre6', 'Genre4'}, {'Genre5', 'Genre7', 'Genre2', 'Genre8', 'Genre10', 'Genre4'}, {'Genre5', 'Genre6', 'Genre9', 'Genre2', 'Genre8'}, {'Genre9', 'Genre7'}, {'Genre9', 'Genre2', 'Genre8', 'Genre4', 'Genre3'}, {'Genre7', 'Genre1', 'Genre9', 'Genre2', 'Genre10', 'Genre4'}, {'Genre5', 'Genre1', 'Genre2', 'Genre8', 'Genre4'}, {'Genre5', 'Genre6', 'Genre7', 'Genre1', 'Genre9', 'Genre2', 'Genre8', 'Genre10', 'Genre4'}, {'Genre5', 'Genre6', 'Genre7', 'Genre1', 'Genre9', 'Genre2', 'Genre8'}, {'Genre7', 'Genre2', 'Genre3', 'Genre8'}, {'Genre9', 'Genre6'}, {'Genre5', 'Genre9', 'Genre2'}, {'Genre2'}, {'Genre9', 'Genre6'}, {'Genre10', 'Genre7'}, {'Genre5', 'Genre10', 'Genre7', 'Genre1'}, {'Genre7', 'Genre8', 'Genre4', 'Genre1'}, {'Genre5', 'Genre6', 'Genre10', 'Genre4', 'Genre3'}, {'Genre5', 'Genre9', 'Genre7', 'Genre3'}, {'Genre9', 'Genre1'}, {'Genre5', 'Genre6', 'Genre7', 'Genre1', 'Genre10', 'Genre4'}, {'Genre5', 'Genre7', 'Genre9', 'Genre8', 'Genre10'}, {'Genre5', 'Genre2', 'Genre3', 'Genre1'}, {'Genre5', 'Genre6', 'Genre1', 'Genre8', 'Genre10', 'Genre3'}, {'Genre10', 'Genre6', 'Genre3', 'Genre8'}, {'Genre7', 'Genre4', 'Genre3', 'Genre8'}, {'Genre5', 'Genre9', 'Genre7', 'Genre1'}, {'Genre5', 'Genre1', 'Genre2', 'Genre8', 'Genre4'}, {'Genre5', 'Genre7', 'Genre9', 'Genre2', 'Genre8'}, {'Genre10', 'Genre7', 'Genre3', 'Genre1'}, {'Genre5', 'Genre7', 'Genre9', 'Genre8', 'Genre4', 'Genre3'}, {'Genre7', 'Genre9', 'Genre8', 'Genre10', 'Genre3'}, {'Genre6', 'Genre1', 'Genre9', 'Genre10', 'Genre4'}, {'Genre5', 'Genre6', 'Genre1', 'Genre9', 'Genre3'}, {'Genre6', 'Genre7', 'Genre2', 'Genre8', 'Genre4', 'Genre3'}, {'Genre5', 'Genre2', 'Genre1'}, {'Genre5', 'Genre10', 'Genre4'}, {'Genre10', 'Genre7', 'Genre1'}, {'Genre5', 'Genre1', 'Genre2', 'Genre8', 'Genre3'}, {'Genre6', 'Genre7', 'Genre1', 'Genre2', 'Genre10', 'Genre3'}, {'Genre5', 'Genre7', 'Genre1'}, {'Genre6', 'Genre4', 'Genre3', 'Genre1'}, {'Genre6', 'Genre1', 'Genre9', 'Genre2', 'Genre8'}, {'Genre9', 'Genre10', 'Genre6'}, {'Genre5', 'Genre9', 'Genre4'}, {'Genre6', 'Genre9', 'Genre2', 'Genre8', 'Genre4', 'Genre3'}, {'Genre5', 'Genre10'}, {'Genre9', 'Genre3', 'Genre8'}, {'Genre9', 'Genre7'}, {'Genre6', 'Genre7', 'Genre2', 'Genre8', 'Genre3'}, {'Genre5', 'Genre2'}, {'Genre5', 'Genre6', 'Genre7', 'Genre1', 'Genre2', 'Genre10'}, {'Genre5', 'Genre7', 'Genre9', 'Genre8', 'Genre10', 'Genre4'}, {'Genre2', 'Genre3', 'Genre1'}, {'Genre6', 'Genre7', 'Genre1', 'Genre8', 'Genre10', 'Genre3'}, {'Genre6', 'Genre7', 'Genre9', 'Genre8', 'Genre4'}, {'Genre9', 'Genre6', 'Genre7', 'Genre1'}, {'Genre9', 'Genre7', 'Genre2', 'Genre8'}, {'Genre6', 'Genre9', 'Genre2', 'Genre4', 'Genre3'}, {'Genre5', 'Genre4', 'Genre2', 'Genre1'}, {'Genre5', 'Genre6', 'Genre7', 'Genre9', 'Genre8', 'Genre10'}, {'Genre7', 'Genre6', 'Genre4', 'Genre2'}, {'Genre5', 'Genre7', 'Genre9', 'Genre2', 'Genre8', 'Genre10'}, {'Genre5', 'Genre1', 'Genre2', 'Genre8', 'Genre10'}, {'Genre5', 'Genre7', 'Genre1', 'Genre2', 'Genre8', 'Genre10', 'Genre4'}, {'Genre8'}, {'Genre5', 'Genre8', 'Genre2', 'Genre1'}, {'Genre10', 'Genre7', 'Genre3'}, {'Genre10', 'Genre7', 'Genre2'}, {'Genre5', 'Genre7', 'Genre9', 'Genre2', 'Genre3'}, {'Genre7', 'Genre1', 'Genre2', 'Genre8', 'Genre4', 'Genre3'}, {'Genre7', 'Genre1', 'Genre9', 'Genre2', 'Genre10'}, {'Genre5', 'Genre10', 'Genre3'}, {'Genre1', 'Genre9', 'Genre8', 'Genre4', 'Genre3'}, {'Genre10', 'Genre9', 'Genre1'}, {'Genre6', 'Genre7', 'Genre1', 'Genre9', 'Genre8', 'Genre4'}, {'Genre6', 'Genre1', 'Genre2', 'Genre8', 'Genre10'}, {'Genre5', 'Genre6', 'Genre9', 'Genre8', 'Genre10', 'Genre3'}, {'Genre9', 'Genre6', 'Genre4', 'Genre2'}, {'Genre6', 'Genre2', 'Genre3'}, {'Genre9', 'Genre4', 'Genre2', 'Genre1'}, {'Genre10', 'Genre3', 'Genre1'}, {'Genre5', 'Genre1', 'Genre9', 'Genre2', 'Genre8'}, {'Genre5', 'Genre6', 'Genre1', 'Genre8', 'Genre3'}, {'Genre5', 'Genre6', 'Genre7', 'Genre1', 'Genre10'}, {'Genre10', 'Genre8', 'Genre9', 'Genre1'}, {'Genre5', 'Genre7', 'Genre1', 'Genre9', 'Genre10', 'Genre3'}, {'Genre5', 'Genre7', 'Genre9', 'Genre2', 'Genre8', 'Genre4', 'Genre3'}, {'Genre5', 'Genre1', 'Genre2', 'Genre8', 'Genre4'}, {'Genre10', 'Genre3', 'Genre1'}, {'Genre7', 'Genre10', 'Genre4', 'Genre8'}, {'Genre4', 'Genre8'}, {'Genre9', 'Genre6', 'Genre7'}, {'Genre7', 'Genre1', 'Genre9', 'Genre2', 'Genre8', 'Genre3'}, {'Genre10', 'Genre6', 'Genre2', 'Genre8'}, {'Genre5', 'Genre1', 'Genre2', 'Genre10', 'Genre4', 'Genre3'}, {'Genre7', 'Genre1', 'Genre9', 'Genre2', 'Genre4'}, {'Genre6', 'Genre9', 'Genre8', 'Genre10', 'Genre3'}, {'Genre8', 'Genre7', 'Genre1'}, {'Genre5', 'Genre9', 'Genre2', 'Genre8', 'Genre10', 'Genre4'}, {'Genre5', 'Genre6', 'Genre7', 'Genre9', 'Genre8', 'Genre3'}, {'Genre9', 'Genre6', 'Genre4'}, {'Genre5', 'Genre7', 'Genre8'}, {'Genre5', 'Genre10', 'Genre9', 'Genre1'}, {'Genre7', 'Genre8', 'Genre10', 'Genre4', 'Genre3'}, {'Genre9', 'Genre6', 'Genre4'}, {'Genre6', 'Genre1', 'Genre9', 'Genre2', 'Genre10', 'Genre3'}, {'Genre5', 'Genre7', 'Genre1', 'Genre9', 'Genre2', 'Genre8'}, {'Genre6', 'Genre1', 'Genre8', 'Genre10', 'Genre3'}, {'Genre7', 'Genre1', 'Genre8', 'Genre10', 'Genre4', 'Genre3'}, {'Genre5', 'Genre7', 'Genre2', 'Genre8', 'Genre10', 'Genre4'}, {'Genre10', 'Genre6', 'Genre7', 'Genre3'}, {'Genre10', 'Genre6', 'Genre4', 'Genre1'}, {'Genre6', 'Genre1', 'Genre9', 'Genre8', 'Genre10', 'Genre3'}, {'Genre5', 'Genre6', 'Genre1', 'Genre10', 'Genre4'}, {'Genre5', 'Genre6', 'Genre7', 'Genre9', 'Genre8', 'Genre10', 'Genre3'}, {'Genre10', 'Genre6', 'Genre4'}, {'Genre7', 'Genre1', 'Genre2', 'Genre8', 'Genre3'}, {'Genre5', 'Genre2', 'Genre10', 'Genre4', 'Genre3'}, {'Genre10', 'Genre6'}, {'Genre9', 'Genre7', 'Genre1'}, {'Genre6', 'Genre7', 'Genre2', 'Genre3'}, {'Genre6', 'Genre7', 'Genre9', 'Genre2', 'Genre8'}, {'Genre5', 'Genre3', 'Genre8'}, {'Genre7', 'Genre2', 'Genre1'}, {'Genre5', 'Genre6', 'Genre9', 'Genre8', 'Genre10'}, {'Genre7', 'Genre1', 'Genre9', 'Genre2', 'Genre8', 'Genre10', 'Genre3'}, {'Genre10', 'Genre9', 'Genre4', 'Genre1'}, {'Genre10', 'Genre9', 'Genre2', 'Genre3'}, {'Genre5', 'Genre6', 'Genre9', 'Genre8', 'Genre3'}, {'Genre9', 'Genre8'}, {'Genre5', 'Genre9', 'Genre2'}, {'Genre5', 'Genre10', 'Genre2'}, {'Genre5', 'Genre9', 'Genre7', 'Genre3'}, {'Genre7', 'Genre1', 'Genre9', 'Genre2', 'Genre8', 'Genre10', 'Genre4'}, {'Genre5', 'Genre8', 'Genre3', 'Genre1'}, {'Genre5', 'Genre9', 'Genre2', 'Genre8', 'Genre10'}, {'Genre10', 'Genre6'}, {'Genre4', 'Genre2'}, {'Genre10', 'Genre7', 'Genre2'}, {'Genre6', 'Genre1'}, {'Genre5', 'Genre6', 'Genre7', 'Genre1', 'Genre10', 'Genre4'}, {'Genre6', 'Genre7', 'Genre1', 'Genre10', 'Genre4', 'Genre3'}, {'Genre9', 'Genre1'}, {'Genre5', 'Genre1'}, {'Genre5', 'Genre1', 'Genre2', 'Genre8', 'Genre4'}, {'Genre6', 'Genre7', 'Genre1', 'Genre9', 'Genre2'}, {'Genre6', 'Genre4', 'Genre2', 'Genre3'}, {'Genre6', 'Genre2', 'Genre8', 'Genre10', 'Genre3'}, {'Genre5', 'Genre10', 'Genre6', 'Genre2'}, {'Genre5', 'Genre1', 'Genre2', 'Genre8', 'Genre4'}, {'Genre7', 'Genre1', 'Genre9', 'Genre2', 'Genre8', 'Genre10', 'Genre4'}, {'Genre9', 'Genre6', 'Genre3', 'Genre8'}, {'Genre6', 'Genre4', 'Genre3', 'Genre1'}, {'Genre6', 'Genre1', 'Genre9', 'Genre2', 'Genre8', 'Genre10', 'Genre4'}, {'Genre5', 'Genre10', 'Genre7'}, {'Genre5', 'Genre7', 'Genre1', 'Genre9', 'Genre8', 'Genre4'}, {'Genre7', 'Genre1', 'Genre2', 'Genre8', 'Genre3'}, {'Genre5', 'Genre2', 'Genre3'}, {'Genre6', 'Genre7', 'Genre9', 'Genre8', 'Genre10', 'Genre4', 'Genre3'}, {'Genre5', 'Genre7'}, {'Genre5', 'Genre6', 'Genre7', 'Genre1', 'Genre2'}, {'Genre7', 'Genre4'}, {'Genre5', 'Genre1', 'Genre2', 'Genre8', 'Genre4'}, {'Genre5', 'Genre9', 'Genre8'}, {'Genre2'}, {'Genre9', 'Genre2', 'Genre8', 'Genre10', 'Genre4', 'Genre3'}, {'Genre5', 'Genre1', 'Genre9', 'Genre2', 'Genre10'}, {'Genre5', 'Genre9', 'Genre7', 'Genre3'}, {'Genre5', 'Genre8', 'Genre7', 'Genre1'}, {'Genre6', 'Genre1'}, {'Genre5', 'Genre6', 'Genre2', 'Genre3'}, {'Genre5', 'Genre6', 'Genre7', 'Genre1', 'Genre9', 'Genre8', 'Genre10'}, {'Genre10', 'Genre7', 'Genre8'}, {'Genre10', 'Genre6', 'Genre2', 'Genre8'}, {'Genre6', 'Genre1', 'Genre8', 'Genre4', 'Genre3'}, {'Genre7', 'Genre3'}, {'Genre5', 'Genre1', 'Genre9', 'Genre2', 'Genre8'}, {'Genre4', 'Genre1'}, {'Genre5', 'Genre7', 'Genre1', 'Genre9', 'Genre8'}, {'Genre6', 'Genre7', 'Genre1', 'Genre9', 'Genre8', 'Genre10'}, {'Genre5', 'Genre9', 'Genre2', 'Genre4', 'Genre3'}, {'Genre5', 'Genre10', 'Genre7', 'Genre1'}, {'Genre6', 'Genre9', 'Genre2', 'Genre8', 'Genre10'}, {'Genre8', 'Genre6', 'Genre7', 'Genre1'}, {'Genre5', 'Genre6', 'Genre1', 'Genre2', 'Genre3'}, {'Genre5', 'Genre6', 'Genre1', 'Genre9', 'Genre4'}, {'Genre5', 'Genre6', 'Genre9', 'Genre2', 'Genre8', 'Genre10', 'Genre4', 'Genre3'}, {'Genre8', 'Genre6', 'Genre1'}, {'Genre6', 'Genre7', 'Genre1', 'Genre9', 'Genre2', 'Genre3'}, {'Genre7', 'Genre9', 'Genre2', 'Genre8', 'Genre10'}, {'Genre7', 'Genre2', 'Genre8', 'Genre4', 'Genre3'}, {'Genre5', 'Genre6', 'Genre7', 'Genre1', 'Genre2'}, {'Genre5', 'Genre9', 'Genre7'}, {'Genre5', 'Genre4', 'Genre3', 'Genre8'}, {'Genre5', 'Genre6', 'Genre9', 'Genre10', 'Genre4'}, {'Genre3', 'Genre1'}, {'Genre8', 'Genre6', 'Genre1'}, {'Genre6', 'Genre2', 'Genre8', 'Genre10', 'Genre4', 'Genre3'}, {'Genre5', 'Genre6', 'Genre7', 'Genre1', 'Genre8', 'Genre4'}, {'Genre5', 'Genre10', 'Genre6', 'Genre8'}, {'Genre5', 'Genre1', 'Genre8', 'Genre10', 'Genre3'}, {'Genre7', 'Genre4', 'Genre2'}, {'Genre5', 'Genre10', 'Genre7', 'Genre1'}, {'Genre9', 'Genre7', 'Genre2', 'Genre1'}, {'Genre5', 'Genre4', 'Genre3', 'Genre7'}, {'Genre10', 'Genre9', 'Genre7', 'Genre2'}, {'Genre5', 'Genre6', 'Genre1', 'Genre2', 'Genre4'}, {'Genre5', 'Genre6', 'Genre7', 'Genre1', 'Genre10', 'Genre3'}, {'Genre5', 'Genre6', 'Genre1', 'Genre8', 'Genre4'}, {'Genre5', 'Genre6', 'Genre7', 'Genre9', 'Genre2', 'Genre8', 'Genre10'}, {'Genre7', 'Genre4', 'Genre3', 'Genre8'}, {'Genre5', 'Genre1', 'Genre9', 'Genre8', 'Genre4'}, {'Genre5', 'Genre6', 'Genre7', 'Genre1', 'Genre4'}, {'Genre5', 'Genre9', 'Genre4', 'Genre2'}, {'Genre9', 'Genre8', 'Genre6', 'Genre1'}, {'Genre5', 'Genre6', 'Genre7', 'Genre2', 'Genre8', 'Genre4', 'Genre3'}, {'Genre3', 'Genre8'}, {'Genre10', 'Genre6'}, {'Genre5', 'Genre7', 'Genre9', 'Genre2', 'Genre4'}, {'Genre2', 'Genre3'}, {'Genre9', 'Genre6', 'Genre7', 'Genre8'}, {'Genre6', 'Genre9', 'Genre8', 'Genre10', 'Genre3'}, {'Genre4', 'Genre3'}, {'Genre5', 'Genre7', 'Genre1', 'Genre8', 'Genre10', 'Genre4'}, {'Genre5', 'Genre6', 'Genre9', 'Genre2', 'Genre8', 'Genre4'}, {'Genre5', 'Genre9', 'Genre2', 'Genre8', 'Genre4', 'Genre3'}, {'Genre10', 'Genre7'}, {'Genre7', 'Genre9', 'Genre2', 'Genre10', 'Genre4', 'Genre3'}, {'Genre6', 'Genre7', 'Genre1', 'Genre2', 'Genre10', 'Genre4'}, {'Genre5', 'Genre10', 'Genre6', 'Genre1'}, {'Genre5', 'Genre6', 'Genre7', 'Genre8', 'Genre3'}, {'Genre10', 'Genre6', 'Genre2'}, {'Genre6', 'Genre4', 'Genre3'}, {'Genre10', 'Genre7', 'Genre8'}, {'Genre9', 'Genre6', 'Genre1'}, {'Genre6', 'Genre7', 'Genre1', 'Genre9', 'Genre2'}, {'Genre10', 'Genre4', 'Genre8'}, {'Genre7', 'Genre10', 'Genre4', 'Genre2'}, {'Genre5', 'Genre7', 'Genre2', 'Genre10', 'Genre4', 'Genre3'}, {'Genre5', 'Genre9', 'Genre2', 'Genre1'}, {'Genre5', 'Genre10', 'Genre2'}, {'Genre6', 'Genre7', 'Genre1', 'Genre2', 'Genre8', 'Genre10', 'Genre4'}, {'Genre7', 'Genre2', 'Genre8', 'Genre10', 'Genre4', 'Genre3'}, {'Genre7', 'Genre1', 'Genre8', 'Genre10', 'Genre3'}, {'Genre6', 'Genre7', 'Genre1', 'Genre9', 'Genre8', 'Genre10', 'Genre4'}, {'Genre6', 'Genre7', 'Genre8', 'Genre4', 'Genre3'}, {'Genre5', 'Genre1', 'Genre9', 'Genre8', 'Genre3'}, {'Genre6', 'Genre1', 'Genre9', 'Genre4', 'Genre3'}, {'Genre5', 'Genre6', 'Genre1', 'Genre9', 'Genre2', 'Genre8', 'Genre10'}, {'Genre10', 'Genre6', 'Genre4', 'Genre3'}, {'Genre5', 'Genre6', 'Genre1', 'Genre2', 'Genre8', 'Genre10', 'Genre3'}, {'Genre5', 'Genre10', 'Genre2', 'Genre3'}, {'Genre9', 'Genre2', 'Genre1'}, {'Genre6', 'Genre7', 'Genre3'}, {'Genre10', 'Genre6', 'Genre7', 'Genre8'}, {'Genre9', 'Genre7', 'Genre2', 'Genre8'}, {'Genre5', 'Genre6', 'Genre1', 'Genre9', 'Genre10', 'Genre3'}, {'Genre10'}, {'Genre5', 'Genre6', 'Genre7', 'Genre1', 'Genre2', 'Genre8', 'Genre10'}, {'Genre3', 'Genre1'}, {'Genre3', 'Genre8'}, {'Genre10', 'Genre6', 'Genre2'}, {'Genre5', 'Genre3', 'Genre8'}, {'Genre6', 'Genre9', 'Genre2', 'Genre8', 'Genre10', 'Genre4'}, {'Genre2', 'Genre3', 'Genre8'}, {'Genre5', 'Genre6', 'Genre2'}, {'Genre9', 'Genre6', 'Genre4', 'Genre1'}, {'Genre6', 'Genre7', 'Genre1', 'Genre9', 'Genre8', 'Genre10', 'Genre4', 'Genre3'}, {'Genre5', 'Genre6', 'Genre9', 'Genre4', 'Genre3'}, {'Genre6', 'Genre7', 'Genre1', 'Genre8', 'Genre10', 'Genre3'}, {'Genre5', 'Genre10', 'Genre6'}, {'Genre6', 'Genre7', 'Genre1', 'Genre9', 'Genre4'}, {'Genre10', 'Genre6', 'Genre4'}, {'Genre9', 'Genre1'}, {'Genre6', 'Genre7', 'Genre2', 'Genre10', 'Genre4'}, {'Genre1', 'Genre9', 'Genre2', 'Genre10', 'Genre3'}, {'Genre6', 'Genre9', 'Genre2', 'Genre10', 'Genre3'}, {'Genre5', 'Genre7', 'Genre9', 'Genre4', 'Genre3'}, {'Genre10', 'Genre2', 'Genre3'}, {'Genre8', 'Genre2', 'Genre1'}, set(), {'Genre6', 'Genre7', 'Genre1', 'Genre2', 'Genre8', 'Genre10', 'Genre3'}, {'Genre5', 'Genre3'}, {'Genre6', 'Genre4', 'Genre3', 'Genre1'}, {'Genre5', 'Genre7', 'Genre1', 'Genre9', 'Genre2', 'Genre8', 'Genre3'}, {'Genre1', 'Genre2', 'Genre8', 'Genre10', 'Genre4', 'Genre3'}, {'Genre5', 'Genre6', 'Genre3', 'Genre1'}, {'Genre5', 'Genre2', 'Genre3'}, {'Genre5', 'Genre10', 'Genre2', 'Genre1'}, {'Genre5', 'Genre7', 'Genre1', 'Genre8', 'Genre10', 'Genre4'}, {'Genre6', 'Genre1', 'Genre9', 'Genre2', 'Genre8', 'Genre10'}, {'Genre5', 'Genre8', 'Genre1'}, {'Genre7', 'Genre4', 'Genre8'}, {'Genre5', 'Genre7', 'Genre1', 'Genre2', 'Genre3'}, {'Genre6', 'Genre7', 'Genre8'}, {'Genre7', 'Genre6', 'Genre4'}, {'Genre5', 'Genre6', 'Genre1', 'Genre9', 'Genre2'}, {'Genre6', 'Genre7', 'Genre1', 'Genre9', 'Genre8', 'Genre10', 'Genre4'}, {'Genre5', 'Genre7', 'Genre9', 'Genre8', 'Genre10', 'Genre3'}, {'Genre7', 'Genre9', 'Genre2', 'Genre4', 'Genre3'}, {'Genre7', 'Genre2', 'Genre8'}, {'Genre5', 'Genre9', 'Genre2', 'Genre8'}, {'Genre5', 'Genre9', 'Genre2'}, {'Genre5', 'Genre6', 'Genre7', 'Genre1', 'Genre2', 'Genre3'}, {'Genre7', 'Genre2'}, {'Genre5', 'Genre6', 'Genre7', 'Genre9', 'Genre2', 'Genre8'}, {'Genre7', 'Genre10', 'Genre4', 'Genre1'}, {'Genre7', 'Genre4'}, {'Genre2', 'Genre1'}, {'Genre6', 'Genre7', 'Genre1', 'Genre9', 'Genre2', 'Genre8', 'Genre4'}, {'Genre9', 'Genre1'}, {'Genre7', 'Genre1', 'Genre9', 'Genre4', 'Genre3'}, {'Genre5', 'Genre6', 'Genre7', 'Genre9', 'Genre2', 'Genre10', 'Genre3'}, {'Genre9', 'Genre7', 'Genre3', 'Genre8'}, {'Genre6', 'Genre9', 'Genre8', 'Genre10', 'Genre3'}, {'Genre5', 'Genre3'}, {'Genre7', 'Genre9', 'Genre4', 'Genre1'}, {'Genre5', 'Genre6', 'Genre8', 'Genre10', 'Genre3'}, {'Genre10', 'Genre3'}, {'Genre5', 'Genre7', 'Genre1', 'Genre9', 'Genre8'}, {'Genre4', 'Genre2'}, {'Genre6', 'Genre3', 'Genre1'}, {'Genre9', 'Genre7', 'Genre3', 'Genre8'}, {'Genre7', 'Genre1', 'Genre2', 'Genre10', 'Genre4', 'Genre3'}, {'Genre5', 'Genre7', 'Genre1', 'Genre9', 'Genre2', 'Genre10'}, {'Genre6', 'Genre1'}, {'Genre6', 'Genre9', 'Genre2', 'Genre8', 'Genre4'}, {'Genre7', 'Genre9', 'Genre8', 'Genre10', 'Genre4', 'Genre3'}, {'Genre5', 'Genre7', 'Genre1', 'Genre10', 'Genre3'}, {'Genre7', 'Genre10', 'Genre4', 'Genre2'}, {'Genre7', 'Genre2', 'Genre1'}, {'Genre5', 'Genre6', 'Genre1', 'Genre10', 'Genre3'}, {'Genre5', 'Genre7', 'Genre2', 'Genre8', 'Genre4', 'Genre3'}, {'Genre7', 'Genre1', 'Genre2', 'Genre10', 'Genre3'}, {'Genre5', 'Genre4', 'Genre2'}, {'Genre6', 'Genre9', 'Genre2', 'Genre10', 'Genre3'}, {'Genre9'}, {'Genre7', 'Genre1', 'Genre2', 'Genre10', 'Genre4', 'Genre3'}, {'Genre2', 'Genre1'}, {'Genre5', 'Genre6', 'Genre1', 'Genre2', 'Genre8', 'Genre4', 'Genre3'}, {'Genre5', 'Genre2', 'Genre8', 'Genre10', 'Genre3'}, {'Genre7', 'Genre1', 'Genre9', 'Genre2', 'Genre8', 'Genre4'}, {'Genre5', 'Genre7', 'Genre2', 'Genre1'}, {'Genre5', 'Genre6', 'Genre7', 'Genre1', 'Genre9', 'Genre2', 'Genre8', 'Genre4'}, {'Genre4'}, {'Genre5', 'Genre1', 'Genre9', 'Genre8', 'Genre4'}, {'Genre5', 'Genre6', 'Genre7', 'Genre1', 'Genre9', 'Genre2', 'Genre8', 'Genre10', 'Genre3'}, {'Genre5', 'Genre6', 'Genre7', 'Genre8'}, {'Genre9', 'Genre4'}, {'Genre7', 'Genre4', 'Genre3'}, {'Genre2', 'Genre3', 'Genre8'}, {'Genre7', 'Genre1', 'Genre2', 'Genre8', 'Genre3'}, {'Genre5', 'Genre6', 'Genre7', 'Genre2', 'Genre10', 'Genre4', 'Genre3'}, {'Genre9', 'Genre3'}, {'Genre6', 'Genre7', 'Genre1', 'Genre9', 'Genre4', 'Genre3'}, {'Genre10', 'Genre4', 'Genre2', 'Genre1'}, {'Genre5', 'Genre7'}, {'Genre7', 'Genre4', 'Genre2', 'Genre8'}, {'Genre5', 'Genre10', 'Genre2', 'Genre1'}, {'Genre7', 'Genre2', 'Genre8'}, {'Genre10', 'Genre4', 'Genre3', 'Genre8'}, {'Genre5', 'Genre6', 'Genre7', 'Genre1', 'Genre9', 'Genre10', 'Genre3'}, {'Genre5', 'Genre8', 'Genre7', 'Genre1'}, {'Genre6', 'Genre2', 'Genre3', 'Genre8'}, {'Genre10', 'Genre4', 'Genre1'}, {'Genre10', 'Genre9', 'Genre3', 'Genre8'}, {'Genre10', 'Genre6', 'Genre7'}, {'Genre5', 'Genre8', 'Genre9', 'Genre1'}, {'Genre6', 'Genre1', 'Genre9', 'Genre10', 'Genre4'}, {'Genre6', 'Genre1', 'Genre2', 'Genre4', 'Genre3'}, {'Genre5', 'Genre9', 'Genre8', 'Genre10', 'Genre4', 'Genre3'}, {'Genre5', 'Genre9', 'Genre2', 'Genre8', 'Genre3'}, {'Genre7', 'Genre1', 'Genre2', 'Genre4', 'Genre3'}, {'Genre6', 'Genre7', 'Genre1', 'Genre9', 'Genre10', 'Genre4', 'Genre3'}, {'Genre5', 'Genre6', 'Genre1', 'Genre9', 'Genre10', 'Genre4', 'Genre3'}, {'Genre9', 'Genre6', 'Genre4', 'Genre8'}, {'Genre1', 'Genre9', 'Genre8', 'Genre10', 'Genre4', 'Genre3'}, {'Genre10', 'Genre4', 'Genre2', 'Genre8'}, {'Genre7', 'Genre1', 'Genre2', 'Genre10', 'Genre3'}, {'Genre9', 'Genre4', 'Genre1'}, {'Genre10', 'Genre6', 'Genre8'}, {'Genre6', 'Genre7', 'Genre8'}, {'Genre7', 'Genre8', 'Genre4', 'Genre1'}, {'Genre5', 'Genre6', 'Genre4'}, {'Genre5', 'Genre9', 'Genre2'}, {'Genre1'}, {'Genre6', 'Genre1', 'Genre9', 'Genre2', 'Genre10', 'Genre3'}, {'Genre10', 'Genre9', 'Genre2', 'Genre1'}, {'Genre10', 'Genre4', 'Genre1'}, {'Genre10', 'Genre6', 'Genre3', 'Genre8'}, {'Genre7', 'Genre1', 'Genre8', 'Genre10', 'Genre4', 'Genre3'}, {'Genre5', 'Genre6', 'Genre7', 'Genre2', 'Genre4'}, {'Genre5', 'Genre8', 'Genre1'}, {'Genre7', 'Genre4', 'Genre2', 'Genre3'}]\n"
     ]
    }
   ],
   "source": [
    "import pandas as pd\n",
    "import random\n",
    "\n",
    "# Load real dataset\n",
    "file_path = 'streaming_preferences_dataset.csv'  \n",
    "real_dataset_df = pd.read_csv(file_path)\n",
    "\n",
    "def mask_technique_revised_real_dataset(real_dataset, privacy_factor):\n",
    "    num_rows, num_columns = real_dataset.shape\n",
    "    masked_dataset = []\n",
    "\n",
    "    for index, row in real_dataset.iterrows():\n",
    "        masked_row = set()\n",
    "        for column in real_dataset.columns:\n",
    "            if random.random() <= privacy_factor:\n",
    "                # Flip the bit with probability privacy_factor\n",
    "                masked_row.add(column)\n",
    "            else:\n",
    "                # Retain the original item with probability 1 - privacy_factor\n",
    "                if row[column] == 1:\n",
    "                    masked_row.add(column)\n",
    "        masked_dataset.append(masked_row)\n",
    "\n",
    "    return masked_dataset\n",
    "\n",
    "privacy_factor = 0.2\n",
    "\n",
    "# Apply MASK Technique to the real dataset\n",
    "masked_real_dataset = mask_technique_revised_real_dataset(real_dataset_df, privacy_factor)\n",
    "print(\"\\nMasked Real Dataset:\")\n",
    "print(masked_real_dataset)\n"
   ]
  },
  {
   "cell_type": "markdown",
   "metadata": {},
   "source": [
    "Defining Privacy Factor and Weight: The privacy_factor and a variables are defined. The privacy_factor controls how much distortion is applied to the dataset, affecting privacy. The a variable represents the weight given to the privacy of 1's over 0's.\n",
    "\n",
    "Applying Distortion: The real dataset is distorted using a function called distort_user_data(), which applies distortion based on the defined privacy factor.\n",
    "\n",
    "Displaying Distorted Dataset: Both the original and distorted datasets are displayed side by side for comparison. This step helps visualize the impact of distortion on the data.\n",
    "\n",
    "Computing Reconstruction Probabilities: For each entry in the distorted dataset, the code computes the reconstruction probability, which represents the likelihood of correctly reconstructing the original value from its distorted version. This calculation is based on the true and distorted values and the privacy factor.\n",
    "\n",
    "Computing General Reconstruction Probability: The general reconstruction probability is calculated based on the reconstruction probabilities for all entries in the dataset. It provides an overall measure of how well the original dataset can be reconstructed from its distorted version.\n",
    "\n",
    "Computing Privacy Measure: The privacy measure is computed based on the general reconstruction probability. It quantifies the level of privacy achieved by the distortion process. Higher privacy measures indicate better protection of sensitive information.\n",
    "\n",
    "Evaluating and Interpreting Results: Finally, the code evaluates and interprets the results, including reconstruction probabilities, general reconstruction probability, privacy measure, and weight. This step provides insights into the effectiveness of the distortion process in preserving privacy and guides further decision-making.\n",
    "\n",
    "\n",
    "\n",
    "\n",
    "\n"
   ]
  },
  {
   "cell_type": "code",
   "execution_count": 510,
   "metadata": {},
   "outputs": [
    {
     "name": "stdout",
     "output_type": "stream",
     "text": [
      "Original Database:\n",
      "[[0 1 0 ... 0 1 0]\n",
      " [1 0 0 ... 0 1 0]\n",
      " [0 0 0 ... 0 0 1]\n",
      " ...\n",
      " [0 1 0 ... 0 0 0]\n",
      " [1 0 0 ... 1 0 0]\n",
      " [0 0 0 ... 0 0 0]]\n",
      "\n",
      "Distorted Database:\n",
      "[[1 0 1 ... 1 0 1]\n",
      " [0 1 0 ... 0 0 1]\n",
      " [1 1 1 ... 1 1 0]\n",
      " ...\n",
      " [0 0 1 ... 1 1 0]\n",
      " [1 1 1 ... 1 0 1]\n",
      " [1 1 1 ... 1 1 1]]\n",
      "Reconstruction Probabilities for Each Entry:\n",
      "[0.2, 0.2, 0.2, 0.2, 0.2, 0.2, 0.2, 0.2, 0.2, 0.2, 0.2, 0.2, 0.8, 0.2, 0.2, 0.8, 0.8, 0.8, 0.2, 0.2, 0.2, 0.2, 0.2, 0.8, 0.2, 0.2, 0.2, 0.2, 0.2, 0.2, 0.2, 0.2, 0.2, 0.2, 0.2, 0.2, 0.8, 0.2, 0.2, 0.2, 0.8, 0.2, 0.2, 0.2, 0.2, 0.2, 0.2, 0.8, 0.2, 0.2, 0.2, 0.2, 0.2, 0.2, 0.2, 0.2, 0.2, 0.8, 0.2, 0.2, 0.2, 0.2, 0.2, 0.2, 0.2, 0.2, 0.2, 0.2, 0.2, 0.2, 0.2, 0.2, 0.2, 0.2, 0.2, 0.2, 0.8, 0.2, 0.2, 0.2, 0.2, 0.2, 0.2, 0.2, 0.8, 0.2, 0.8, 0.2, 0.8, 0.2, 0.2, 0.2, 0.2, 0.2, 0.8, 0.2, 0.2, 0.2, 0.2, 0.2, 0.2, 0.2, 0.2, 0.8, 0.2, 0.2, 0.2, 0.2, 0.2, 0.2, 0.2, 0.2, 0.2, 0.2, 0.2, 0.2, 0.2, 0.2, 0.2, 0.2, 0.2, 0.2, 0.2, 0.2, 0.2, 0.8, 0.2, 0.2, 0.2, 0.8, 0.2, 0.2, 0.2, 0.2, 0.2, 0.2, 0.2, 0.2, 0.2, 0.2, 0.2, 0.2, 0.2, 0.2, 0.2, 0.2, 0.2, 0.2, 0.2, 0.2, 0.2, 0.8, 0.8, 0.2, 0.2, 0.2, 0.2, 0.8, 0.2, 0.2, 0.2, 0.2, 0.2, 0.2, 0.2, 0.2, 0.2, 0.2, 0.8, 0.2, 0.2, 0.8, 0.2, 0.2, 0.8, 0.2, 0.2, 0.2, 0.2, 0.2, 0.2, 0.2, 0.2, 0.2, 0.2, 0.2, 0.2, 0.2, 0.2, 0.2, 0.8, 0.2, 0.8, 0.8, 0.2, 0.8, 0.2, 0.2, 0.8, 0.2, 0.8, 0.2, 0.2, 0.2, 0.2, 0.8, 0.8, 0.2, 0.2, 0.8, 0.2, 0.8, 0.2, 0.2, 0.2, 0.2, 0.8, 0.2, 0.2, 0.2, 0.8, 0.2, 0.2, 0.2, 0.2, 0.2, 0.2, 0.2, 0.2, 0.8, 0.8, 0.2, 0.8, 0.2, 0.2, 0.2, 0.8, 0.2, 0.2, 0.2, 0.2, 0.2, 0.2, 0.2, 0.2, 0.2, 0.2, 0.8, 0.8, 0.2, 0.2, 0.2, 0.2, 0.2, 0.8, 0.2, 0.2, 0.8, 0.2, 0.2, 0.2, 0.2, 0.2, 0.2, 0.2, 0.2, 0.2, 0.2, 0.2, 0.2, 0.2, 0.2, 0.2, 0.2, 0.2, 0.2, 0.8, 0.2, 0.2, 0.2, 0.2, 0.2, 0.2, 0.2, 0.2, 0.2, 0.8, 0.8, 0.8, 0.2, 0.2, 0.2, 0.2, 0.2, 0.2, 0.2, 0.2, 0.2, 0.2, 0.8, 0.2, 0.2, 0.2, 0.8, 0.2, 0.2, 0.8, 0.2, 0.2, 0.2, 0.2, 0.2, 0.2, 0.2, 0.2, 0.2, 0.2, 0.2, 0.2, 0.2, 0.2, 0.8, 0.8, 0.8, 0.8, 0.8, 0.2, 0.2, 0.2, 0.2, 0.8, 0.2, 0.2, 0.8, 0.8, 0.8, 0.2, 0.2, 0.8, 0.2, 0.2, 0.2, 0.2, 0.8, 0.2, 0.2, 0.2, 0.2, 0.8, 0.8, 0.2, 0.8, 0.2, 0.8, 0.2, 0.2, 0.2, 0.2, 0.2, 0.2, 0.2, 0.2, 0.2, 0.2, 0.2, 0.2, 0.8, 0.8, 0.2, 0.2, 0.2, 0.2, 0.2, 0.2, 0.2, 0.2, 0.2, 0.8, 0.2, 0.8, 0.2, 0.2, 0.2, 0.2, 0.2, 0.2, 0.2, 0.2, 0.8, 0.2, 0.2, 0.2, 0.2, 0.8, 0.2, 0.2, 0.2, 0.2, 0.2, 0.2, 0.2, 0.2, 0.8, 0.2, 0.2, 0.2, 0.2, 0.2, 0.2, 0.2, 0.2, 0.2, 0.2, 0.2, 0.2, 0.2, 0.2, 0.8, 0.8, 0.2, 0.2, 0.2, 0.2, 0.2, 0.2, 0.2, 0.2, 0.2, 0.2, 0.2, 0.2, 0.8, 0.2, 0.2, 0.2, 0.2, 0.8, 0.2, 0.2, 0.2, 0.8, 0.8, 0.2, 0.2, 0.2, 0.2, 0.2, 0.2, 0.2, 0.2, 0.2, 0.2, 0.2, 0.2, 0.2, 0.2, 0.2, 0.2, 0.2, 0.2, 0.2, 0.8, 0.2, 0.8, 0.2, 0.2, 0.8, 0.2, 0.2, 0.2, 0.2, 0.2, 0.2, 0.8, 0.2, 0.2, 0.2, 0.2, 0.2, 0.2, 0.2, 0.2, 0.2, 0.8, 0.2, 0.2, 0.8, 0.2, 0.2, 0.2, 0.2, 0.2, 0.2, 0.8, 0.2, 0.2, 0.2, 0.2, 0.2, 0.2, 0.2, 0.2, 0.2, 0.2, 0.2, 0.8, 0.2, 0.2, 0.2, 0.2, 0.2, 0.8, 0.2, 0.2, 0.2, 0.2, 0.2, 0.8, 0.2, 0.2, 0.2, 0.2, 0.2, 0.2, 0.2, 0.8, 0.2, 0.2, 0.2, 0.8, 0.2, 0.8, 0.2, 0.2, 0.2, 0.2, 0.8, 0.8, 0.2, 0.2, 0.2, 0.2, 0.8, 0.8, 0.2, 0.2, 0.2, 0.2, 0.2, 0.8, 0.8, 0.8, 0.2, 0.2, 0.2, 0.2, 0.2, 0.8, 0.2, 0.8, 0.2, 0.2, 0.8, 0.2, 0.2, 0.2, 0.2, 0.2, 0.2, 0.2, 0.2, 0.2, 0.8, 0.2, 0.2, 0.2, 0.2, 0.8, 0.2, 0.2, 0.2, 0.2, 0.2, 0.2, 0.8, 0.2, 0.2, 0.2, 0.2, 0.8, 0.2, 0.2, 0.8, 0.2, 0.2, 0.2, 0.2, 0.2, 0.2, 0.8, 0.8, 0.2, 0.2, 0.2, 0.2, 0.8, 0.2, 0.2, 0.2, 0.2, 0.8, 0.8, 0.2, 0.2, 0.2, 0.8, 0.2, 0.2, 0.2, 0.2, 0.2, 0.2, 0.2, 0.8, 0.2, 0.8, 0.2, 0.2, 0.2, 0.2, 0.2, 0.2, 0.2, 0.2, 0.2, 0.8, 0.2, 0.2, 0.2, 0.2, 0.2, 0.2, 0.2, 0.2, 0.8, 0.2, 0.2, 0.2, 0.8, 0.2, 0.2, 0.2, 0.2, 0.8, 0.2, 0.8, 0.2, 0.2, 0.2, 0.8, 0.2, 0.2, 0.2, 0.2, 0.8, 0.2, 0.2, 0.2, 0.2, 0.2, 0.2, 0.8, 0.2, 0.2, 0.2, 0.8, 0.2, 0.8, 0.2, 0.2, 0.2, 0.2, 0.2, 0.2, 0.8, 0.2, 0.2, 0.2, 0.2, 0.2, 0.2, 0.2, 0.2, 0.2, 0.2, 0.2, 0.2, 0.8, 0.2, 0.2, 0.2, 0.2, 0.2, 0.2, 0.8, 0.2, 0.2, 0.2, 0.2, 0.2, 0.2, 0.2, 0.2, 0.2, 0.8, 0.2, 0.2, 0.2, 0.8, 0.2, 0.8, 0.8, 0.2, 0.2, 0.8, 0.2, 0.2, 0.2, 0.2, 0.2, 0.8, 0.2, 0.8, 0.2, 0.8, 0.2, 0.2, 0.2, 0.2, 0.2, 0.8, 0.2, 0.2, 0.2, 0.2, 0.2, 0.2, 0.2, 0.2, 0.2, 0.8, 0.2, 0.2, 0.2, 0.2, 0.2, 0.8, 0.8, 0.8, 0.8, 0.8, 0.2, 0.2, 0.2, 0.2, 0.2, 0.8, 0.2, 0.2, 0.2, 0.2, 0.2, 0.2, 0.2, 0.2, 0.2, 0.2, 0.2, 0.8, 0.2, 0.2, 0.2, 0.8, 0.2, 0.2, 0.2, 0.2, 0.2, 0.2, 0.8, 0.2, 0.2, 0.2, 0.2, 0.2, 0.2, 0.8, 0.2, 0.2, 0.2, 0.2, 0.2, 0.2, 0.2, 0.8, 0.2, 0.2, 0.2, 0.2, 0.2, 0.8, 0.2, 0.8, 0.8, 0.2, 0.2, 0.2, 0.2, 0.2, 0.2, 0.2, 0.2, 0.2, 0.8, 0.8, 0.2, 0.2, 0.2, 0.2, 0.2, 0.2, 0.2, 0.2, 0.2, 0.8, 0.8, 0.2, 0.2, 0.2, 0.2, 0.2, 0.8, 0.2, 0.2, 0.2, 0.2, 0.2, 0.2, 0.8, 0.8, 0.8, 0.2, 0.2, 0.2, 0.8, 0.8, 0.2, 0.2, 0.2, 0.2, 0.2, 0.2, 0.2, 0.8, 0.2, 0.2, 0.2, 0.2, 0.2, 0.2, 0.2, 0.8, 0.2, 0.8, 0.2, 0.2, 0.8, 0.2, 0.2, 0.2, 0.2, 0.2, 0.8, 0.2, 0.8, 0.2, 0.8, 0.8, 0.2, 0.2, 0.8, 0.2, 0.2, 0.2, 0.2, 0.2, 0.8, 0.8, 0.2, 0.2, 0.2, 0.2, 0.2, 0.2, 0.2, 0.2, 0.2, 0.2, 0.2, 0.2, 0.2, 0.2, 0.2, 0.8, 0.2, 0.2, 0.2, 0.2, 0.2, 0.2, 0.2, 0.2, 0.2, 0.8, 0.2, 0.2, 0.2, 0.2, 0.2, 0.2, 0.8, 0.2, 0.2, 0.2, 0.2, 0.2, 0.8, 0.2, 0.8, 0.2, 0.2, 0.2, 0.2, 0.2, 0.2, 0.2, 0.2, 0.2, 0.2, 0.8, 0.2, 0.2, 0.2, 0.2, 0.2, 0.2, 0.2, 0.2, 0.2, 0.2, 0.2, 0.2, 0.2, 0.2, 0.8, 0.8, 0.2, 0.2, 0.8, 0.2, 0.2, 0.2, 0.8, 0.2, 0.2, 0.2, 0.2, 0.2, 0.2, 0.2, 0.2, 0.2, 0.8, 0.2, 0.2, 0.8, 0.8, 0.2, 0.2, 0.2, 0.2, 0.2, 0.2, 0.8, 0.2, 0.2, 0.8, 0.8, 0.2, 0.2, 0.8, 0.2, 0.2, 0.2, 0.2, 0.8, 0.8, 0.2, 0.2, 0.2, 0.8, 0.2, 0.8, 0.2, 0.2, 0.2, 0.2, 0.2, 0.2, 0.2, 0.2, 0.2, 0.2, 0.8, 0.8, 0.2, 0.2, 0.2, 0.2, 0.2, 0.2, 0.2, 0.2, 0.2, 0.2, 0.2, 0.2, 0.2, 0.2, 0.2, 0.2, 0.2, 0.2, 0.8, 0.8, 0.2, 0.2, 0.8, 0.2, 0.2, 0.2, 0.2, 0.2, 0.2, 0.2, 0.2, 0.2, 0.2, 0.2, 0.8, 0.8, 0.2, 0.8, 0.2, 0.2, 0.2, 0.2, 0.2, 0.2, 0.2, 0.2, 0.8, 0.2, 0.2, 0.2, 0.2, 0.2, 0.2, 0.8, 0.2, 0.2, 0.2, 0.2, 0.8, 0.2, 0.8, 0.2, 0.2, 0.2, 0.2, 0.2, 0.2, 0.2, 0.2, 0.2, 0.2, 0.2, 0.2, 0.2, 0.2, 0.2, 0.8, 0.2, 0.2, 0.2, 0.2, 0.2, 0.8, 0.2, 0.2, 0.2, 0.2, 0.2, 0.2, 0.2, 0.2, 0.2, 0.2, 0.2, 0.2, 0.2, 0.2, 0.2, 0.2, 0.2, 0.2, 0.2, 0.2, 0.2, 0.2, 0.2, 0.2, 0.2, 0.2, 0.2, 0.2, 0.2, 0.2, 0.2, 0.2, 0.2, 0.2, 0.2, 0.2, 0.2, 0.2, 0.8, 0.2, 0.2, 0.8, 0.8, 0.8, 0.2, 0.2, 0.2, 0.2, 0.8, 0.2, 0.2, 0.8, 0.2, 0.2, 0.2, 0.2, 0.2, 0.2, 0.2, 0.2, 0.2, 0.2, 0.2, 0.2, 0.2, 0.8, 0.2, 0.2, 0.2, 0.2, 0.2, 0.2, 0.2, 0.2, 0.2, 0.2, 0.2, 0.8, 0.8, 0.2, 0.2, 0.2, 0.2, 0.2, 0.2, 0.2, 0.2, 0.2, 0.2, 0.2, 0.2, 0.2, 0.2, 0.8, 0.2, 0.2, 0.8, 0.2, 0.2, 0.2, 0.2, 0.2, 0.2, 0.2, 0.2, 0.2, 0.8, 0.2, 0.8, 0.2, 0.2, 0.2, 0.8, 0.8, 0.8, 0.2, 0.2, 0.2, 0.8, 0.2, 0.2, 0.2, 0.2, 0.8, 0.2, 0.2, 0.2, 0.2, 0.2, 0.2, 0.2, 0.2, 0.8, 0.2, 0.8, 0.8, 0.8, 0.2, 0.2, 0.2, 0.2, 0.2, 0.8, 0.2, 0.8, 0.8, 0.2, 0.2, 0.2, 0.2, 0.2, 0.2, 0.2, 0.2, 0.2, 0.2, 0.8, 0.2, 0.8, 0.2, 0.2, 0.2, 0.8, 0.8, 0.2, 0.2, 0.8, 0.2, 0.2, 0.2, 0.2, 0.8, 0.2, 0.2, 0.2, 0.2, 0.2, 0.2, 0.2, 0.2, 0.2, 0.2, 0.2, 0.2, 0.2, 0.2, 0.2, 0.8, 0.2, 0.2, 0.2, 0.2, 0.2, 0.2, 0.2, 0.8, 0.2, 0.2, 0.2, 0.2, 0.2, 0.8, 0.8, 0.2, 0.8, 0.2, 0.2, 0.8, 0.2, 0.2, 0.2, 0.8, 0.2, 0.2, 0.2, 0.2, 0.8, 0.2, 0.2, 0.2, 0.2, 0.8, 0.2, 0.2, 0.2, 0.2, 0.2, 0.2, 0.2, 0.8, 0.2, 0.2, 0.2, 0.8, 0.2, 0.2, 0.2, 0.2, 0.8, 0.2, 0.2, 0.2, 0.2, 0.2, 0.8, 0.2, 0.8, 0.2, 0.8, 0.2, 0.2, 0.2, 0.8, 0.8, 0.2, 0.8, 0.2, 0.2, 0.2, 0.2, 0.2, 0.8, 0.2, 0.2, 0.2, 0.2, 0.2, 0.8, 0.2, 0.2, 0.2, 0.8, 0.8, 0.2, 0.8, 0.2, 0.2, 0.2, 0.2, 0.2, 0.2, 0.2, 0.2, 0.2, 0.2, 0.2, 0.2, 0.2, 0.2, 0.2, 0.2, 0.2, 0.2, 0.2, 0.2, 0.2, 0.2, 0.2, 0.2, 0.2, 0.2, 0.2, 0.2, 0.2, 0.2, 0.2, 0.2, 0.2, 0.2, 0.2, 0.2, 0.2, 0.2, 0.8, 0.2, 0.8, 0.8, 0.2, 0.2, 0.2, 0.2, 0.2, 0.2, 0.2, 0.8, 0.8, 0.8, 0.8, 0.2, 0.2, 0.2, 0.2, 0.2, 0.2, 0.2, 0.2, 0.2, 0.2, 0.2, 0.2, 0.2, 0.2, 0.2, 0.2, 0.8, 0.2, 0.2, 0.2, 0.8, 0.2, 0.2, 0.2, 0.2, 0.2, 0.2, 0.2, 0.2, 0.2, 0.8, 0.2, 0.8, 0.2, 0.2, 0.2, 0.8, 0.2, 0.8, 0.2, 0.2, 0.2, 0.2, 0.2, 0.2, 0.2, 0.2, 0.2, 0.2, 0.8, 0.2, 0.2, 0.8, 0.2, 0.2, 0.2, 0.2, 0.2, 0.2, 0.8, 0.2, 0.2, 0.8, 0.8, 0.2, 0.2, 0.2, 0.8, 0.2, 0.8, 0.2, 0.2, 0.8, 0.2, 0.2, 0.2, 0.2, 0.8, 0.2, 0.2, 0.2, 0.2, 0.8, 0.2, 0.2, 0.8, 0.2, 0.2, 0.2, 0.2, 0.2, 0.2, 0.2, 0.8, 0.8, 0.2, 0.2, 0.2, 0.2, 0.2, 0.2, 0.2, 0.8, 0.2, 0.2, 0.2, 0.2, 0.2, 0.2, 0.2, 0.2, 0.2, 0.2, 0.2, 0.2, 0.2, 0.2, 0.8, 0.2, 0.2, 0.2, 0.8, 0.2, 0.8, 0.2, 0.8, 0.2, 0.2, 0.2, 0.8, 0.8, 0.2, 0.2, 0.2, 0.8, 0.2, 0.2, 0.2, 0.2, 0.2, 0.2, 0.2, 0.2, 0.2, 0.2, 0.2, 0.2, 0.2, 0.2, 0.2, 0.8, 0.2, 0.2, 0.2, 0.2, 0.2, 0.2, 0.2, 0.2, 0.2, 0.2, 0.2, 0.2, 0.2, 0.2, 0.2, 0.2, 0.2, 0.2, 0.2, 0.2, 0.2, 0.2, 0.8, 0.8, 0.8, 0.8, 0.8, 0.8, 0.2, 0.2, 0.2, 0.2, 0.8, 0.2, 0.8, 0.8, 0.2, 0.2, 0.2, 0.2, 0.8, 0.2, 0.2, 0.2, 0.2, 0.2, 0.2, 0.2, 0.2, 0.8, 0.2, 0.2, 0.8, 0.2, 0.2, 0.2, 0.2, 0.2, 0.8, 0.8, 0.8, 0.2, 0.2, 0.8, 0.8, 0.2, 0.2, 0.2, 0.2, 0.2, 0.2, 0.2, 0.2, 0.8, 0.2, 0.2, 0.2, 0.2, 0.8, 0.2, 0.2, 0.2, 0.2, 0.2, 0.2, 0.8, 0.2, 0.8, 0.2, 0.2, 0.2, 0.2, 0.8, 0.2, 0.2, 0.2, 0.2, 0.2, 0.2, 0.2, 0.8, 0.2, 0.2, 0.2, 0.8, 0.8, 0.2, 0.2, 0.2, 0.2, 0.2, 0.2, 0.8, 0.2, 0.8, 0.2, 0.2, 0.2, 0.8, 0.2, 0.8, 0.2, 0.2, 0.2, 0.2, 0.2, 0.2, 0.2, 0.2, 0.2, 0.2, 0.2, 0.2, 0.8, 0.2, 0.2, 0.8, 0.8, 0.2, 0.2, 0.8, 0.2, 0.2, 0.2, 0.2, 0.2, 0.2, 0.8, 0.2, 0.2, 0.2, 0.2, 0.2, 0.2, 0.2, 0.2, 0.2, 0.2, 0.2, 0.2, 0.2, 0.2, 0.2, 0.2, 0.8, 0.2, 0.2, 0.2, 0.8, 0.2, 0.2, 0.8, 0.2, 0.2, 0.2, 0.2, 0.2, 0.2, 0.2, 0.2, 0.2, 0.2, 0.2, 0.2, 0.2, 0.8, 0.8, 0.2, 0.2, 0.2, 0.2, 0.2, 0.2, 0.2, 0.2, 0.2, 0.2, 0.2, 0.2, 0.2, 0.8, 0.8, 0.8, 0.8, 0.2, 0.2, 0.8, 0.8, 0.2, 0.2, 0.2, 0.2, 0.2, 0.2, 0.2, 0.2, 0.2, 0.2, 0.2, 0.8, 0.2, 0.2, 0.2, 0.8, 0.2, 0.2, 0.2, 0.2, 0.2, 0.2, 0.2, 0.2, 0.2, 0.2, 0.2, 0.2, 0.8, 0.2, 0.8, 0.2, 0.2, 0.2, 0.2, 0.8, 0.2, 0.8, 0.8, 0.2, 0.8, 0.8, 0.2, 0.2, 0.2, 0.8, 0.2, 0.2, 0.2, 0.2, 0.2, 0.2, 0.2, 0.8, 0.2, 0.2, 0.8, 0.2, 0.2, 0.2, 0.2, 0.2, 0.8, 0.2, 0.2, 0.2, 0.8, 0.8, 0.2, 0.8, 0.2, 0.2, 0.2, 0.2, 0.2, 0.2, 0.2, 0.8, 0.2, 0.2, 0.8, 0.2, 0.8, 0.2, 0.8, 0.2, 0.2, 0.2, 0.2, 0.2, 0.8, 0.8, 0.2, 0.2, 0.8, 0.2, 0.2, 0.2, 0.8, 0.2, 0.2, 0.2, 0.2, 0.2, 0.2, 0.2, 0.2, 0.2, 0.2, 0.2, 0.2, 0.2, 0.2, 0.2, 0.8, 0.2, 0.2, 0.2, 0.2, 0.2, 0.2, 0.2, 0.8, 0.2, 0.2, 0.2, 0.2, 0.2, 0.2, 0.2, 0.8, 0.2, 0.8, 0.2, 0.2, 0.2, 0.2, 0.8, 0.2, 0.2, 0.2, 0.2, 0.2, 0.2, 0.8, 0.2, 0.2, 0.2, 0.2, 0.2, 0.2, 0.2, 0.2, 0.2, 0.8, 0.2, 0.2, 0.2, 0.2, 0.2, 0.2, 0.2, 0.2, 0.8, 0.8, 0.8, 0.2, 0.2, 0.8, 0.8, 0.2, 0.2, 0.2, 0.8, 0.2, 0.2, 0.8, 0.2, 0.8, 0.2, 0.2, 0.2, 0.2, 0.2, 0.2, 0.2, 0.8, 0.2, 0.2, 0.2, 0.2, 0.2, 0.8, 0.2, 0.2, 0.2, 0.2, 0.8, 0.2, 0.2, 0.2, 0.2, 0.2, 0.2, 0.8, 0.2, 0.2, 0.2, 0.2, 0.2, 0.8, 0.8, 0.2, 0.2, 0.2, 0.2, 0.2, 0.2, 0.2, 0.2, 0.2, 0.2, 0.8, 0.2, 0.2, 0.2, 0.2, 0.2, 0.2, 0.2, 0.2, 0.2, 0.2, 0.2, 0.2, 0.2, 0.8, 0.2, 0.2, 0.2, 0.2, 0.8, 0.2, 0.2, 0.2, 0.2, 0.2, 0.2, 0.2, 0.2, 0.2, 0.2, 0.8, 0.2, 0.2, 0.2, 0.8, 0.2, 0.2, 0.2, 0.2, 0.2, 0.2, 0.2, 0.2, 0.2, 0.2, 0.2, 0.2, 0.2, 0.2, 0.2, 0.2, 0.2, 0.2, 0.2, 0.2, 0.2, 0.2, 0.2, 0.2, 0.2, 0.2, 0.2, 0.2, 0.2, 0.2, 0.2, 0.2, 0.8, 0.2, 0.2, 0.2, 0.8, 0.2, 0.2, 0.2, 0.2, 0.2, 0.8, 0.2, 0.2, 0.2, 0.8, 0.8, 0.8, 0.2, 0.2, 0.2, 0.2, 0.2, 0.2, 0.2, 0.2, 0.8, 0.2, 0.2, 0.2, 0.2, 0.2, 0.2, 0.2, 0.8, 0.2, 0.2, 0.8, 0.8, 0.2, 0.2, 0.8, 0.2, 0.2, 0.8, 0.8, 0.2, 0.2, 0.2, 0.8, 0.2, 0.2, 0.2, 0.8, 0.2, 0.2, 0.2, 0.8, 0.2, 0.2, 0.8, 0.2, 0.2, 0.2, 0.2, 0.2, 0.2, 0.2, 0.2, 0.8, 0.2, 0.2, 0.2, 0.8, 0.2, 0.8, 0.2, 0.2, 0.2, 0.2, 0.2, 0.2, 0.2, 0.8, 0.2, 0.2, 0.2, 0.2, 0.2, 0.2, 0.8, 0.8, 0.2, 0.2, 0.2, 0.8, 0.2, 0.2, 0.8, 0.2, 0.8, 0.2, 0.2, 0.2, 0.2, 0.8, 0.8, 0.8, 0.2, 0.2, 0.2, 0.2, 0.2, 0.8, 0.2, 0.8, 0.2, 0.2, 0.8, 0.2, 0.2, 0.2, 0.2, 0.2, 0.8, 0.2, 0.8, 0.2, 0.2, 0.2, 0.2, 0.2, 0.2, 0.2, 0.8, 0.2, 0.8, 0.2, 0.8, 0.2, 0.2, 0.2, 0.8, 0.2, 0.2, 0.8, 0.2, 0.2, 0.2, 0.2, 0.8, 0.2, 0.2, 0.2, 0.2, 0.2, 0.2, 0.2, 0.8, 0.2, 0.2, 0.8, 0.8, 0.2, 0.8, 0.8, 0.8, 0.2, 0.2, 0.2, 0.2, 0.2, 0.2, 0.2, 0.2, 0.2, 0.2, 0.2, 0.2, 0.2, 0.2, 0.2, 0.8, 0.2, 0.2, 0.2, 0.2, 0.8, 0.2, 0.2, 0.2, 0.2, 0.2, 0.2, 0.8, 0.2, 0.2, 0.2, 0.8, 0.2, 0.8, 0.2, 0.2, 0.8, 0.2, 0.2, 0.2, 0.2, 0.2, 0.2, 0.2, 0.2, 0.8, 0.2, 0.2, 0.2, 0.8, 0.2, 0.8, 0.2, 0.2, 0.2, 0.8, 0.8, 0.2, 0.2, 0.2, 0.2, 0.2, 0.2, 0.2, 0.2, 0.2, 0.2, 0.2, 0.2, 0.2, 0.2, 0.2, 0.2, 0.8, 0.2, 0.8, 0.2, 0.2, 0.2, 0.2, 0.8, 0.8, 0.2, 0.2, 0.8, 0.2, 0.2, 0.2, 0.2, 0.2, 0.2, 0.2, 0.8, 0.2, 0.2, 0.2, 0.2, 0.2, 0.2, 0.2, 0.8, 0.8, 0.2, 0.2, 0.2, 0.2, 0.2, 0.8, 0.2, 0.2, 0.8, 0.2, 0.2, 0.2, 0.8, 0.2, 0.8, 0.2, 0.8, 0.2, 0.2, 0.2, 0.2, 0.2, 0.2, 0.2, 0.2, 0.2, 0.2, 0.2, 0.2, 0.2, 0.2, 0.2, 0.2, 0.2, 0.2, 0.8, 0.2, 0.2, 0.2, 0.8, 0.2, 0.2, 0.2, 0.2, 0.2, 0.2, 0.2, 0.2, 0.2, 0.8, 0.2, 0.8, 0.2, 0.2, 0.8, 0.2, 0.2, 0.2, 0.8, 0.2, 0.2, 0.2, 0.2, 0.2, 0.8, 0.2, 0.2, 0.2, 0.2, 0.2, 0.8, 0.2, 0.2, 0.2, 0.2, 0.2, 0.2, 0.2, 0.2, 0.2, 0.2, 0.2, 0.8, 0.2, 0.2, 0.2, 0.2, 0.2, 0.8, 0.2, 0.2, 0.8, 0.8, 0.8, 0.2, 0.2, 0.8, 0.2, 0.2, 0.2, 0.8, 0.2, 0.2, 0.8, 0.8, 0.2, 0.2, 0.2, 0.2, 0.2, 0.2, 0.2, 0.8, 0.2, 0.2, 0.2, 0.2, 0.8, 0.2, 0.2, 0.2, 0.2, 0.2, 0.2, 0.2, 0.2, 0.2, 0.8, 0.2, 0.2, 0.2, 0.2, 0.2, 0.8, 0.2, 0.2, 0.2, 0.2, 0.8, 0.2, 0.2, 0.8, 0.8, 0.2, 0.2, 0.2, 0.8, 0.2, 0.2, 0.2, 0.8, 0.2, 0.8, 0.2, 0.2, 0.2, 0.2, 0.2, 0.2, 0.2, 0.2, 0.2, 0.2, 0.2, 0.2, 0.2, 0.8, 0.2, 0.2, 0.8, 0.2, 0.2, 0.2, 0.2, 0.2, 0.2, 0.2, 0.2, 0.2, 0.2, 0.2, 0.2, 0.2, 0.2, 0.8, 0.2, 0.2, 0.2, 0.2, 0.2, 0.2, 0.8, 0.2, 0.8, 0.2, 0.2, 0.2, 0.2, 0.8, 0.2, 0.2, 0.8, 0.2, 0.2, 0.2, 0.2, 0.2, 0.2, 0.8, 0.2, 0.2, 0.2, 0.2, 0.2, 0.2, 0.2, 0.8, 0.2, 0.2, 0.2, 0.2, 0.2, 0.2, 0.2, 0.2, 0.2, 0.2, 0.8, 0.2, 0.2, 0.2, 0.8, 0.2, 0.2, 0.8, 0.2, 0.2, 0.2, 0.2, 0.2, 0.8, 0.2, 0.8, 0.2, 0.8, 0.2, 0.2, 0.2, 0.8, 0.2, 0.2, 0.2, 0.2, 0.2, 0.2, 0.2, 0.2, 0.2, 0.2, 0.2, 0.2, 0.8, 0.2, 0.2, 0.2, 0.8, 0.2, 0.8, 0.2, 0.8, 0.2, 0.2, 0.2, 0.2, 0.2, 0.2, 0.2, 0.2, 0.2, 0.8, 0.8, 0.8, 0.2, 0.2, 0.2, 0.2, 0.2, 0.2, 0.8, 0.8, 0.2, 0.2, 0.2, 0.2, 0.2, 0.2, 0.2, 0.2, 0.2, 0.2, 0.2, 0.2, 0.2, 0.8, 0.2, 0.8, 0.2, 0.2, 0.8, 0.2, 0.2, 0.2, 0.2, 0.2, 0.2, 0.2, 0.8, 0.2, 0.2, 0.2, 0.2, 0.8, 0.2, 0.2, 0.2, 0.2, 0.2, 0.2, 0.2, 0.2, 0.2, 0.2, 0.2, 0.8, 0.2, 0.2, 0.8, 0.2, 0.2, 0.2, 0.2, 0.2, 0.2, 0.8, 0.2, 0.2, 0.2, 0.2, 0.2, 0.8, 0.2, 0.8, 0.8, 0.2, 0.8, 0.2, 0.2, 0.2, 0.8, 0.2, 0.2, 0.2, 0.2, 0.2, 0.8, 0.2, 0.2, 0.8, 0.2, 0.2, 0.2, 0.2, 0.2, 0.2, 0.8, 0.2, 0.2, 0.2, 0.2, 0.2, 0.8, 0.2, 0.2, 0.8, 0.2, 0.2, 0.2, 0.2, 0.2, 0.2, 0.2, 0.2, 0.2, 0.2, 0.2, 0.2, 0.8, 0.2, 0.8, 0.2, 0.2, 0.2, 0.2, 0.2, 0.2, 0.2, 0.2, 0.2, 0.2, 0.2, 0.2, 0.8, 0.2, 0.2, 0.2, 0.2, 0.2, 0.8, 0.2, 0.2, 0.2, 0.2, 0.2, 0.2, 0.8, 0.2, 0.2, 0.2, 0.2, 0.2, 0.2, 0.2, 0.2, 0.2, 0.8, 0.2, 0.2, 0.2, 0.2, 0.2, 0.2, 0.2, 0.2, 0.8, 0.8, 0.8, 0.2, 0.2, 0.8, 0.2, 0.8, 0.2, 0.2, 0.2, 0.2, 0.2, 0.2, 0.2, 0.2, 0.2, 0.2, 0.2, 0.2, 0.2, 0.2, 0.2, 0.8, 0.8, 0.2, 0.8, 0.2, 0.2, 0.2, 0.8, 0.2, 0.2, 0.2, 0.2, 0.2, 0.2, 0.2, 0.2, 0.2, 0.2, 0.2, 0.8, 0.2, 0.8, 0.2, 0.2, 0.2, 0.2, 0.2, 0.2, 0.2, 0.2, 0.2, 0.2, 0.2, 0.8, 0.2, 0.2, 0.2, 0.8, 0.8, 0.2, 0.2, 0.8, 0.2, 0.2, 0.2, 0.2, 0.2, 0.2, 0.8, 0.8, 0.2, 0.2, 0.2, 0.2, 0.2, 0.2, 0.2, 0.2, 0.2, 0.2, 0.2, 0.2, 0.2, 0.2, 0.2, 0.2, 0.2, 0.2, 0.8, 0.2, 0.2, 0.2, 0.8, 0.8, 0.2, 0.2, 0.8, 0.2, 0.2, 0.2, 0.2, 0.2, 0.2, 0.2, 0.2, 0.8, 0.2, 0.2, 0.2, 0.2, 0.8, 0.2, 0.8, 0.2, 0.2, 0.8, 0.2, 0.2, 0.2, 0.2, 0.2, 0.2, 0.2, 0.8, 0.2, 0.2, 0.2, 0.8, 0.2, 0.2, 0.2, 0.2, 0.8, 0.8, 0.2, 0.8, 0.2, 0.2, 0.2, 0.2, 0.2, 0.8, 0.2, 0.2, 0.2, 0.2, 0.2, 0.2, 0.2, 0.2, 0.8, 0.2, 0.8, 0.8, 0.2, 0.8, 0.8, 0.8, 0.2, 0.2, 0.2, 0.2, 0.2, 0.8, 0.2, 0.2, 0.8, 0.2, 0.2, 0.8, 0.8, 0.2, 0.2, 0.2, 0.2, 0.8, 0.2, 0.8, 0.2, 0.2, 0.2, 0.2, 0.2, 0.8, 0.2, 0.2, 0.2, 0.2, 0.2, 0.2, 0.8, 0.2, 0.2, 0.2, 0.2, 0.2, 0.8, 0.2, 0.2, 0.2, 0.8, 0.8, 0.8, 0.2, 0.2, 0.2, 0.2, 0.8, 0.8, 0.8, 0.2, 0.2, 0.2, 0.2, 0.2, 0.2, 0.2, 0.2, 0.2, 0.2, 0.2, 0.2, 0.2, 0.2, 0.8, 0.2, 0.8, 0.2, 0.8, 0.2, 0.2, 0.2, 0.8, 0.8, 0.2, 0.8, 0.2, 0.8, 0.2, 0.2, 0.2, 0.2, 0.2, 0.2, 0.2, 0.2, 0.2, 0.8, 0.2, 0.8, 0.2, 0.2, 0.2, 0.2, 0.2, 0.2, 0.8, 0.8, 0.2, 0.2, 0.2, 0.8, 0.2, 0.2, 0.2, 0.8, 0.2, 0.2, 0.2, 0.8, 0.8, 0.2, 0.2, 0.2, 0.2, 0.2, 0.2, 0.2, 0.2, 0.2, 0.2, 0.2, 0.2, 0.2, 0.2, 0.2, 0.2, 0.2, 0.2, 0.2, 0.2, 0.2, 0.2, 0.8, 0.8, 0.8, 0.2, 0.8, 0.2, 0.8, 0.2, 0.2, 0.2, 0.2, 0.8, 0.2, 0.2, 0.2, 0.2, 0.2, 0.2, 0.2, 0.2, 0.2, 0.2, 0.2, 0.2, 0.2, 0.2, 0.8, 0.2, 0.2, 0.2, 0.2, 0.2, 0.2, 0.2, 0.2, 0.2, 0.2, 0.2, 0.2, 0.2, 0.2, 0.2, 0.8, 0.2, 0.2, 0.2, 0.2, 0.8, 0.2, 0.2, 0.2, 0.2, 0.2, 0.2, 0.2, 0.8, 0.8, 0.2, 0.2, 0.2, 0.2, 0.2, 0.2, 0.2, 0.2, 0.2, 0.2, 0.2, 0.2, 0.2, 0.8, 0.2, 0.2, 0.2, 0.8, 0.2, 0.8, 0.2, 0.2, 0.2, 0.2, 0.2, 0.2, 0.2, 0.8, 0.2, 0.2, 0.2, 0.2, 0.2, 0.2, 0.2, 0.2, 0.2, 0.2, 0.2, 0.2, 0.2, 0.2, 0.2, 0.2, 0.2, 0.2, 0.8, 0.8, 0.2, 0.2, 0.8, 0.2, 0.2, 0.8, 0.8, 0.2, 0.2, 0.2, 0.2, 0.2, 0.2, 0.2, 0.2, 0.2, 0.2, 0.2, 0.8, 0.2, 0.8, 0.8, 0.2, 0.8, 0.2, 0.2, 0.2, 0.8, 0.2, 0.2, 0.2, 0.2, 0.2, 0.2, 0.8, 0.2, 0.2, 0.2, 0.2, 0.2, 0.8, 0.2, 0.8, 0.2, 0.2, 0.8, 0.8, 0.2, 0.2, 0.2, 0.2, 0.2, 0.8, 0.2, 0.8, 0.2, 0.2, 0.2, 0.2, 0.2, 0.8, 0.2, 0.8, 0.2, 0.2, 0.2, 0.8, 0.2, 0.8, 0.2, 0.2, 0.8, 0.2, 0.8, 0.2, 0.8, 0.2, 0.2, 0.2, 0.2, 0.2, 0.2, 0.2, 0.2, 0.2, 0.2, 0.2, 0.2, 0.8, 0.2, 0.2, 0.8, 0.2, 0.2, 0.2, 0.2, 0.2, 0.2, 0.8, 0.2, 0.2, 0.2, 0.8, 0.2, 0.8, 0.8, 0.2, 0.2, 0.2, 0.2, 0.2, 0.2, 0.8, 0.2, 0.2, 0.2, 0.8, 0.2, 0.2, 0.2, 0.2, 0.2, 0.2, 0.2, 0.2, 0.2, 0.2, 0.8, 0.8, 0.2, 0.2, 0.2, 0.2, 0.2, 0.2, 0.2, 0.8, 0.2, 0.2, 0.2, 0.2, 0.2, 0.2, 0.2, 0.2, 0.2, 0.2, 0.2, 0.2, 0.8, 0.2, 0.2, 0.2, 0.2, 0.2, 0.8, 0.2, 0.2, 0.2, 0.2, 0.2, 0.2, 0.2, 0.2, 0.8, 0.8, 0.2, 0.8, 0.2, 0.2, 0.2, 0.2, 0.2, 0.2, 0.2, 0.2, 0.2, 0.2, 0.2, 0.2, 0.2, 0.8, 0.2, 0.8, 0.2, 0.2, 0.2, 0.2, 0.8, 0.2, 0.8, 0.2, 0.2, 0.2, 0.2, 0.8, 0.8, 0.8, 0.2, 0.2, 0.8, 0.2, 0.2, 0.2, 0.2, 0.2, 0.2, 0.8, 0.2, 0.2, 0.2, 0.2, 0.2, 0.8, 0.8, 0.2, 0.2, 0.2, 0.2, 0.2, 0.2, 0.2, 0.2, 0.2, 0.2, 0.2, 0.2, 0.2, 0.2, 0.2, 0.8, 0.2, 0.2, 0.2, 0.2, 0.2, 0.2, 0.2, 0.8, 0.2, 0.8, 0.2, 0.2, 0.2, 0.2, 0.2, 0.8, 0.2, 0.2, 0.2, 0.2, 0.8, 0.2, 0.2, 0.2, 0.2, 0.2, 0.2, 0.2, 0.8, 0.8, 0.2, 0.8, 0.2, 0.8, 0.2, 0.2, 0.2, 0.2, 0.2, 0.2, 0.2, 0.2, 0.2, 0.2, 0.2, 0.2, 0.2, 0.8, 0.2, 0.2, 0.2, 0.2, 0.8, 0.2, 0.2, 0.2, 0.2, 0.8, 0.2, 0.2, 0.2, 0.2, 0.2, 0.2, 0.2, 0.2, 0.2, 0.2, 0.2, 0.2, 0.2, 0.8, 0.2, 0.8, 0.2, 0.2, 0.2, 0.2, 0.2, 0.2, 0.2, 0.2, 0.2, 0.8, 0.2, 0.8, 0.2, 0.2, 0.2, 0.2, 0.2, 0.2, 0.8, 0.2, 0.2, 0.2, 0.2, 0.8, 0.2, 0.2, 0.2, 0.2, 0.2, 0.2, 0.2, 0.2, 0.2, 0.2, 0.8, 0.2, 0.2, 0.2, 0.2, 0.2, 0.2, 0.2, 0.8, 0.2, 0.2, 0.2, 0.8, 0.2, 0.8, 0.2, 0.2, 0.2, 0.2, 0.8, 0.8, 0.2, 0.8, 0.2, 0.2, 0.2, 0.2, 0.2, 0.2, 0.2, 0.2, 0.2, 0.2, 0.8, 0.2, 0.2, 0.2, 0.2, 0.2, 0.2, 0.2, 0.2, 0.2, 0.2, 0.2, 0.2, 0.2, 0.2, 0.2, 0.2, 0.8, 0.2, 0.2, 0.2, 0.2, 0.2, 0.2, 0.8, 0.2, 0.2, 0.2, 0.8, 0.2, 0.2, 0.2, 0.2, 0.8, 0.2, 0.2, 0.2, 0.8, 0.2, 0.2, 0.2, 0.2, 0.8, 0.2, 0.8, 0.2, 0.2, 0.2, 0.8, 0.8, 0.2, 0.2, 0.8, 0.2, 0.2, 0.8, 0.2, 0.2, 0.2, 0.2, 0.2, 0.2, 0.2, 0.2, 0.2, 0.2, 0.2, 0.2, 0.2, 0.2, 0.2, 0.2, 0.2, 0.2, 0.2, 0.2, 0.2, 0.2, 0.2, 0.8, 0.2, 0.2, 0.2, 0.8, 0.2, 0.2, 0.2, 0.2, 0.8, 0.8, 0.8, 0.2, 0.2, 0.2, 0.8, 0.2, 0.2, 0.2, 0.8, 0.2, 0.2, 0.8, 0.2, 0.2, 0.2, 0.2, 0.2, 0.2, 0.2, 0.2, 0.2, 0.8, 0.2, 0.2, 0.8, 0.2, 0.2, 0.2, 0.8, 0.2, 0.2, 0.2, 0.2, 0.2, 0.2, 0.8, 0.2, 0.2, 0.2, 0.2, 0.2, 0.2, 0.2, 0.2, 0.2, 0.2, 0.2, 0.2, 0.2, 0.2, 0.2, 0.2, 0.2, 0.2, 0.2, 0.2, 0.2, 0.2, 0.2, 0.8, 0.2, 0.8, 0.2, 0.2, 0.2, 0.2, 0.8, 0.2, 0.8, 0.2, 0.2, 0.8, 0.2, 0.2, 0.2, 0.2, 0.8, 0.2, 0.2, 0.2, 0.8, 0.2, 0.8, 0.2, 0.2, 0.2, 0.2, 0.8, 0.2, 0.2, 0.2, 0.2, 0.2, 0.8, 0.2, 0.8, 0.2, 0.2, 0.8, 0.8, 0.2, 0.2, 0.2, 0.2, 0.2, 0.8, 0.8, 0.2, 0.2, 0.8, 0.2, 0.2, 0.2, 0.2, 0.2, 0.2, 0.2, 0.2, 0.8, 0.2, 0.2, 0.8, 0.2, 0.2, 0.2, 0.2, 0.2, 0.8, 0.2, 0.2, 0.2, 0.2, 0.2, 0.2, 0.2, 0.2, 0.2, 0.8, 0.8, 0.2, 0.2, 0.2, 0.2, 0.2, 0.2, 0.2, 0.8, 0.2, 0.2, 0.8, 0.2, 0.8, 0.2, 0.8, 0.2, 0.2, 0.2, 0.2, 0.2, 0.2, 0.8, 0.2, 0.2, 0.2, 0.2, 0.2, 0.2, 0.2, 0.2, 0.8, 0.2, 0.2, 0.2, 0.2, 0.2, 0.2, 0.2, 0.2, 0.2, 0.8, 0.2, 0.2, 0.2, 0.2, 0.2, 0.2, 0.2, 0.2, 0.2, 0.2, 0.2, 0.2, 0.8, 0.8, 0.2, 0.2, 0.2, 0.2, 0.2, 0.2, 0.2, 0.2, 0.2, 0.2, 0.2, 0.2, 0.2, 0.2, 0.2, 0.2, 0.2, 0.2, 0.2, 0.2, 0.2, 0.8, 0.2, 0.2, 0.2, 0.2, 0.8, 0.2, 0.2, 0.2, 0.2, 0.8, 0.2, 0.8, 0.2, 0.2, 0.2, 0.2, 0.2, 0.8, 0.2, 0.2, 0.8, 0.2, 0.8, 0.2, 0.2, 0.8, 0.2, 0.2, 0.2, 0.2, 0.2, 0.8, 0.8, 0.2, 0.2, 0.2, 0.2, 0.2, 0.2, 0.2, 0.2, 0.2, 0.8, 0.2, 0.2, 0.2, 0.2, 0.8, 0.2, 0.2, 0.8, 0.2, 0.2, 0.8, 0.2, 0.2, 0.2, 0.2, 0.2, 0.8, 0.2, 0.2, 0.2, 0.2, 0.2, 0.2, 0.2, 0.2, 0.2, 0.8, 0.2, 0.8, 0.2, 0.8, 0.2, 0.8, 0.2, 0.2, 0.2, 0.8, 0.8, 0.2, 0.2, 0.2, 0.2, 0.8, 0.2, 0.2, 0.2, 0.2, 0.8, 0.2, 0.2, 0.2, 0.2, 0.8, 0.2, 0.2, 0.2, 0.2, 0.8, 0.8, 0.2, 0.2, 0.8, 0.2, 0.2, 0.2, 0.2, 0.2, 0.2, 0.2, 0.2, 0.2, 0.2, 0.2, 0.2, 0.2, 0.2, 0.8, 0.2, 0.2, 0.8, 0.2, 0.2, 0.2, 0.2, 0.8, 0.2, 0.2, 0.2, 0.2, 0.8, 0.2, 0.8, 0.2, 0.8, 0.2, 0.2, 0.2, 0.8, 0.8, 0.2, 0.2, 0.2, 0.2, 0.2, 0.2, 0.2, 0.2, 0.2, 0.2, 0.2, 0.2, 0.2, 0.2, 0.8, 0.2, 0.2, 0.2, 0.2, 0.2, 0.2, 0.2, 0.2, 0.2, 0.2, 0.8, 0.2, 0.2, 0.2, 0.2, 0.2, 0.8, 0.8, 0.2, 0.2, 0.2, 0.2, 0.2, 0.2, 0.2, 0.2, 0.2, 0.2, 0.2, 0.2, 0.2, 0.2, 0.2, 0.2, 0.2, 0.2, 0.2, 0.2, 0.2, 0.8, 0.2, 0.8, 0.2, 0.8, 0.2, 0.8, 0.2, 0.2, 0.2, 0.8, 0.2, 0.2, 0.8, 0.2, 0.2, 0.2, 0.2, 0.2, 0.8, 0.2, 0.2, 0.2, 0.2, 0.2, 0.2, 0.2, 0.2, 0.2, 0.2, 0.2, 0.2, 0.2, 0.8, 0.2, 0.2, 0.2, 0.2, 0.2, 0.2, 0.2, 0.2, 0.2, 0.2, 0.2, 0.2, 0.2, 0.2, 0.2, 0.2, 0.2, 0.8, 0.2, 0.2, 0.2, 0.2, 0.2, 0.2, 0.2, 0.2, 0.2, 0.2, 0.2, 0.2, 0.8, 0.2, 0.2, 0.2, 0.2, 0.2, 0.2, 0.2, 0.8, 0.8, 0.2, 0.2, 0.2, 0.8, 0.2, 0.8, 0.8, 0.2, 0.2, 0.2, 0.8, 0.2, 0.2, 0.2, 0.2, 0.2, 0.8, 0.2, 0.2, 0.2, 0.8, 0.2, 0.2, 0.8, 0.2, 0.2, 0.2, 0.8, 0.2, 0.8, 0.8, 0.8, 0.8, 0.2, 0.2, 0.2, 0.2, 0.2, 0.2, 0.8, 0.2, 0.2, 0.2, 0.2, 0.8, 0.2, 0.8, 0.2, 0.8, 0.2, 0.2, 0.2, 0.8, 0.2, 0.8, 0.2, 0.8, 0.2, 0.8, 0.2, 0.2, 0.8, 0.8, 0.2, 0.2, 0.8, 0.2, 0.2, 0.2, 0.2, 0.2, 0.8, 0.2, 0.8, 0.2, 0.2, 0.2, 0.2, 0.2, 0.2, 0.2, 0.2, 0.8, 0.2, 0.2, 0.2, 0.2, 0.2, 0.2, 0.2, 0.8, 0.2, 0.2, 0.2, 0.8, 0.2, 0.8, 0.2, 0.2, 0.2, 0.8, 0.2, 0.2, 0.2, 0.8, 0.2, 0.2, 0.8, 0.8, 0.2, 0.2, 0.2, 0.2, 0.2, 0.2, 0.8, 0.2, 0.2, 0.2, 0.2, 0.8, 0.2, 0.2, 0.8, 0.8, 0.2, 0.2, 0.2, 0.2, 0.2, 0.2, 0.8, 0.8, 0.2, 0.2, 0.2, 0.2, 0.2, 0.2, 0.2, 0.2, 0.2, 0.2, 0.2, 0.2, 0.2, 0.2, 0.2, 0.2, 0.2, 0.2, 0.2, 0.2, 0.8, 0.8, 0.2, 0.2, 0.2, 0.2, 0.8, 0.2, 0.2, 0.2, 0.2, 0.2, 0.2, 0.2, 0.2, 0.2, 0.8, 0.2, 0.2, 0.2, 0.2, 0.2, 0.2, 0.2, 0.2, 0.2, 0.2, 0.2, 0.8, 0.2, 0.2, 0.8, 0.2, 0.8, 0.8, 0.2, 0.2, 0.2, 0.2, 0.2, 0.2, 0.2, 0.2, 0.2, 0.2, 0.2, 0.8, 0.2, 0.8, 0.2, 0.2, 0.2, 0.2, 0.2, 0.2, 0.8, 0.2, 0.2, 0.2, 0.2, 0.8, 0.2, 0.2, 0.2, 0.2, 0.2, 0.2, 0.2, 0.2, 0.2, 0.2, 0.8, 0.2, 0.8, 0.2, 0.2, 0.2, 0.2, 0.2, 0.2, 0.2, 0.2, 0.2, 0.2, 0.2, 0.2, 0.8, 0.2, 0.2, 0.2, 0.2, 0.2, 0.2, 0.8, 0.2, 0.2, 0.2, 0.2, 0.2, 0.2, 0.8, 0.2, 0.2, 0.2, 0.2, 0.2, 0.8, 0.2, 0.2, 0.2, 0.2, 0.2, 0.2, 0.2, 0.8, 0.2, 0.2, 0.8, 0.2, 0.2, 0.2, 0.2, 0.8, 0.8, 0.2, 0.2, 0.2, 0.2, 0.2, 0.8, 0.8, 0.8, 0.2, 0.8, 0.2, 0.2, 0.2, 0.2, 0.2, 0.2, 0.2, 0.2, 0.2, 0.2, 0.2, 0.2, 0.2, 0.8, 0.2, 0.2, 0.2, 0.8, 0.8, 0.8, 0.8, 0.2, 0.8, 0.2, 0.2, 0.8, 0.8, 0.2, 0.2, 0.8, 0.2, 0.2, 0.2, 0.2, 0.2, 0.2, 0.2, 0.8, 0.2, 0.2, 0.2, 0.8, 0.2, 0.2, 0.8, 0.2, 0.2, 0.2, 0.2, 0.2, 0.8, 0.2, 0.2, 0.2, 0.2, 0.2, 0.8, 0.2, 0.8, 0.8, 0.8, 0.2, 0.8, 0.2, 0.8, 0.2, 0.2, 0.2, 0.2, 0.2, 0.2, 0.2, 0.2, 0.2, 0.2, 0.2, 0.8, 0.2, 0.2, 0.8, 0.2, 0.8, 0.2, 0.2, 0.2, 0.2, 0.8, 0.2, 0.8, 0.8, 0.8, 0.2, 0.2, 0.8, 0.2, 0.2, 0.2, 0.2, 0.2, 0.2, 0.2, 0.2, 0.2, 0.8, 0.2, 0.2, 0.2, 0.2, 0.8, 0.8, 0.2, 0.2, 0.8, 0.2, 0.2, 0.2, 0.2, 0.2, 0.2, 0.2, 0.2, 0.2, 0.8, 0.2, 0.2, 0.2, 0.8, 0.2, 0.2, 0.8, 0.2, 0.8, 0.8, 0.2, 0.2, 0.2, 0.2, 0.2, 0.2, 0.2, 0.2, 0.2, 0.2, 0.2, 0.2, 0.2, 0.8, 0.2, 0.2, 0.2, 0.8, 0.2, 0.2, 0.2, 0.2, 0.2, 0.2, 0.2, 0.2, 0.2, 0.2, 0.8, 0.2, 0.2, 0.2, 0.8, 0.2, 0.2, 0.2, 0.8, 0.2, 0.2, 0.2, 0.2, 0.2, 0.2, 0.2, 0.2, 0.2, 0.2, 0.2, 0.2, 0.2, 0.2, 0.2, 0.8, 0.2, 0.8, 0.2, 0.2, 0.2, 0.2, 0.2, 0.2, 0.2, 0.2, 0.8, 0.8, 0.2, 0.8, 0.2, 0.2, 0.2, 0.2, 0.2, 0.8, 0.2, 0.2, 0.8, 0.2, 0.2, 0.2, 0.2, 0.2, 0.2, 0.2, 0.8, 0.2, 0.2, 0.2, 0.2, 0.2, 0.2, 0.2, 0.8, 0.8, 0.2, 0.2, 0.2, 0.2, 0.2, 0.2, 0.2, 0.2, 0.2, 0.2, 0.2, 0.8, 0.2, 0.2, 0.2, 0.2, 0.2, 0.2, 0.2, 0.8, 0.2, 0.2, 0.8, 0.2, 0.8, 0.2, 0.8, 0.2, 0.2, 0.8, 0.2, 0.2, 0.2, 0.2, 0.2, 0.2, 0.8, 0.2, 0.2, 0.8, 0.2, 0.2, 0.2, 0.2, 0.8, 0.8, 0.2, 0.2, 0.2, 0.2, 0.2, 0.8, 0.2, 0.8, 0.2, 0.2, 0.2, 0.2, 0.2, 0.2, 0.2, 0.2, 0.8, 0.2, 0.2, 0.2, 0.2, 0.8, 0.2, 0.2, 0.2, 0.2, 0.2, 0.2, 0.2, 0.2, 0.2, 0.2, 0.2, 0.2, 0.8, 0.2, 0.2, 0.2, 0.2, 0.2, 0.2, 0.2, 0.2, 0.2, 0.2, 0.8, 0.8, 0.2, 0.2, 0.2, 0.8, 0.2, 0.8, 0.2, 0.8, 0.2, 0.2, 0.8, 0.2, 0.2, 0.2, 0.2, 0.2, 0.2, 0.2, 0.2, 0.2, 0.2, 0.2, 0.2, 0.2, 0.2, 0.8, 0.2, 0.2, 0.2, 0.2, 0.8, 0.2, 0.2, 0.2, 0.2, 0.2, 0.8, 0.2, 0.2, 0.2, 0.2, 0.2, 0.2, 0.2, 0.2, 0.8, 0.2, 0.2, 0.2, 0.2, 0.2, 0.8, 0.8, 0.2, 0.2, 0.8, 0.2, 0.8, 0.2, 0.2, 0.2, 0.2, 0.2, 0.2, 0.2, 0.2, 0.8, 0.2, 0.2, 0.2, 0.2, 0.8, 0.2, 0.2, 0.2, 0.2, 0.2, 0.2, 0.2, 0.2, 0.2, 0.2, 0.2, 0.2, 0.2, 0.2, 0.8, 0.8, 0.2, 0.2, 0.2, 0.2, 0.2, 0.2, 0.8, 0.2, 0.2, 0.2, 0.2, 0.2, 0.8, 0.2, 0.2, 0.2, 0.2, 0.2, 0.8, 0.2, 0.2, 0.2, 0.8, 0.2, 0.2, 0.2, 0.2, 0.2, 0.2, 0.2, 0.2, 0.2, 0.2, 0.2, 0.8, 0.2, 0.2, 0.2, 0.2, 0.2, 0.2, 0.2, 0.2, 0.8, 0.8, 0.2, 0.2, 0.2, 0.2, 0.2, 0.2, 0.8, 0.2, 0.2, 0.2, 0.2, 0.2, 0.2, 0.2, 0.2, 0.2, 0.8, 0.8, 0.2, 0.8, 0.2, 0.2, 0.2, 0.2, 0.8, 0.8, 0.8, 0.8, 0.8, 0.2, 0.8, 0.2, 0.2, 0.8, 0.2, 0.2, 0.2, 0.8, 0.8, 0.2, 0.2, 0.2, 0.2, 0.2, 0.2, 0.8, 0.2, 0.2, 0.2, 0.8, 0.2, 0.2, 0.2, 0.2, 0.8, 0.2, 0.2, 0.2, 0.2, 0.2, 0.2, 0.8, 0.2, 0.2, 0.2, 0.2, 0.2, 0.2, 0.2, 0.2, 0.2, 0.2, 0.2, 0.8, 0.2, 0.2, 0.2, 0.2, 0.2, 0.2, 0.2, 0.2, 0.8, 0.2, 0.2, 0.2, 0.2, 0.8, 0.2, 0.2, 0.2, 0.2, 0.2, 0.8, 0.2, 0.2, 0.8, 0.8, 0.2, 0.2, 0.2, 0.8, 0.2, 0.2, 0.8, 0.8, 0.2, 0.2, 0.2, 0.2, 0.8, 0.2, 0.2, 0.2, 0.2, 0.2, 0.2]\n",
      "\n",
      "General Reconstruction Probability:\n",
      "0.372572\n",
      "\n",
      "Privacy Measure:\n",
      "62.742799999999995\n",
      "\n",
      "Trade-off Analysis:\n",
      "Weight 'a' for R1(p): 0.7\n"
     ]
    }
   ],
   "source": [
    "import pandas as pd\n",
    "import numpy as np\n",
    "\n",
    "# Load real dataset\n",
    "file_path = 'streaming_preferences_dataset.csv'\n",
    "real_dataset_df = pd.read_csv(file_path)\n",
    "\n",
    "# Convert the DataFrame to a NumPy array\n",
    "real_dataset = real_dataset_df.to_numpy()\n",
    "\n",
    "# Define privacy factor\n",
    "privacy_factor = 0.2\n",
    "a = 0.7\n",
    "\n",
    "# Apply distortion\n",
    "distorted_dataset = distort_user_data(real_dataset, privacy_factor)\n",
    "\n",
    "# Display the distorted dataset\n",
    "display_bit_vectors(real_dataset, distorted_dataset)\n",
    "\n",
    "# Compute reconstruction probabilities\n",
    "reconstruction_probabilities = []\n",
    "for i in range(len(distorted_dataset)):\n",
    "    for j in range(len(distorted_dataset[i])):\n",
    "        true_value = real_dataset[i, j]\n",
    "        distorted_value = distorted_dataset[i, j]\n",
    "        reconstruction_probabilities.append(compute_reconstruction_probability(true_value, distorted_value, privacy_factor))\n",
    "\n",
    "# Compute general reconstruction probability\n",
    "general_reconstruction_probability = compute_general_reconstruction_equation(privacy_factor, reconstruction_probabilities, a)\n",
    "\n",
    "# Compute privacy measure\n",
    "privacy_measure = compute_privacy_measure(general_reconstruction_probability)\n",
    "\n",
    "# Evaluate and interpret results\n",
    "evaluate_and_interpret_results(reconstruction_probabilities, general_reconstruction_probability, privacy_measure, a)\n"
   ]
  },
  {
   "cell_type": "markdown",
   "metadata": {},
   "source": [
    "Defining Privacy Factor: The privacy_factor variable is defined, determining the level of distortion applied to the dataset to protect privacy.\n",
    "\n",
    "Applying Distortion: The distort_user_data() function is applied to the true_matrix using the specified privacy_factor to create distorted_matrix. This step distorts the original data to protect privacy while preserving essential patterns.\n",
    "\n",
    "Estimating Singleton Supports: The estimate_singleton_supports() function estimates the support of each item in the original dataset (true_matrix) using the distorted dataset (distorted_matrix). This step helps understand the frequency of occurrence of individual items in the data.\n",
    "\n",
    "Estimating n-Itemset Supports: The estimate_n_itemset_supports() function estimates the support of each n-itemset (where n is specified by the variable n) in the original dataset (true_matrix) using the distorted dataset (distorted_matrix). This step identifies patterns involving multiple items in the data while preserving privacy.\n",
    "\n",
    "Printing Results: The estimated singleton supports and n-itemset supports are printed to the console for analysis and further processing. These support values provide insights into the frequency of occurrence of individual items and itemsets in the data, respectively. Adjustments can be made to the value of n based on specific requirements for analyzing itemsets of different sizes."
   ]
  },
  {
   "cell_type": "code",
   "execution_count": 488,
   "metadata": {},
   "outputs": [
    {
     "name": "stdout",
     "output_type": "stream",
     "text": [
      "Estimated Singleton Supports:\n",
      "[162 135 123 128 159 135 166 159 132 155]\n",
      "Estimated 2-Itemset Supports:\n",
      "[104   0]\n"
     ]
    }
   ],
   "source": [
    "import pandas as pd\n",
    "\n",
    "# Load real dataset \n",
    "file_path = 'streaming_preferences_dataset.csv'\n",
    "real_dataset_df = pd.read_csv(file_path)\n",
    "\n",
    "# Convert the DataFrame to a NumPy array\n",
    "true_matrix = real_dataset_df.to_numpy()\n",
    "\n",
    "# Define privacy factor\n",
    "privacy_factor = 0.2\n",
    "\n",
    "# Apply distortion\n",
    "distorted_matrix = distort_user_data(true_matrix, privacy_factor)\n",
    "\n",
    "# Estimate Singleton Supports\n",
    "estimated_singleton_supports = estimate_singleton_supports(true_matrix, distorted_matrix, privacy_factor)\n",
    "print(\"Estimated Singleton Supports:\")\n",
    "print(estimated_singleton_supports)\n",
    "\n",
    "# Estimate n-Itemset Supports \n",
    "n = 2\n",
    "estimated_n_itemset_supports = estimate_n_itemset_supports(true_matrix, distorted_matrix, privacy_factor, n)\n",
    "print(f\"Estimated {n}-Itemset Supports:\")\n",
    "print(estimated_n_itemset_supports)\n"
   ]
  },
  {
   "cell_type": "markdown",
   "metadata": {},
   "source": [
    "Converting to Boolean Values: The dataset is converted to boolean values, typically used for itemset mining, where each column represents an item and each row represents a transaction. The presence or absence of an item in a transaction is denoted by True or False, respectively.\n",
    "\n",
    "Apriori Algorithm: The Apriori algorithm is applied to find frequent itemsets in the dataset. The min_support parameter determines the minimum support threshold for an itemset to be considered frequent.\n",
    "\n",
    "Association Rules: Association rules are generated from the frequent itemsets. The min_confidence parameter sets the minimum confidence threshold for a rule to be considered significant.\n",
    "\n",
    "Printing Frequent Itemsets and Association Rules: The frequent itemsets and association rules are printed for debugging and analysis purposes.\n",
    "\n",
    "Sorting Rules by Confidence: The generated rules are sorted by confidence in descending order for better visualization and analysis.\n",
    "\n",
    "Plotting Bar Charts: Two bar charts are plotted using seaborn to visualize the association rules based on confidence and lift. These visualizations help understand the strength and significance of the association rules discovered from the dataset."
   ]
  },
  {
   "cell_type": "code",
   "execution_count": 503,
   "metadata": {},
   "outputs": [
    {
     "name": "stdout",
     "output_type": "stream",
     "text": [
      "Genre1     bool\n",
      "Genre2     bool\n",
      "Genre3     bool\n",
      "Genre4     bool\n",
      "Genre5     bool\n",
      "Genre6     bool\n",
      "Genre7     bool\n",
      "Genre8     bool\n",
      "Genre9     bool\n",
      "Genre10    bool\n",
      "dtype: object\n",
      "Frequent Itemsets:\n",
      "    support           itemsets\n",
      "0     0.332           (Genre1)\n",
      "1     0.286           (Genre2)\n",
      "2     0.270           (Genre3)\n",
      "3     0.240           (Genre4)\n",
      "4     0.310           (Genre5)\n",
      "5     0.286           (Genre6)\n",
      "6     0.304           (Genre7)\n",
      "7     0.314           (Genre8)\n",
      "8     0.282           (Genre9)\n",
      "9     0.304          (Genre10)\n",
      "10    0.108   (Genre7, Genre1)\n",
      "11    0.118  (Genre10, Genre1)\n",
      "12    0.116   (Genre5, Genre8)\n",
      "13    0.102  (Genre5, Genre10)\n",
      "14    0.106   (Genre7, Genre8)\n",
      "15    0.108  (Genre10, Genre7)\n",
      "\n",
      "Association Rules:\n",
      "   antecedents consequents  antecedent support  consequent support  support  \\\n",
      "0     (Genre7)    (Genre1)               0.304               0.332    0.108   \n",
      "1     (Genre1)    (Genre7)               0.332               0.304    0.108   \n",
      "2    (Genre10)    (Genre1)               0.304               0.332    0.118   \n",
      "3     (Genre1)   (Genre10)               0.332               0.304    0.118   \n",
      "4     (Genre5)    (Genre8)               0.310               0.314    0.116   \n",
      "5     (Genre8)    (Genre5)               0.314               0.310    0.116   \n",
      "6     (Genre5)   (Genre10)               0.310               0.304    0.102   \n",
      "7    (Genre10)    (Genre5)               0.304               0.310    0.102   \n",
      "8     (Genre7)    (Genre8)               0.304               0.314    0.106   \n",
      "9     (Genre8)    (Genre7)               0.314               0.304    0.106   \n",
      "10   (Genre10)    (Genre7)               0.304               0.304    0.108   \n",
      "11    (Genre7)   (Genre10)               0.304               0.304    0.108   \n",
      "\n",
      "    confidence      lift  leverage  conviction  zhangs_metric  \n",
      "0     0.355263  1.070070  0.007072    1.036082       0.094083  \n",
      "1     0.325301  1.070070  0.007072    1.031571       0.098026  \n",
      "2     0.388158  1.169150  0.017072    1.091785       0.207871  \n",
      "3     0.355422  1.169150  0.017072    1.079776       0.216584  \n",
      "4     0.374194  1.191699  0.018660    1.096186       0.233133  \n",
      "5     0.369427  1.191699  0.018660    1.094242       0.234493  \n",
      "6     0.329032  1.082343  0.007760    1.037308       0.110259  \n",
      "7     0.335526  1.082343  0.007760    1.038416       0.109308  \n",
      "8     0.348684  1.110459  0.010544    1.053253       0.142919  \n",
      "9     0.337580  1.110459  0.010544    1.050692       0.145002  \n",
      "10    0.355263  1.168629  0.015584    1.079510       0.207322  \n",
      "11    0.355263  1.168629  0.015584    1.079510       0.207322  \n"
     ]
    },
    {
     "data": {
      "image/png": "[encoded data removed]",
      "text/plain": [
       "<Figure size 720x432 with 1 Axes>"
      ]
     },
     "metadata": {
      "needs_background": "light"
     },
     "output_type": "display_data"
    },
    {
     "data": {
      "image/png": "[encoded data removed]",
      "text/plain": [
       "<Figure size 720x432 with 1 Axes>"
      ]
     },
     "metadata": {
      "needs_background": "light"
     },
     "output_type": "display_data"
    }
   ],
   "source": [
    "import pandas as pd\n",
    "from mlxtend.preprocessing import TransactionEncoder\n",
    "from mlxtend.frequent_patterns import apriori, association_rules\n",
    "import matplotlib.pyplot as plt\n",
    "import seaborn as sns\n",
    "\n",
    "\n",
    "\n",
    "# Load the dataset from CSV\n",
    "csv_file = \"streaming_preferences_dataset.csv\"  \n",
    "df = pd.read_csv(csv_file)\n",
    "\n",
    "# Convert the itemsets to boolean values\n",
    "df = df.astype(bool)\n",
    "print(df.dtypes)\n",
    "\n",
    "# Apriori algorithm\n",
    "min_support = 0.1  \n",
    "frequent_itemsets = apriori(df, min_support=min_support, use_colnames=True)\n",
    "\n",
    "# Print frequent itemsets for debugging\n",
    "print(\"Frequent Itemsets:\")\n",
    "print(frequent_itemsets)\n",
    "\n",
    "# Association rules\n",
    "min_confidence = 0.5  \n",
    "rules = association_rules(frequent_itemsets, metric=\"lift\", min_threshold=min_confidence)\n",
    "\n",
    "\n",
    "# Print association rules for debugging\n",
    "print(\"\\nAssociation Rules:\")\n",
    "print(rules)\n",
    "\n",
    "# Sort the rules by confidence\n",
    "sorted_rules = rules.sort_values(by='confidence', ascending=False)\n",
    "\n",
    "# Plot bar chart for confidence\n",
    "plt.figure(figsize=(10, 6))\n",
    "sns.barplot(x='confidence', y='antecedents', data=sorted_rules)\n",
    "plt.title('Association Rules - Confidence')\n",
    "plt.xlabel('Confidence')\n",
    "plt.ylabel('Antecedents')\n",
    "plt.show()\n",
    "\n",
    "# Plot bar chart for lift\n",
    "plt.figure(figsize=(10, 6))\n",
    "sns.barplot(x='lift', y='antecedents', data=sorted_rules)\n",
    "plt.title('Association Rules - Lift')\n",
    "plt.xlabel('Lift')\n",
    "plt.ylabel('Antecedents')\n",
    "plt.show()\n"
   ]
  },
  {
   "cell_type": "markdown",
   "metadata": {},
   "source": [
    "Support Error Function: Defines a function support_error to compute the percentage error between the reconstructed support and the actual support of an itemset.\n",
    "\n",
    "Identity Error Function: Defines a function identity_error to compute the identity error, which measures the discrepancy between the actual and reconstructed sets of frequent itemsets.\n",
    "\n",
    "Loading and Distorting the Real Dataset: Loads a real dataset from a CSV file, converts it to a NumPy array, and then distorts the dataset using a given privacy factor.\n",
    "\n",
    "Computing Reconstruction Probabilities: Calculates the reconstruction probabilities for each item in the distorted dataset.\n",
    "\n",
    "Computing General Reconstruction Probability: Utilizes the reconstruction probabilities to compute the general reconstruction probability based on a given weight parameter.\n",
    "\n",
    "Computing Privacy Measure: Computes the privacy measure based on the general reconstruction probability.\n",
    "\n",
    "Evaluating and Interpreting Results: Evaluates and interprets the results obtained from the reconstruction process, including reconstruction probabilities and privacy measures.\n",
    "\n",
    "Calculating Identity Errors for 1-Itemsets: Computes the identity errors (σ+ and σ-) for the 1-itemsets, comparing the reconstructed set with the correct set of frequent itemsets."
   ]
  },
  {
   "cell_type": "code",
   "execution_count": 514,
   "metadata": {},
   "outputs": [
    {
     "name": "stdout",
     "output_type": "stream",
     "text": [
      "Original Database:\n",
      "[[0 1 0 ... 0 1 0]\n",
      " [1 0 0 ... 0 1 0]\n",
      " [0 0 0 ... 0 0 1]\n",
      " ...\n",
      " [0 1 0 ... 0 0 0]\n",
      " [1 0 0 ... 1 0 0]\n",
      " [0 0 0 ... 0 0 0]]\n",
      "\n",
      "Distorted Database:\n",
      "[[1 0 1 ... 0 1 1]\n",
      " [0 1 1 ... 1 1 1]\n",
      " [1 1 1 ... 0 0 0]\n",
      " ...\n",
      " [0 0 1 ... 0 1 1]\n",
      " [0 1 0 ... 1 1 1]\n",
      " [1 1 1 ... 1 1 0]]\n",
      "Reconstruction Probabilities for Each Entry:\n",
      "[0.2, 0.2, 0.2, 0.2, 0.2, 0.2, 0.2, 0.8, 0.8, 0.2, 0.2, 0.2, 0.2, 0.8, 0.2, 0.2, 0.2, 0.2, 0.8, 0.2, 0.2, 0.2, 0.2, 0.8, 0.2, 0.2, 0.8, 0.8, 0.8, 0.2, 0.2, 0.2, 0.2, 0.2, 0.2, 0.8, 0.2, 0.2, 0.8, 0.2, 0.8, 0.2, 0.2, 0.2, 0.2, 0.2, 0.2, 0.2, 0.8, 0.8, 0.2, 0.2, 0.2, 0.2, 0.2, 0.2, 0.2, 0.2, 0.2, 0.2, 0.8, 0.8, 0.2, 0.2, 0.2, 0.2, 0.8, 0.2, 0.2, 0.2, 0.8, 0.2, 0.2, 0.2, 0.2, 0.2, 0.2, 0.2, 0.2, 0.2, 0.2, 0.2, 0.8, 0.2, 0.2, 0.2, 0.2, 0.2, 0.2, 0.2, 0.2, 0.2, 0.2, 0.2, 0.2, 0.8, 0.2, 0.8, 0.2, 0.2, 0.2, 0.2, 0.2, 0.2, 0.2, 0.8, 0.2, 0.2, 0.2, 0.2, 0.2, 0.2, 0.2, 0.2, 0.8, 0.2, 0.2, 0.2, 0.2, 0.2, 0.2, 0.2, 0.2, 0.2, 0.2, 0.8, 0.2, 0.2, 0.2, 0.2, 0.2, 0.2, 0.2, 0.2, 0.2, 0.2, 0.2, 0.2, 0.8, 0.2, 0.2, 0.2, 0.2, 0.2, 0.2, 0.8, 0.2, 0.8, 0.8, 0.2, 0.2, 0.8, 0.2, 0.8, 0.2, 0.8, 0.2, 0.8, 0.2, 0.8, 0.2, 0.2, 0.2, 0.2, 0.2, 0.2, 0.2, 0.2, 0.2, 0.2, 0.2, 0.2, 0.2, 0.2, 0.2, 0.8, 0.2, 0.2, 0.2, 0.8, 0.2, 0.2, 0.2, 0.8, 0.2, 0.2, 0.8, 0.2, 0.8, 0.2, 0.2, 0.2, 0.8, 0.2, 0.8, 0.2, 0.8, 0.2, 0.8, 0.2, 0.2, 0.2, 0.2, 0.2, 0.2, 0.2, 0.2, 0.2, 0.2, 0.8, 0.2, 0.2, 0.8, 0.2, 0.8, 0.8, 0.2, 0.2, 0.2, 0.2, 0.2, 0.2, 0.2, 0.8, 0.2, 0.2, 0.2, 0.2, 0.2, 0.2, 0.8, 0.2, 0.2, 0.2, 0.2, 0.2, 0.2, 0.2, 0.2, 0.2, 0.2, 0.2, 0.2, 0.8, 0.2, 0.2, 0.2, 0.2, 0.2, 0.8, 0.8, 0.2, 0.2, 0.2, 0.2, 0.2, 0.2, 0.8, 0.2, 0.2, 0.2, 0.2, 0.8, 0.2, 0.2, 0.2, 0.2, 0.2, 0.8, 0.2, 0.2, 0.2, 0.2, 0.2, 0.2, 0.2, 0.8, 0.2, 0.8, 0.2, 0.8, 0.2, 0.2, 0.2, 0.2, 0.2, 0.2, 0.2, 0.2, 0.2, 0.2, 0.2, 0.2, 0.8, 0.2, 0.2, 0.2, 0.2, 0.2, 0.2, 0.2, 0.8, 0.2, 0.2, 0.2, 0.2, 0.2, 0.2, 0.2, 0.2, 0.2, 0.8, 0.2, 0.2, 0.2, 0.8, 0.2, 0.2, 0.2, 0.2, 0.2, 0.2, 0.2, 0.2, 0.2, 0.2, 0.2, 0.2, 0.2, 0.8, 0.8, 0.2, 0.2, 0.8, 0.2, 0.2, 0.2, 0.2, 0.2, 0.8, 0.2, 0.2, 0.8, 0.2, 0.2, 0.2, 0.2, 0.2, 0.2, 0.2, 0.2, 0.8, 0.2, 0.2, 0.2, 0.2, 0.2, 0.8, 0.2, 0.8, 0.2, 0.2, 0.2, 0.2, 0.2, 0.2, 0.2, 0.2, 0.2, 0.2, 0.8, 0.2, 0.2, 0.2, 0.2, 0.2, 0.8, 0.2, 0.2, 0.2, 0.2, 0.2, 0.2, 0.2, 0.2, 0.2, 0.8, 0.2, 0.8, 0.2, 0.2, 0.2, 0.2, 0.2, 0.2, 0.2, 0.8, 0.2, 0.2, 0.2, 0.8, 0.8, 0.2, 0.2, 0.2, 0.2, 0.2, 0.2, 0.2, 0.2, 0.8, 0.2, 0.2, 0.8, 0.2, 0.8, 0.2, 0.2, 0.2, 0.8, 0.2, 0.2, 0.2, 0.8, 0.2, 0.2, 0.2, 0.2, 0.2, 0.2, 0.2, 0.2, 0.2, 0.2, 0.2, 0.2, 0.2, 0.2, 0.2, 0.2, 0.2, 0.2, 0.2, 0.2, 0.2, 0.2, 0.2, 0.2, 0.2, 0.8, 0.8, 0.2, 0.2, 0.2, 0.2, 0.2, 0.8, 0.2, 0.2, 0.2, 0.2, 0.2, 0.2, 0.2, 0.8, 0.2, 0.2, 0.2, 0.8, 0.2, 0.8, 0.2, 0.8, 0.2, 0.2, 0.8, 0.2, 0.2, 0.2, 0.2, 0.8, 0.2, 0.2, 0.8, 0.2, 0.2, 0.2, 0.2, 0.2, 0.2, 0.2, 0.2, 0.2, 0.8, 0.2, 0.2, 0.2, 0.2, 0.8, 0.2, 0.2, 0.2, 0.2, 0.2, 0.2, 0.8, 0.2, 0.2, 0.8, 0.2, 0.2, 0.8, 0.2, 0.2, 0.2, 0.8, 0.2, 0.8, 0.2, 0.2, 0.2, 0.2, 0.2, 0.2, 0.2, 0.2, 0.2, 0.8, 0.2, 0.2, 0.2, 0.2, 0.2, 0.2, 0.2, 0.2, 0.2, 0.2, 0.2, 0.2, 0.2, 0.2, 0.2, 0.2, 0.8, 0.2, 0.2, 0.2, 0.2, 0.2, 0.2, 0.2, 0.2, 0.2, 0.2, 0.2, 0.2, 0.2, 0.2, 0.2, 0.2, 0.2, 0.2, 0.2, 0.2, 0.2, 0.2, 0.8, 0.8, 0.2, 0.2, 0.8, 0.2, 0.2, 0.2, 0.2, 0.2, 0.2, 0.8, 0.2, 0.8, 0.2, 0.8, 0.2, 0.2, 0.2, 0.2, 0.2, 0.8, 0.2, 0.8, 0.2, 0.2, 0.8, 0.8, 0.2, 0.2, 0.2, 0.2, 0.2, 0.8, 0.2, 0.2, 0.2, 0.2, 0.2, 0.2, 0.2, 0.2, 0.2, 0.2, 0.2, 0.2, 0.2, 0.8, 0.2, 0.2, 0.2, 0.8, 0.2, 0.2, 0.8, 0.2, 0.8, 0.2, 0.2, 0.8, 0.2, 0.2, 0.2, 0.2, 0.2, 0.2, 0.8, 0.2, 0.2, 0.2, 0.2, 0.2, 0.2, 0.2, 0.2, 0.8, 0.2, 0.2, 0.2, 0.8, 0.8, 0.8, 0.2, 0.8, 0.2, 0.2, 0.2, 0.2, 0.2, 0.2, 0.2, 0.8, 0.2, 0.2, 0.2, 0.8, 0.2, 0.2, 0.2, 0.2, 0.2, 0.8, 0.2, 0.2, 0.2, 0.2, 0.8, 0.2, 0.2, 0.2, 0.2, 0.2, 0.8, 0.8, 0.8, 0.2, 0.8, 0.2, 0.2, 0.8, 0.8, 0.2, 0.8, 0.2, 0.2, 0.2, 0.2, 0.2, 0.2, 0.2, 0.2, 0.2, 0.2, 0.2, 0.2, 0.2, 0.2, 0.2, 0.2, 0.2, 0.2, 0.2, 0.2, 0.8, 0.2, 0.2, 0.2, 0.2, 0.2, 0.2, 0.8, 0.8, 0.2, 0.2, 0.2, 0.8, 0.8, 0.2, 0.2, 0.8, 0.8, 0.2, 0.2, 0.2, 0.2, 0.2, 0.2, 0.2, 0.2, 0.2, 0.8, 0.2, 0.2, 0.2, 0.2, 0.2, 0.2, 0.2, 0.2, 0.2, 0.2, 0.2, 0.2, 0.2, 0.2, 0.2, 0.2, 0.2, 0.2, 0.2, 0.8, 0.2, 0.2, 0.2, 0.2, 0.2, 0.2, 0.8, 0.2, 0.2, 0.2, 0.2, 0.2, 0.2, 0.2, 0.2, 0.2, 0.2, 0.2, 0.2, 0.2, 0.2, 0.2, 0.2, 0.2, 0.2, 0.8, 0.2, 0.2, 0.2, 0.8, 0.2, 0.2, 0.2, 0.2, 0.2, 0.2, 0.2, 0.2, 0.2, 0.2, 0.2, 0.2, 0.2, 0.2, 0.2, 0.8, 0.2, 0.2, 0.2, 0.2, 0.8, 0.2, 0.2, 0.8, 0.2, 0.2, 0.8, 0.2, 0.8, 0.8, 0.2, 0.2, 0.2, 0.8, 0.8, 0.2, 0.2, 0.8, 0.2, 0.2, 0.2, 0.2, 0.2, 0.2, 0.8, 0.2, 0.2, 0.2, 0.2, 0.2, 0.2, 0.2, 0.2, 0.8, 0.2, 0.2, 0.2, 0.2, 0.2, 0.2, 0.2, 0.2, 0.2, 0.2, 0.2, 0.2, 0.2, 0.2, 0.2, 0.2, 0.2, 0.2, 0.2, 0.2, 0.2, 0.2, 0.8, 0.2, 0.8, 0.2, 0.2, 0.8, 0.2, 0.2, 0.2, 0.2, 0.2, 0.8, 0.2, 0.8, 0.2, 0.8, 0.2, 0.2, 0.2, 0.8, 0.2, 0.2, 0.2, 0.8, 0.2, 0.2, 0.8, 0.2, 0.2, 0.2, 0.2, 0.2, 0.2, 0.2, 0.8, 0.8, 0.2, 0.2, 0.2, 0.2, 0.2, 0.2, 0.2, 0.2, 0.2, 0.2, 0.2, 0.2, 0.2, 0.2, 0.2, 0.2, 0.2, 0.2, 0.2, 0.2, 0.2, 0.2, 0.2, 0.2, 0.2, 0.8, 0.8, 0.2, 0.8, 0.2, 0.2, 0.8, 0.2, 0.2, 0.2, 0.2, 0.8, 0.2, 0.2, 0.2, 0.2, 0.2, 0.2, 0.2, 0.2, 0.8, 0.2, 0.2, 0.2, 0.2, 0.2, 0.2, 0.2, 0.2, 0.2, 0.8, 0.2, 0.2, 0.2, 0.2, 0.2, 0.8, 0.2, 0.2, 0.8, 0.2, 0.8, 0.2, 0.2, 0.2, 0.2, 0.8, 0.2, 0.2, 0.2, 0.2, 0.2, 0.2, 0.2, 0.2, 0.2, 0.2, 0.2, 0.2, 0.8, 0.8, 0.8, 0.2, 0.2, 0.2, 0.2, 0.2, 0.8, 0.8, 0.2, 0.8, 0.8, 0.2, 0.2, 0.2, 0.2, 0.2, 0.2, 0.8, 0.2, 0.2, 0.2, 0.2, 0.2, 0.2, 0.2, 0.8, 0.2, 0.8, 0.2, 0.8, 0.2, 0.2, 0.2, 0.2, 0.2, 0.2, 0.8, 0.8, 0.2, 0.2, 0.2, 0.2, 0.2, 0.2, 0.2, 0.2, 0.2, 0.2, 0.2, 0.8, 0.8, 0.2, 0.2, 0.2, 0.2, 0.2, 0.2, 0.2, 0.2, 0.2, 0.8, 0.8, 0.8, 0.2, 0.2, 0.2, 0.2, 0.2, 0.8, 0.2, 0.8, 0.2, 0.2, 0.2, 0.8, 0.2, 0.2, 0.2, 0.2, 0.8, 0.2, 0.2, 0.2, 0.8, 0.2, 0.2, 0.2, 0.2, 0.2, 0.8, 0.2, 0.2, 0.2, 0.2, 0.2, 0.2, 0.2, 0.8, 0.2, 0.2, 0.2, 0.2, 0.2, 0.2, 0.2, 0.8, 0.2, 0.2, 0.2, 0.2, 0.2, 0.2, 0.8, 0.2, 0.2, 0.2, 0.2, 0.2, 0.2, 0.2, 0.2, 0.2, 0.2, 0.8, 0.2, 0.2, 0.8, 0.8, 0.2, 0.2, 0.2, 0.2, 0.8, 0.2, 0.2, 0.2, 0.2, 0.2, 0.2, 0.2, 0.2, 0.8, 0.2, 0.2, 0.8, 0.2, 0.8, 0.8, 0.8, 0.2, 0.8, 0.2, 0.2, 0.8, 0.2, 0.2, 0.2, 0.8, 0.2, 0.8, 0.8, 0.2, 0.2, 0.8, 0.2, 0.8, 0.8, 0.2, 0.2, 0.2, 0.2, 0.2, 0.8, 0.2, 0.8, 0.2, 0.2, 0.2, 0.2, 0.2, 0.2, 0.8, 0.2, 0.2, 0.2, 0.2, 0.2, 0.2, 0.2, 0.2, 0.2, 0.2, 0.8, 0.2, 0.2, 0.2, 0.8, 0.2, 0.8, 0.8, 0.2, 0.2, 0.2, 0.8, 0.8, 0.2, 0.2, 0.2, 0.2, 0.2, 0.2, 0.8, 0.2, 0.8, 0.2, 0.2, 0.2, 0.2, 0.8, 0.2, 0.2, 0.2, 0.2, 0.2, 0.2, 0.2, 0.2, 0.2, 0.2, 0.2, 0.2, 0.2, 0.2, 0.2, 0.8, 0.2, 0.2, 0.8, 0.2, 0.2, 0.2, 0.2, 0.2, 0.2, 0.2, 0.2, 0.2, 0.8, 0.2, 0.2, 0.2, 0.2, 0.2, 0.8, 0.2, 0.2, 0.8, 0.2, 0.8, 0.8, 0.2, 0.2, 0.2, 0.2, 0.2, 0.2, 0.2, 0.8, 0.2, 0.2, 0.2, 0.8, 0.2, 0.2, 0.2, 0.2, 0.2, 0.2, 0.2, 0.2, 0.8, 0.2, 0.2, 0.8, 0.2, 0.2, 0.8, 0.2, 0.2, 0.2, 0.2, 0.2, 0.2, 0.2, 0.8, 0.2, 0.2, 0.2, 0.2, 0.2, 0.2, 0.2, 0.2, 0.2, 0.2, 0.2, 0.8, 0.2, 0.2, 0.2, 0.2, 0.2, 0.8, 0.2, 0.2, 0.2, 0.8, 0.2, 0.8, 0.8, 0.2, 0.2, 0.2, 0.8, 0.2, 0.8, 0.2, 0.2, 0.2, 0.2, 0.2, 0.2, 0.2, 0.2, 0.8, 0.2, 0.2, 0.2, 0.2, 0.8, 0.2, 0.2, 0.2, 0.2, 0.2, 0.2, 0.2, 0.2, 0.2, 0.2, 0.8, 0.2, 0.8, 0.2, 0.2, 0.2, 0.2, 0.2, 0.2, 0.2, 0.2, 0.2, 0.8, 0.2, 0.2, 0.8, 0.2, 0.2, 0.2, 0.2, 0.2, 0.8, 0.2, 0.2, 0.2, 0.2, 0.8, 0.8, 0.2, 0.2, 0.2, 0.2, 0.8, 0.2, 0.2, 0.2, 0.2, 0.8, 0.8, 0.2, 0.2, 0.2, 0.2, 0.2, 0.2, 0.2, 0.2, 0.2, 0.2, 0.8, 0.2, 0.2, 0.2, 0.2, 0.2, 0.2, 0.8, 0.2, 0.2, 0.2, 0.2, 0.8, 0.8, 0.2, 0.2, 0.2, 0.2, 0.2, 0.2, 0.2, 0.2, 0.2, 0.2, 0.2, 0.2, 0.2, 0.8, 0.2, 0.2, 0.2, 0.2, 0.2, 0.2, 0.2, 0.2, 0.2, 0.2, 0.8, 0.2, 0.2, 0.2, 0.8, 0.2, 0.2, 0.8, 0.2, 0.2, 0.2, 0.2, 0.2, 0.2, 0.2, 0.2, 0.2, 0.2, 0.2, 0.2, 0.2, 0.2, 0.2, 0.2, 0.2, 0.2, 0.8, 0.8, 0.2, 0.2, 0.8, 0.2, 0.2, 0.2, 0.2, 0.2, 0.2, 0.8, 0.2, 0.2, 0.2, 0.2, 0.2, 0.8, 0.2, 0.2, 0.2, 0.2, 0.8, 0.2, 0.8, 0.2, 0.2, 0.2, 0.2, 0.2, 0.2, 0.2, 0.2, 0.2, 0.8, 0.8, 0.2, 0.2, 0.2, 0.2, 0.2, 0.2, 0.8, 0.2, 0.8, 0.2, 0.2, 0.2, 0.2, 0.2, 0.2, 0.8, 0.8, 0.2, 0.8, 0.2, 0.8, 0.8, 0.2, 0.2, 0.2, 0.2, 0.2, 0.8, 0.2, 0.2, 0.8, 0.2, 0.2, 0.8, 0.2, 0.2, 0.2, 0.2, 0.2, 0.2, 0.2, 0.2, 0.2, 0.2, 0.8, 0.8, 0.8, 0.2, 0.2, 0.2, 0.8, 0.2, 0.2, 0.2, 0.2, 0.2, 0.2, 0.8, 0.2, 0.8, 0.2, 0.2, 0.8, 0.2, 0.2, 0.2, 0.2, 0.2, 0.2, 0.2, 0.2, 0.8, 0.2, 0.2, 0.2, 0.2, 0.2, 0.2, 0.2, 0.2, 0.2, 0.2, 0.8, 0.8, 0.8, 0.2, 0.2, 0.2, 0.2, 0.2, 0.2, 0.8, 0.8, 0.2, 0.2, 0.2, 0.2, 0.2, 0.2, 0.8, 0.2, 0.8, 0.8, 0.2, 0.2, 0.2, 0.2, 0.2, 0.2, 0.8, 0.2, 0.2, 0.2, 0.2, 0.2, 0.8, 0.2, 0.8, 0.2, 0.8, 0.2, 0.2, 0.2, 0.2, 0.2, 0.2, 0.2, 0.2, 0.2, 0.2, 0.2, 0.2, 0.2, 0.2, 0.2, 0.2, 0.2, 0.2, 0.2, 0.2, 0.2, 0.2, 0.2, 0.2, 0.2, 0.2, 0.2, 0.2, 0.2, 0.2, 0.2, 0.2, 0.2, 0.2, 0.2, 0.2, 0.8, 0.2, 0.2, 0.2, 0.2, 0.2, 0.2, 0.2, 0.8, 0.2, 0.2, 0.2, 0.2, 0.2, 0.2, 0.2, 0.2, 0.2, 0.2, 0.2, 0.2, 0.2, 0.2, 0.2, 0.2, 0.2, 0.2, 0.2, 0.2, 0.2, 0.2, 0.2, 0.8, 0.2, 0.2, 0.2, 0.8, 0.8, 0.2, 0.2, 0.2, 0.8, 0.2, 0.2, 0.2, 0.2, 0.2, 0.2, 0.8, 0.8, 0.8, 0.2, 0.2, 0.2, 0.2, 0.8, 0.2, 0.2, 0.2, 0.2, 0.2, 0.8, 0.2, 0.2, 0.2, 0.2, 0.2, 0.2, 0.8, 0.8, 0.8, 0.2, 0.2, 0.2, 0.2, 0.2, 0.2, 0.2, 0.2, 0.8, 0.2, 0.2, 0.2, 0.2, 0.2, 0.2, 0.2, 0.8, 0.8, 0.2, 0.2, 0.2, 0.2, 0.8, 0.8, 0.2, 0.2, 0.2, 0.2, 0.2, 0.2, 0.2, 0.2, 0.2, 0.2, 0.2, 0.2, 0.2, 0.8, 0.2, 0.2, 0.2, 0.2, 0.2, 0.8, 0.2, 0.2, 0.2, 0.2, 0.2, 0.2, 0.8, 0.8, 0.2, 0.2, 0.2, 0.8, 0.2, 0.2, 0.2, 0.2, 0.2, 0.2, 0.2, 0.2, 0.2, 0.2, 0.2, 0.8, 0.2, 0.2, 0.2, 0.2, 0.2, 0.2, 0.2, 0.2, 0.2, 0.2, 0.2, 0.2, 0.2, 0.8, 0.2, 0.2, 0.2, 0.2, 0.8, 0.8, 0.2, 0.2, 0.2, 0.8, 0.8, 0.2, 0.2, 0.2, 0.8, 0.2, 0.2, 0.8, 0.2, 0.2, 0.2, 0.8, 0.2, 0.2, 0.2, 0.2, 0.2, 0.2, 0.2, 0.8, 0.2, 0.2, 0.8, 0.2, 0.2, 0.2, 0.2, 0.2, 0.2, 0.2, 0.2, 0.2, 0.2, 0.2, 0.2, 0.2, 0.2, 0.2, 0.2, 0.2, 0.2, 0.8, 0.2, 0.2, 0.2, 0.2, 0.2, 0.8, 0.2, 0.2, 0.2, 0.2, 0.8, 0.2, 0.2, 0.2, 0.2, 0.2, 0.2, 0.2, 0.2, 0.8, 0.2, 0.2, 0.2, 0.2, 0.2, 0.2, 0.2, 0.2, 0.2, 0.8, 0.2, 0.2, 0.2, 0.8, 0.2, 0.8, 0.8, 0.2, 0.2, 0.2, 0.2, 0.2, 0.2, 0.2, 0.2, 0.2, 0.2, 0.8, 0.2, 0.2, 0.2, 0.8, 0.2, 0.2, 0.8, 0.8, 0.2, 0.2, 0.2, 0.2, 0.2, 0.2, 0.2, 0.2, 0.2, 0.8, 0.8, 0.2, 0.8, 0.8, 0.2, 0.8, 0.2, 0.2, 0.2, 0.2, 0.2, 0.2, 0.8, 0.2, 0.2, 0.2, 0.2, 0.8, 0.8, 0.2, 0.2, 0.2, 0.2, 0.8, 0.2, 0.2, 0.2, 0.2, 0.2, 0.8, 0.2, 0.2, 0.2, 0.2, 0.2, 0.2, 0.2, 0.2, 0.2, 0.2, 0.2, 0.2, 0.2, 0.2, 0.8, 0.2, 0.8, 0.2, 0.2, 0.2, 0.2, 0.2, 0.2, 0.8, 0.2, 0.2, 0.2, 0.2, 0.2, 0.2, 0.2, 0.2, 0.2, 0.2, 0.2, 0.2, 0.2, 0.8, 0.2, 0.2, 0.2, 0.2, 0.2, 0.2, 0.2, 0.2, 0.2, 0.8, 0.2, 0.2, 0.2, 0.2, 0.2, 0.2, 0.2, 0.2, 0.2, 0.2, 0.2, 0.2, 0.2, 0.2, 0.2, 0.8, 0.8, 0.2, 0.8, 0.2, 0.8, 0.2, 0.2, 0.2, 0.2, 0.2, 0.2, 0.2, 0.2, 0.2, 0.2, 0.2, 0.2, 0.8, 0.2, 0.2, 0.2, 0.2, 0.2, 0.8, 0.2, 0.8, 0.2, 0.2, 0.2, 0.2, 0.2, 0.8, 0.2, 0.2, 0.2, 0.2, 0.2, 0.2, 0.2, 0.2, 0.2, 0.2, 0.8, 0.2, 0.2, 0.2, 0.8, 0.8, 0.8, 0.2, 0.2, 0.8, 0.8, 0.8, 0.2, 0.2, 0.2, 0.2, 0.8, 0.8, 0.8, 0.2, 0.8, 0.2, 0.2, 0.2, 0.2, 0.2, 0.8, 0.8, 0.8, 0.2, 0.2, 0.2, 0.2, 0.2, 0.2, 0.8, 0.2, 0.2, 0.2, 0.2, 0.2, 0.2, 0.2, 0.2, 0.2, 0.2, 0.2, 0.2, 0.2, 0.2, 0.8, 0.2, 0.2, 0.2, 0.2, 0.2, 0.8, 0.2, 0.8, 0.8, 0.2, 0.8, 0.2, 0.2, 0.2, 0.2, 0.2, 0.2, 0.2, 0.8, 0.2, 0.2, 0.2, 0.2, 0.2, 0.8, 0.2, 0.8, 0.2, 0.2, 0.2, 0.2, 0.2, 0.2, 0.2, 0.2, 0.2, 0.2, 0.2, 0.2, 0.2, 0.2, 0.2, 0.2, 0.2, 0.2, 0.2, 0.2, 0.8, 0.8, 0.2, 0.2, 0.2, 0.2, 0.8, 0.8, 0.2, 0.2, 0.2, 0.2, 0.2, 0.2, 0.2, 0.8, 0.2, 0.2, 0.2, 0.8, 0.8, 0.8, 0.2, 0.2, 0.2, 0.2, 0.2, 0.2, 0.2, 0.2, 0.2, 0.8, 0.2, 0.2, 0.8, 0.8, 0.2, 0.2, 0.2, 0.2, 0.2, 0.2, 0.2, 0.2, 0.2, 0.2, 0.2, 0.2, 0.2, 0.2, 0.2, 0.2, 0.8, 0.2, 0.2, 0.2, 0.8, 0.8, 0.2, 0.2, 0.2, 0.2, 0.2, 0.2, 0.8, 0.2, 0.2, 0.2, 0.8, 0.2, 0.2, 0.2, 0.2, 0.2, 0.8, 0.2, 0.2, 0.2, 0.2, 0.2, 0.2, 0.8, 0.2, 0.2, 0.2, 0.2, 0.2, 0.2, 0.2, 0.2, 0.2, 0.2, 0.2, 0.2, 0.2, 0.2, 0.2, 0.2, 0.2, 0.2, 0.2, 0.2, 0.2, 0.2, 0.2, 0.2, 0.2, 0.2, 0.2, 0.8, 0.2, 0.2, 0.2, 0.2, 0.2, 0.2, 0.2, 0.2, 0.2, 0.2, 0.2, 0.2, 0.2, 0.2, 0.2, 0.2, 0.2, 0.2, 0.2, 0.2, 0.2, 0.2, 0.2, 0.2, 0.2, 0.2, 0.8, 0.2, 0.2, 0.2, 0.2, 0.2, 0.2, 0.2, 0.2, 0.2, 0.2, 0.2, 0.2, 0.8, 0.2, 0.8, 0.8, 0.2, 0.2, 0.2, 0.2, 0.2, 0.8, 0.8, 0.2, 0.2, 0.2, 0.2, 0.2, 0.8, 0.2, 0.2, 0.2, 0.2, 0.2, 0.2, 0.8, 0.2, 0.2, 0.2, 0.2, 0.2, 0.2, 0.2, 0.2, 0.2, 0.2, 0.2, 0.2, 0.2, 0.2, 0.2, 0.2, 0.2, 0.8, 0.2, 0.2, 0.2, 0.2, 0.2, 0.2, 0.2, 0.2, 0.8, 0.2, 0.2, 0.8, 0.2, 0.2, 0.2, 0.8, 0.2, 0.2, 0.2, 0.2, 0.2, 0.8, 0.2, 0.8, 0.2, 0.2, 0.2, 0.2, 0.2, 0.8, 0.2, 0.2, 0.8, 0.2, 0.2, 0.2, 0.2, 0.2, 0.2, 0.2, 0.8, 0.2, 0.8, 0.2, 0.2, 0.8, 0.2, 0.8, 0.2, 0.2, 0.2, 0.2, 0.2, 0.2, 0.2, 0.2, 0.2, 0.8, 0.2, 0.2, 0.2, 0.2, 0.2, 0.2, 0.8, 0.2, 0.2, 0.2, 0.2, 0.2, 0.8, 0.8, 0.8, 0.2, 0.8, 0.2, 0.2, 0.2, 0.2, 0.8, 0.8, 0.2, 0.2, 0.2, 0.2, 0.8, 0.2, 0.8, 0.2, 0.8, 0.2, 0.8, 0.2, 0.2, 0.2, 0.2, 0.2, 0.8, 0.2, 0.2, 0.2, 0.2, 0.2, 0.2, 0.2, 0.2, 0.2, 0.2, 0.8, 0.2, 0.8, 0.8, 0.2, 0.2, 0.2, 0.2, 0.8, 0.2, 0.2, 0.2, 0.2, 0.2, 0.2, 0.2, 0.2, 0.2, 0.2, 0.2, 0.2, 0.2, 0.2, 0.2, 0.2, 0.2, 0.2, 0.2, 0.2, 0.2, 0.2, 0.2, 0.2, 0.2, 0.2, 0.2, 0.8, 0.2, 0.8, 0.2, 0.2, 0.8, 0.2, 0.2, 0.2, 0.2, 0.2, 0.2, 0.2, 0.2, 0.2, 0.8, 0.2, 0.2, 0.2, 0.2, 0.2, 0.8, 0.2, 0.2, 0.2, 0.8, 0.8, 0.2, 0.2, 0.2, 0.2, 0.2, 0.2, 0.2, 0.2, 0.2, 0.2, 0.2, 0.2, 0.2, 0.2, 0.2, 0.2, 0.2, 0.8, 0.2, 0.2, 0.2, 0.2, 0.2, 0.2, 0.2, 0.2, 0.2, 0.8, 0.2, 0.2, 0.2, 0.2, 0.2, 0.2, 0.8, 0.2, 0.2, 0.8, 0.2, 0.2, 0.8, 0.2, 0.2, 0.8, 0.8, 0.2, 0.2, 0.2, 0.2, 0.8, 0.2, 0.8, 0.8, 0.2, 0.2, 0.8, 0.8, 0.2, 0.2, 0.2, 0.2, 0.2, 0.2, 0.2, 0.2, 0.2, 0.2, 0.2, 0.2, 0.2, 0.2, 0.2, 0.2, 0.2, 0.2, 0.2, 0.8, 0.2, 0.2, 0.8, 0.2, 0.8, 0.2, 0.2, 0.2, 0.2, 0.2, 0.8, 0.8, 0.8, 0.2, 0.8, 0.8, 0.2, 0.2, 0.2, 0.2, 0.8, 0.2, 0.2, 0.2, 0.2, 0.2, 0.2, 0.2, 0.2, 0.8, 0.2, 0.2, 0.2, 0.2, 0.2, 0.2, 0.2, 0.2, 0.8, 0.2, 0.2, 0.2, 0.2, 0.2, 0.8, 0.2, 0.2, 0.2, 0.8, 0.8, 0.2, 0.2, 0.2, 0.2, 0.2, 0.2, 0.8, 0.2, 0.2, 0.2, 0.8, 0.2, 0.2, 0.2, 0.2, 0.2, 0.2, 0.2, 0.8, 0.8, 0.2, 0.2, 0.2, 0.8, 0.2, 0.8, 0.2, 0.2, 0.2, 0.8, 0.2, 0.8, 0.8, 0.8, 0.2, 0.2, 0.2, 0.2, 0.2, 0.2, 0.2, 0.2, 0.2, 0.2, 0.2, 0.2, 0.2, 0.2, 0.2, 0.2, 0.2, 0.2, 0.2, 0.2, 0.2, 0.2, 0.8, 0.2, 0.2, 0.2, 0.2, 0.8, 0.2, 0.2, 0.2, 0.2, 0.2, 0.2, 0.8, 0.2, 0.2, 0.8, 0.2, 0.2, 0.2, 0.8, 0.8, 0.2, 0.2, 0.2, 0.2, 0.2, 0.2, 0.2, 0.2, 0.2, 0.2, 0.2, 0.2, 0.2, 0.2, 0.2, 0.2, 0.8, 0.2, 0.2, 0.2, 0.2, 0.8, 0.2, 0.2, 0.2, 0.2, 0.2, 0.8, 0.2, 0.2, 0.2, 0.2, 0.2, 0.2, 0.2, 0.2, 0.2, 0.8, 0.2, 0.2, 0.2, 0.8, 0.2, 0.2, 0.2, 0.2, 0.2, 0.2, 0.2, 0.2, 0.8, 0.2, 0.2, 0.2, 0.2, 0.2, 0.2, 0.2, 0.8, 0.2, 0.8, 0.2, 0.2, 0.2, 0.2, 0.8, 0.2, 0.2, 0.2, 0.2, 0.2, 0.8, 0.2, 0.2, 0.2, 0.2, 0.2, 0.2, 0.2, 0.2, 0.8, 0.2, 0.8, 0.2, 0.8, 0.2, 0.2, 0.2, 0.2, 0.2, 0.2, 0.8, 0.2, 0.8, 0.2, 0.2, 0.2, 0.2, 0.2, 0.2, 0.2, 0.2, 0.2, 0.2, 0.2, 0.2, 0.8, 0.2, 0.2, 0.2, 0.2, 0.2, 0.2, 0.2, 0.2, 0.2, 0.2, 0.2, 0.2, 0.2, 0.2, 0.2, 0.2, 0.2, 0.2, 0.2, 0.2, 0.8, 0.2, 0.2, 0.2, 0.8, 0.2, 0.8, 0.2, 0.8, 0.2, 0.2, 0.2, 0.2, 0.2, 0.2, 0.2, 0.8, 0.2, 0.2, 0.2, 0.2, 0.2, 0.8, 0.2, 0.2, 0.2, 0.2, 0.2, 0.2, 0.2, 0.2, 0.2, 0.2, 0.2, 0.2, 0.2, 0.2, 0.2, 0.2, 0.8, 0.2, 0.8, 0.2, 0.2, 0.8, 0.2, 0.8, 0.2, 0.2, 0.8, 0.2, 0.2, 0.2, 0.2, 0.2, 0.2, 0.8, 0.8, 0.2, 0.2, 0.8, 0.2, 0.2, 0.2, 0.2, 0.8, 0.2, 0.2, 0.8, 0.2, 0.2, 0.2, 0.2, 0.2, 0.2, 0.8, 0.2, 0.2, 0.2, 0.8, 0.8, 0.8, 0.2, 0.2, 0.2, 0.2, 0.2, 0.2, 0.2, 0.2, 0.2, 0.2, 0.2, 0.2, 0.2, 0.2, 0.2, 0.2, 0.8, 0.2, 0.2, 0.2, 0.2, 0.2, 0.8, 0.2, 0.2, 0.2, 0.8, 0.2, 0.8, 0.2, 0.2, 0.2, 0.2, 0.2, 0.8, 0.2, 0.2, 0.2, 0.2, 0.2, 0.8, 0.2, 0.2, 0.2, 0.2, 0.2, 0.8, 0.2, 0.2, 0.2, 0.2, 0.8, 0.2, 0.2, 0.2, 0.2, 0.2, 0.2, 0.2, 0.8, 0.2, 0.2, 0.2, 0.2, 0.8, 0.8, 0.2, 0.2, 0.2, 0.2, 0.2, 0.2, 0.2, 0.2, 0.2, 0.2, 0.8, 0.2, 0.2, 0.2, 0.2, 0.2, 0.8, 0.2, 0.2, 0.2, 0.2, 0.2, 0.2, 0.8, 0.8, 0.2, 0.2, 0.2, 0.2, 0.2, 0.2, 0.2, 0.2, 0.2, 0.2, 0.2, 0.2, 0.2, 0.2, 0.2, 0.2, 0.2, 0.2, 0.2, 0.2, 0.2, 0.8, 0.2, 0.2, 0.2, 0.8, 0.8, 0.2, 0.8, 0.2, 0.2, 0.2, 0.2, 0.2, 0.2, 0.2, 0.2, 0.2, 0.2, 0.2, 0.8, 0.2, 0.2, 0.8, 0.2, 0.8, 0.8, 0.2, 0.2, 0.8, 0.2, 0.2, 0.2, 0.2, 0.2, 0.2, 0.2, 0.2, 0.8, 0.2, 0.2, 0.2, 0.2, 0.2, 0.8, 0.8, 0.2, 0.2, 0.8, 0.2, 0.2, 0.8, 0.2, 0.2, 0.2, 0.2, 0.2, 0.8, 0.2, 0.2, 0.2, 0.2, 0.2, 0.8, 0.2, 0.2, 0.2, 0.2, 0.2, 0.2, 0.2, 0.2, 0.2, 0.2, 0.2, 0.2, 0.2, 0.8, 0.8, 0.2, 0.2, 0.2, 0.2, 0.8, 0.2, 0.2, 0.2, 0.2, 0.2, 0.2, 0.2, 0.2, 0.2, 0.8, 0.2, 0.8, 0.2, 0.2, 0.2, 0.2, 0.8, 0.2, 0.2, 0.2, 0.2, 0.2, 0.2, 0.8, 0.2, 0.2, 0.2, 0.2, 0.2, 0.2, 0.2, 0.2, 0.2, 0.2, 0.2, 0.2, 0.2, 0.2, 0.2, 0.2, 0.2, 0.2, 0.2, 0.2, 0.2, 0.2, 0.2, 0.8, 0.2, 0.8, 0.2, 0.2, 0.2, 0.2, 0.8, 0.2, 0.2, 0.2, 0.2, 0.2, 0.8, 0.2, 0.8, 0.2, 0.2, 0.2, 0.2, 0.8, 0.2, 0.2, 0.8, 0.2, 0.2, 0.2, 0.2, 0.2, 0.2, 0.2, 0.2, 0.2, 0.2, 0.2, 0.2, 0.2, 0.2, 0.2, 0.2, 0.2, 0.2, 0.2, 0.8, 0.2, 0.2, 0.2, 0.2, 0.2, 0.2, 0.2, 0.2, 0.2, 0.2, 0.2, 0.2, 0.2, 0.2, 0.2, 0.2, 0.8, 0.8, 0.2, 0.2, 0.2, 0.2, 0.2, 0.2, 0.2, 0.2, 0.8, 0.2, 0.2, 0.2, 0.2, 0.2, 0.2, 0.2, 0.2, 0.8, 0.2, 0.2, 0.8, 0.2, 0.8, 0.2, 0.2, 0.2, 0.2, 0.2, 0.2, 0.2, 0.2, 0.2, 0.8, 0.2, 0.2, 0.2, 0.2, 0.8, 0.2, 0.2, 0.8, 0.8, 0.2, 0.2, 0.2, 0.2, 0.8, 0.2, 0.2, 0.8, 0.2, 0.2, 0.2, 0.2, 0.8, 0.8, 0.2, 0.2, 0.2, 0.2, 0.2, 0.2, 0.2, 0.2, 0.2, 0.2, 0.2, 0.2, 0.2, 0.2, 0.2, 0.2, 0.2, 0.8, 0.2, 0.2, 0.2, 0.8, 0.2, 0.2, 0.2, 0.2, 0.2, 0.2, 0.8, 0.8, 0.8, 0.2, 0.8, 0.2, 0.2, 0.2, 0.2, 0.2, 0.2, 0.2, 0.2, 0.8, 0.2, 0.2, 0.2, 0.2, 0.2, 0.2, 0.2, 0.2, 0.2, 0.2, 0.2, 0.2, 0.2, 0.2, 0.2, 0.2, 0.2, 0.2, 0.2, 0.8, 0.2, 0.2, 0.2, 0.2, 0.8, 0.2, 0.2, 0.8, 0.2, 0.2, 0.2, 0.2, 0.2, 0.2, 0.2, 0.2, 0.8, 0.8, 0.8, 0.8, 0.2, 0.8, 0.2, 0.2, 0.2, 0.8, 0.8, 0.2, 0.2, 0.8, 0.2, 0.2, 0.2, 0.8, 0.2, 0.2, 0.2, 0.2, 0.2, 0.8, 0.2, 0.8, 0.2, 0.2, 0.2, 0.2, 0.2, 0.2, 0.2, 0.2, 0.2, 0.8, 0.8, 0.2, 0.2, 0.2, 0.2, 0.8, 0.2, 0.2, 0.2, 0.2, 0.2, 0.2, 0.2, 0.2, 0.2, 0.2, 0.2, 0.2, 0.8, 0.2, 0.2, 0.2, 0.2, 0.2, 0.2, 0.2, 0.8, 0.2, 0.8, 0.2, 0.8, 0.2, 0.2, 0.2, 0.2, 0.2, 0.2, 0.2, 0.2, 0.2, 0.2, 0.2, 0.2, 0.2, 0.2, 0.2, 0.2, 0.2, 0.8, 0.8, 0.2, 0.2, 0.8, 0.2, 0.2, 0.2, 0.8, 0.2, 0.8, 0.2, 0.8, 0.2, 0.2, 0.2, 0.2, 0.2, 0.2, 0.2, 0.8, 0.2, 0.8, 0.2, 0.2, 0.2, 0.2, 0.2, 0.2, 0.2, 0.8, 0.2, 0.2, 0.2, 0.8, 0.8, 0.2, 0.2, 0.2, 0.2, 0.2, 0.2, 0.2, 0.2, 0.8, 0.2, 0.2, 0.2, 0.2, 0.2, 0.2, 0.2, 0.2, 0.2, 0.2, 0.2, 0.2, 0.2, 0.2, 0.8, 0.2, 0.8, 0.2, 0.2, 0.2, 0.2, 0.2, 0.8, 0.2, 0.2, 0.2, 0.2, 0.2, 0.2, 0.2, 0.2, 0.2, 0.8, 0.2, 0.2, 0.2, 0.2, 0.2, 0.8, 0.2, 0.2, 0.2, 0.2, 0.2, 0.2, 0.2, 0.2, 0.2, 0.8, 0.2, 0.2, 0.2, 0.2, 0.2, 0.2, 0.2, 0.2, 0.2, 0.8, 0.8, 0.8, 0.2, 0.2, 0.2, 0.2, 0.2, 0.2, 0.8, 0.8, 0.2, 0.2, 0.2, 0.8, 0.2, 0.8, 0.2, 0.2, 0.2, 0.2, 0.2, 0.2, 0.2, 0.2, 0.2, 0.8, 0.2, 0.2, 0.2, 0.2, 0.8, 0.2, 0.2, 0.2, 0.2, 0.2, 0.2, 0.2, 0.2, 0.8, 0.2, 0.2, 0.2, 0.2, 0.2, 0.2, 0.2, 0.8, 0.2, 0.2, 0.2, 0.2, 0.2, 0.8, 0.2, 0.2, 0.2, 0.2, 0.2, 0.8, 0.2, 0.2, 0.2, 0.2, 0.8, 0.2, 0.2, 0.8, 0.2, 0.2, 0.8, 0.8, 0.2, 0.8, 0.8, 0.8, 0.8, 0.2, 0.2, 0.2, 0.2, 0.2, 0.8, 0.2, 0.2, 0.2, 0.2, 0.8, 0.2, 0.8, 0.2, 0.8, 0.2, 0.2, 0.8, 0.2, 0.2, 0.2, 0.8, 0.2, 0.8, 0.2, 0.2, 0.2, 0.2, 0.2, 0.2, 0.2, 0.2, 0.2, 0.2, 0.8, 0.2, 0.2, 0.2, 0.2, 0.2, 0.2, 0.2, 0.2, 0.2, 0.2, 0.2, 0.2, 0.2, 0.8, 0.2, 0.2, 0.2, 0.2, 0.2, 0.2, 0.2, 0.2, 0.2, 0.8, 0.2, 0.2, 0.2, 0.2, 0.8, 0.8, 0.2, 0.8, 0.2, 0.2, 0.2, 0.2, 0.2, 0.2, 0.2, 0.8, 0.2, 0.2, 0.2, 0.2, 0.2, 0.2, 0.8, 0.2, 0.2, 0.8, 0.2, 0.2, 0.2, 0.2, 0.2, 0.2, 0.2, 0.2, 0.2, 0.2, 0.2, 0.2, 0.2, 0.2, 0.2, 0.2, 0.2, 0.2, 0.8, 0.2, 0.8, 0.8, 0.2, 0.2, 0.8, 0.2, 0.2, 0.2, 0.2, 0.2, 0.8, 0.8, 0.2, 0.8, 0.2, 0.2, 0.2, 0.2, 0.2, 0.2, 0.2, 0.2, 0.8, 0.8, 0.8, 0.8, 0.2, 0.2, 0.2, 0.8, 0.2, 0.2, 0.2, 0.2, 0.2, 0.2, 0.2, 0.2, 0.8, 0.8, 0.2, 0.2, 0.8, 0.2, 0.2, 0.2, 0.2, 0.2, 0.2, 0.2, 0.8, 0.2, 0.2, 0.8, 0.8, 0.2, 0.2, 0.8, 0.2, 0.2, 0.2, 0.8, 0.2, 0.8, 0.8, 0.2, 0.8, 0.8, 0.2, 0.2, 0.2, 0.2, 0.2, 0.8, 0.2, 0.2, 0.2, 0.2, 0.2, 0.2, 0.2, 0.8, 0.2, 0.8, 0.2, 0.2, 0.2, 0.2, 0.2, 0.2, 0.2, 0.2, 0.2, 0.8, 0.2, 0.2, 0.2, 0.2, 0.8, 0.2, 0.8, 0.2, 0.2, 0.8, 0.2, 0.2, 0.2, 0.2, 0.8, 0.2, 0.2, 0.2, 0.2, 0.2, 0.2, 0.2, 0.8, 0.8, 0.2, 0.2, 0.2, 0.2, 0.2, 0.2, 0.2, 0.2, 0.8, 0.2, 0.2, 0.2, 0.2, 0.8, 0.2, 0.8, 0.2, 0.2, 0.2, 0.2, 0.2, 0.2, 0.2, 0.8, 0.2, 0.2, 0.2, 0.2, 0.8, 0.8, 0.2, 0.2, 0.2, 0.2, 0.8, 0.2, 0.8, 0.8, 0.2, 0.8, 0.2, 0.8, 0.2, 0.8, 0.2, 0.2, 0.2, 0.2, 0.2, 0.2, 0.2, 0.2, 0.2, 0.2, 0.2, 0.8, 0.2, 0.2, 0.2, 0.2, 0.2, 0.8, 0.2, 0.2, 0.2, 0.2, 0.2, 0.2, 0.8, 0.2, 0.2, 0.2, 0.2, 0.2, 0.8, 0.2, 0.2, 0.2, 0.2, 0.2, 0.2, 0.8, 0.2, 0.2, 0.8, 0.2, 0.2, 0.2, 0.8, 0.2, 0.2, 0.8, 0.2, 0.8, 0.8, 0.8, 0.2, 0.2, 0.8, 0.2, 0.2, 0.2, 0.2, 0.2, 0.2, 0.2, 0.8, 0.2, 0.2, 0.2, 0.2, 0.2, 0.2, 0.8, 0.2, 0.2, 0.2, 0.2, 0.2, 0.2, 0.2, 0.8, 0.2, 0.2, 0.2, 0.2, 0.2, 0.2, 0.2, 0.2, 0.2, 0.2, 0.2, 0.2, 0.8, 0.8, 0.2, 0.8, 0.2, 0.2, 0.2, 0.2, 0.2, 0.2, 0.2, 0.2, 0.8, 0.2, 0.2, 0.2, 0.8, 0.2, 0.2, 0.2, 0.2, 0.2, 0.2, 0.2, 0.2, 0.8, 0.2, 0.2, 0.2, 0.2, 0.2, 0.2, 0.8, 0.2, 0.8, 0.8, 0.2, 0.2, 0.8, 0.8, 0.2, 0.2, 0.2, 0.2, 0.2, 0.8, 0.2, 0.8, 0.2, 0.2, 0.2, 0.2, 0.8, 0.2, 0.2, 0.2, 0.2, 0.2, 0.2, 0.2, 0.2, 0.2, 0.2, 0.2, 0.2, 0.2, 0.2, 0.2, 0.2, 0.2, 0.2, 0.8, 0.2, 0.8, 0.2, 0.2, 0.2, 0.2, 0.2, 0.2, 0.2, 0.2, 0.2, 0.2, 0.2, 0.2, 0.2, 0.2, 0.2, 0.2, 0.8, 0.2, 0.2, 0.2, 0.2, 0.2, 0.2, 0.2, 0.2, 0.2, 0.2, 0.8, 0.2, 0.2, 0.2, 0.2, 0.8, 0.2, 0.2, 0.2, 0.2, 0.2, 0.2, 0.8, 0.2, 0.8, 0.2, 0.2, 0.2, 0.2, 0.2, 0.2, 0.2, 0.2, 0.2, 0.2, 0.2, 0.2, 0.2, 0.2, 0.2, 0.8, 0.2, 0.2, 0.2, 0.2, 0.8, 0.2, 0.2, 0.8, 0.8, 0.2, 0.2, 0.2, 0.2, 0.2, 0.8, 0.2, 0.2, 0.2, 0.2, 0.2, 0.2, 0.2, 0.2, 0.2, 0.2, 0.2, 0.2, 0.2, 0.2, 0.2, 0.2, 0.8, 0.2, 0.2, 0.2, 0.2, 0.2, 0.2, 0.2, 0.2, 0.2, 0.2, 0.2, 0.2, 0.2, 0.2, 0.2, 0.8, 0.8, 0.2, 0.2, 0.2, 0.2, 0.8, 0.2, 0.2, 0.2, 0.2, 0.2, 0.2, 0.2, 0.2, 0.2, 0.8, 0.2, 0.2, 0.2, 0.2, 0.8, 0.2, 0.2, 0.2, 0.8, 0.2, 0.2, 0.8, 0.2, 0.2, 0.2, 0.2, 0.2, 0.2, 0.2, 0.2, 0.2, 0.2, 0.2, 0.2, 0.2, 0.2, 0.2, 0.2, 0.2, 0.2, 0.2, 0.2, 0.2, 0.8, 0.2, 0.8, 0.2, 0.8, 0.8, 0.2, 0.2, 0.2, 0.2, 0.2, 0.2, 0.2, 0.2, 0.2, 0.2, 0.2, 0.2, 0.2, 0.2, 0.2, 0.8, 0.2, 0.2, 0.2, 0.2, 0.2, 0.2, 0.8, 0.2, 0.2, 0.2, 0.8, 0.2, 0.2, 0.2, 0.2, 0.2, 0.2, 0.8, 0.2, 0.2, 0.2, 0.2, 0.2, 0.2, 0.2, 0.2, 0.2, 0.8, 0.2, 0.8, 0.2, 0.2, 0.2, 0.2, 0.8, 0.2, 0.2, 0.2, 0.8, 0.2, 0.2, 0.8, 0.2, 0.2, 0.2, 0.2, 0.8, 0.8, 0.2, 0.2, 0.2, 0.2, 0.2, 0.2, 0.2, 0.2, 0.2, 0.2, 0.8, 0.8, 0.2, 0.8, 0.2, 0.2, 0.8, 0.2, 0.2, 0.2, 0.8, 0.2, 0.2, 0.2, 0.2, 0.2, 0.2, 0.8, 0.2, 0.2, 0.2, 0.2, 0.2, 0.8, 0.2, 0.2, 0.8, 0.2, 0.2, 0.2, 0.2, 0.2, 0.2, 0.2, 0.2, 0.2, 0.2, 0.2, 0.2, 0.2, 0.2, 0.2, 0.2, 0.2, 0.2, 0.2, 0.8, 0.2, 0.2, 0.2, 0.8, 0.8, 0.2, 0.2, 0.2, 0.8, 0.8, 0.2, 0.2, 0.8, 0.8, 0.2, 0.2, 0.2, 0.8, 0.2, 0.2, 0.8, 0.2, 0.2, 0.2, 0.2, 0.2, 0.2, 0.2, 0.8, 0.2, 0.2, 0.8, 0.2, 0.2, 0.2, 0.2, 0.2, 0.2, 0.2, 0.2, 0.2, 0.2, 0.2, 0.8, 0.2, 0.2, 0.2, 0.2, 0.2, 0.2, 0.2, 0.2, 0.2, 0.2, 0.8, 0.2, 0.2, 0.2, 0.2, 0.8, 0.2, 0.2, 0.2, 0.8, 0.2, 0.2, 0.2, 0.2, 0.2, 0.2, 0.2, 0.2, 0.2, 0.8, 0.2, 0.2, 0.8, 0.2, 0.2, 0.2, 0.8, 0.2, 0.2, 0.2, 0.8, 0.2, 0.2, 0.2, 0.8, 0.2, 0.2, 0.2, 0.2, 0.8, 0.2, 0.2, 0.2, 0.2, 0.2, 0.8, 0.2, 0.2, 0.8, 0.8, 0.2, 0.8, 0.2, 0.2, 0.2, 0.8, 0.2, 0.2, 0.2, 0.2, 0.2, 0.2, 0.2, 0.2, 0.2, 0.8, 0.2, 0.8, 0.8, 0.2, 0.2, 0.2, 0.2, 0.8, 0.2, 0.2, 0.2, 0.2, 0.2, 0.2, 0.8, 0.2, 0.2, 0.2, 0.2, 0.2, 0.2, 0.2, 0.2, 0.2, 0.2, 0.2, 0.2, 0.2, 0.8, 0.8, 0.2, 0.2, 0.2, 0.2, 0.2, 0.2, 0.2, 0.2, 0.2, 0.2, 0.8, 0.2, 0.8, 0.8, 0.2, 0.2, 0.2, 0.2, 0.8, 0.8, 0.2, 0.2, 0.2, 0.2, 0.2, 0.2, 0.2, 0.2, 0.2, 0.2, 0.2, 0.2, 0.2, 0.2, 0.2, 0.2, 0.2, 0.2, 0.2, 0.2, 0.2, 0.2, 0.2, 0.2, 0.2, 0.8, 0.2, 0.2, 0.8, 0.2, 0.8, 0.2, 0.2, 0.2, 0.2, 0.2, 0.2, 0.2, 0.2, 0.8, 0.2, 0.2, 0.2, 0.2, 0.2, 0.8, 0.2, 0.2, 0.8, 0.2, 0.2, 0.2, 0.2, 0.2, 0.2, 0.2, 0.2, 0.2, 0.2, 0.8, 0.8, 0.2, 0.2, 0.2, 0.2, 0.2, 0.2, 0.2, 0.8, 0.2, 0.2, 0.2, 0.2, 0.2, 0.2, 0.2, 0.2, 0.8, 0.2, 0.2, 0.2, 0.8, 0.2, 0.2, 0.2, 0.2, 0.2, 0.8, 0.8, 0.2, 0.8, 0.2, 0.8, 0.2, 0.2, 0.2, 0.2, 0.8, 0.2, 0.2, 0.2, 0.8, 0.2, 0.2, 0.2, 0.8, 0.2, 0.2, 0.2, 0.2, 0.2, 0.8, 0.8, 0.8, 0.2, 0.2, 0.2, 0.8, 0.2, 0.8, 0.2, 0.2, 0.8, 0.2, 0.2, 0.2, 0.2, 0.2, 0.2, 0.2, 0.2, 0.2, 0.2, 0.2, 0.2, 0.2, 0.8, 0.8, 0.2, 0.2, 0.2, 0.2, 0.2, 0.8, 0.2, 0.2, 0.2, 0.2, 0.8, 0.2, 0.2, 0.2, 0.2, 0.8, 0.8, 0.8, 0.8, 0.2, 0.2, 0.8, 0.2, 0.2, 0.8, 0.2, 0.2, 0.2, 0.2, 0.8, 0.2, 0.2, 0.2, 0.2, 0.2, 0.2, 0.2, 0.2, 0.2, 0.2, 0.2, 0.2, 0.2, 0.8, 0.2, 0.8, 0.8, 0.2, 0.2, 0.2, 0.2, 0.2, 0.2, 0.2, 0.2, 0.2, 0.2, 0.2, 0.2, 0.8, 0.8, 0.2, 0.2, 0.8, 0.2, 0.2, 0.2, 0.2, 0.8, 0.2, 0.2, 0.2, 0.2, 0.8, 0.2, 0.2, 0.2, 0.2, 0.2, 0.2, 0.2, 0.8, 0.2, 0.2, 0.2, 0.2, 0.2, 0.2, 0.8, 0.2, 0.2, 0.2, 0.2, 0.8, 0.2, 0.2, 0.2, 0.2, 0.2, 0.2, 0.2, 0.8, 0.2, 0.8, 0.2, 0.8, 0.2, 0.2, 0.2, 0.8, 0.2, 0.2, 0.8, 0.2, 0.2, 0.2, 0.2, 0.2, 0.2, 0.8, 0.8, 0.2, 0.2, 0.2, 0.2, 0.2, 0.2, 0.2, 0.2, 0.2, 0.2, 0.8, 0.2, 0.2, 0.2, 0.2, 0.2, 0.8, 0.8, 0.2, 0.2, 0.2, 0.2, 0.8, 0.2, 0.2, 0.2, 0.2, 0.2, 0.2, 0.2, 0.2, 0.2, 0.8, 0.8, 0.2, 0.2, 0.2, 0.8, 0.2, 0.2, 0.2, 0.8, 0.2, 0.8, 0.2, 0.2, 0.2, 0.2, 0.8, 0.2, 0.2, 0.2, 0.2, 0.2, 0.8, 0.2, 0.2, 0.2, 0.2, 0.2, 0.8, 0.2, 0.8, 0.2, 0.2, 0.8, 0.8, 0.2, 0.2, 0.2, 0.2, 0.2, 0.8, 0.8, 0.2, 0.2, 0.2, 0.2, 0.8, 0.2, 0.2, 0.2, 0.2, 0.2, 0.2, 0.2, 0.2, 0.2, 0.2, 0.2, 0.2, 0.8, 0.8, 0.2, 0.2, 0.2, 0.8, 0.2, 0.2, 0.8, 0.2, 0.2, 0.8, 0.2, 0.2, 0.2, 0.8, 0.2, 0.2, 0.2, 0.2, 0.2, 0.2, 0.2, 0.2, 0.2, 0.8, 0.2, 0.2, 0.8, 0.8, 0.2, 0.2, 0.2, 0.2, 0.2, 0.2, 0.2, 0.2, 0.2, 0.2, 0.2, 0.8, 0.2, 0.2, 0.2, 0.2, 0.2, 0.8, 0.8, 0.2, 0.2, 0.2, 0.2, 0.2, 0.2, 0.2, 0.2, 0.2, 0.2, 0.2, 0.8, 0.2, 0.8, 0.2, 0.8, 0.2, 0.2, 0.8, 0.2, 0.2, 0.8, 0.2, 0.8, 0.2, 0.8, 0.2, 0.2, 0.8, 0.2, 0.2, 0.2, 0.2, 0.2, 0.2, 0.2, 0.2, 0.2, 0.8, 0.2, 0.8, 0.2, 0.2, 0.2, 0.2, 0.8, 0.2, 0.8, 0.2, 0.2, 0.8, 0.2, 0.2, 0.8, 0.2, 0.2, 0.8, 0.2, 0.2, 0.2, 0.2, 0.2, 0.2, 0.2, 0.8, 0.2, 0.2, 0.2, 0.2, 0.8, 0.8, 0.8, 0.2, 0.2, 0.2, 0.2, 0.8, 0.8, 0.2, 0.2, 0.2, 0.8, 0.2, 0.2, 0.2, 0.2, 0.2, 0.2, 0.8, 0.2, 0.2, 0.2, 0.2, 0.8]\n",
      "\n",
      "General Reconstruction Probability:\n",
      "0.3699680000000001\n",
      "\n",
      "Privacy Measure:\n",
      "63.00319999999999\n",
      "\n",
      "Trade-off Analysis:\n",
      "Weight 'a' for R1(p): 0.7\n",
      "Identity Error (σ+) for 1-itemsets: 100.0\n",
      "Identity Error (σ-) for 1-itemsets: 100.0\n"
     ]
    }
   ],
   "source": [
    "import pandas as pd\n",
    "import numpy as np\n",
    "\n",
    "def support_error(reconstructed_support, actual_support):\n",
    "    return np.abs(reconstructed_support - actual_support) / actual_support * 100\n",
    "\n",
    "def identity_error(reconstructed_set, correct_set):\n",
    "    false_positives = len(set(map(frozenset, reconstructed_set)) - set(map(frozenset, correct_set)))\n",
    "    false_negatives = len(set(map(frozenset, correct_set)) - set(map(frozenset, reconstructed_set)))\n",
    "    total_frequent_itemsets = len(correct_set)\n",
    "    \n",
    "    sigma_plus = false_positives / total_frequent_itemsets * 100\n",
    "    sigma_minus = false_negatives / total_frequent_itemsets * 100\n",
    "    \n",
    "    return sigma_plus, sigma_minus\n",
    "\n",
    "# Load real dataset \n",
    "file_path = 'streaming_preferences_dataset.csv'\n",
    "real_dataset_df = pd.read_csv(file_path)\n",
    "\n",
    "# Convert the DataFrame to a NumPy array\n",
    "real_dataset = real_dataset_df.to_numpy()\n",
    "\n",
    "# Define privacy factor\n",
    "privacy_factor = 0.2\n",
    "a = 0.7\n",
    "\n",
    "# Apply distortion\n",
    "distorted_dataset = distort_user_data(real_dataset, privacy_factor)\n",
    "\n",
    "\n",
    "# Display the distorted dataset\n",
    "display_bit_vectors(real_dataset, distorted_dataset)\n",
    "\n",
    "# Compute reconstruction probabilities\n",
    "reconstruction_probabilities = []\n",
    "for i in range(len(distorted_dataset)):\n",
    "    for j in range(len(distorted_dataset[i])):\n",
    "        true_value = real_dataset[i, j]\n",
    "        distorted_value = distorted_dataset[i, j]\n",
    "        reconstruction_probabilities.append(compute_reconstruction_probability(true_value, distorted_value, privacy_factor))\n",
    "\n",
    "# Compute general reconstruction probability\n",
    "general_reconstruction_probability = compute_general_reconstruction_equation(privacy_factor, reconstruction_probabilities, a)\n",
    "\n",
    "# Compute privacy measure\n",
    "privacy_measure = compute_privacy_measure(general_reconstruction_probability)\n",
    "\n",
    "# Evaluate and interpret results\n",
    "evaluate_and_interpret_results(reconstruction_probabilities, general_reconstruction_probability, privacy_measure, a)\n",
    "\n",
    "# Extract the actual reconstructed set for 1-itemsets from the distorted dataset\n",
    "reconstructed_set_1 = [set(np.where(distorted_dataset[:, i] == 1)[0]) for i in range(distorted_dataset.shape[1])]\n",
    "\n",
    "#  set of frequent itemsets for 1-itemsets\n",
    "correct_set_1 = [{1, 2}, {4}, {2, 4}, {1, 3, 5}, {1, 4, 5}, {3}, {2}, {1, 2, 4, 5}, {3, 5}, {2, 3}]\n",
    "\n",
    "# Calculate identity errors\n",
    "sigma_plus_1, sigma_minus_1 = identity_error(reconstructed_set_1, correct_set_1)\n",
    "print(\"Identity Error (σ+) for 1-itemsets:\", sigma_plus_1)\n",
    "print(\"Identity Error (σ-) for 1-itemsets:\", sigma_minus_1)"
   ]
  },
  {
   "cell_type": "markdown",
   "metadata": {},
   "source": [
    "Selecting a Specific Row: Chooses a specific row from the dataset for demonstration purposes.\n",
    "\n",
    "Defining Privacy Factor and Epsilon Values: Sets the privacy factor (privacy_factor) and epsilon values (epsilon1 and epsilon2) for the differential privacy mechanism.\n",
    "\n",
    "Calculating Number of 1's and 0's: Computes the number of 1's (n) and 0's (m) in the selected row.\n",
    "\n",
    "Defining a Function to Calculate P_E: Defines a function calculate_PE to compute the privacy loss (P_E) based on the binomial distribution.\n",
    "\n",
    "Calculating P_E for Initial and Distorted Columns: Calculates P_E for the initial and distorted columns based on the given privacy factor and epsilon values.\n",
    "\n",
    "Calculating Reconstruction Error Bounds: Computes the reconstruction error bounds (delta_n) based on the epsilon values.\n",
    "\n",
    "Printing the Results: Prints the calculated values for the number of 1's and 0's, P_E for the initial and distorted columns, and the reconstruction error bounds."
   ]
  },
  {
   "cell_type": "code",
   "execution_count": 515,
   "metadata": {},
   "outputs": [
    {
     "name": "stdout",
     "output_type": "stream",
     "text": [
      "Number of 1's (n): 3\n",
      "Number of 0's (m): 7\n",
      "P_E for initial column: 1.280000000000001e-05\n",
      "P_E for distorted column: 0.008000000000000002\n",
      "Reconstruction error bounds (delta_n): -0.16666666666666669\n"
     ]
    }
   ],
   "source": [
    "import numpy as np\n",
    "from scipy.stats import binom\n",
    "\n",
    "# Load the dataset\n",
    "file_path = 'streaming_preferences_dataset.csv'\n",
    "dataset_df = pd.read_csv(file_path)\n",
    "\n",
    "# Choose a specific row for demonstration \n",
    "selected_row = dataset_df.iloc[0]\n",
    "\n",
    "# Define privacy factor (p)\n",
    "privacy_factor = 0.2\n",
    "\n",
    "# Define epsilon values\n",
    "epsilon1 = 0.05\n",
    "epsilon2 = 0.05\n",
    "\n",
    "# Calculate n (number of 1's) and m (number of 0's) for the selected row\n",
    "n = selected_row.sum()\n",
    "m = len(selected_row) - n\n",
    "\n",
    "# Define the function to calculate P_E\n",
    "def calculate_PE(n, p, epsilon):\n",
    "    r_values = np.arange(np.ceil(n - epsilon), np.floor(n + epsilon) + 1)\n",
    "    probabilities = binom.pmf(r_values, n, p)\n",
    "    return np.sum(probabilities)\n",
    "\n",
    "# Calculate P_E for the initial column\n",
    "PE_initial = calculate_PE(m, privacy_factor, epsilon1)\n",
    "\n",
    "# Calculate P_E for the distorted column\n",
    "PE_distorted = calculate_PE(n, privacy_factor, epsilon2)\n",
    "\n",
    "# Calculate the reconstruction error bounds\n",
    "delta_n0 = epsilon1 + epsilon2\n",
    "delta_n = delta_n0 / (2 * privacy_factor - 1)\n",
    "\n",
    "# Print the results\n",
    "print(f\"Number of 1's (n): {n}\")\n",
    "print(f\"Number of 0's (m): {m}\")\n",
    "print(f\"P_E for initial column: {PE_initial}\")\n",
    "print(f\"P_E for distorted column: {PE_distorted}\")\n",
    "print(f\"Reconstruction error bounds (delta_n): {delta_n}\")\n"
   ]
  }
 ],
 "metadata": {
  "kernelspec": {
   "display_name": "Python 3",
   "language": "python",
   "name": "python3"
  },
  "language_info": {
   "codemirror_mode": {
    "name": "ipython",
    "version": 3
   },
   "file_extension": ".py",
   "mimetype": "text/x-python",
   "name": "python",
   "nbconvert_exporter": "python",
   "pygments_lexer": "ipython3",
   "version": "3.9.13"
  }
 },
 "nbformat": 4,
 "nbformat_minor": 2
}
